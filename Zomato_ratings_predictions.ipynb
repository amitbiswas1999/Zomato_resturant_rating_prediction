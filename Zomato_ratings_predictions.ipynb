{
 "cells": [
  {
   "cell_type": "code",
   "execution_count": 1,
   "metadata": {
    "id": "8lqOxtgkqhL9"
   },
   "outputs": [],
   "source": [
    "import pandas as pd\n",
    "import numpy as np\n",
    "import matplotlib.pyplot as plt\n",
    "import re\n",
    "import seaborn as sns\n",
    "from pandas import read_csv\n",
    "import wordcloud\n",
    "from wordcloud import WordCloud,STOPWORDS\n",
    "\n",
    "### so that u dont have warnings\n",
    "from warnings import filterwarnings\n",
    "filterwarnings('ignore')"
   ]
  },
  {
   "cell_type": "code",
   "execution_count": 2,
   "metadata": {
    "colab": {
     "base_uri": "https://localhost:8080/"
    },
    "id": "GTKRFvxZqr0g",
    "outputId": "b1e07c49-f605-4dde-f141-5065d8afcc6a"
   },
   "outputs": [
    {
     "name": "stdout",
     "output_type": "stream",
     "text": [
      "Mounted at /content/drive/\n"
     ]
    }
   ],
   "source": [
    "from google.colab import drive\n",
    "drive.mount('/content/drive/')"
   ]
  },
  {
   "cell_type": "code",
   "execution_count": 3,
   "metadata": {
    "colab": {
     "base_uri": "https://localhost:8080/",
     "height": 669
    },
    "id": "zHthyuiyqhL_",
    "outputId": "5d22ad9a-59cc-4084-dd4d-1dafb2dfb46d"
   },
   "outputs": [
    {
     "name": "stdout",
     "output_type": "stream",
     "text": [
      "Dataset shape: (51717, 17)\n"
     ]
    },
    {
     "data": {
      "text/html": [
       "\n",
       "  <div id=\"df-32fcd942-7e33-4fbd-9e66-ff49fb30fda3\">\n",
       "    <div class=\"colab-df-container\">\n",
       "      <div>\n",
       "<style scoped>\n",
       "    .dataframe tbody tr th:only-of-type {\n",
       "        vertical-align: middle;\n",
       "    }\n",
       "\n",
       "    .dataframe tbody tr th {\n",
       "        vertical-align: top;\n",
       "    }\n",
       "\n",
       "    .dataframe thead th {\n",
       "        text-align: right;\n",
       "    }\n",
       "</style>\n",
       "<table border=\"1\" class=\"dataframe\">\n",
       "  <thead>\n",
       "    <tr style=\"text-align: right;\">\n",
       "      <th></th>\n",
       "      <th>url</th>\n",
       "      <th>address</th>\n",
       "      <th>name</th>\n",
       "      <th>online_order</th>\n",
       "      <th>book_table</th>\n",
       "      <th>rate</th>\n",
       "      <th>votes</th>\n",
       "      <th>phone</th>\n",
       "      <th>location</th>\n",
       "      <th>rest_type</th>\n",
       "      <th>dish_liked</th>\n",
       "      <th>cuisines</th>\n",
       "      <th>approx_cost(for two people)</th>\n",
       "      <th>reviews_list</th>\n",
       "      <th>menu_item</th>\n",
       "      <th>listed_in(type)</th>\n",
       "      <th>listed_in(city)</th>\n",
       "    </tr>\n",
       "  </thead>\n",
       "  <tbody>\n",
       "    <tr>\n",
       "      <th>0</th>\n",
       "      <td>https://www.zomato.com/bangalore/jalsa-banasha...</td>\n",
       "      <td>942, 21st Main Road, 2nd Stage, Banashankari, ...</td>\n",
       "      <td>Jalsa</td>\n",
       "      <td>Yes</td>\n",
       "      <td>Yes</td>\n",
       "      <td>4.1/5</td>\n",
       "      <td>775</td>\n",
       "      <td>080 42297555\\r\\n+91 9743772233</td>\n",
       "      <td>Banashankari</td>\n",
       "      <td>Casual Dining</td>\n",
       "      <td>Pasta, Lunch Buffet, Masala Papad, Paneer Laja...</td>\n",
       "      <td>North Indian, Mughlai, Chinese</td>\n",
       "      <td>800</td>\n",
       "      <td>[('Rated 4.0', 'RATED\\n  A beautiful place to ...</td>\n",
       "      <td>[]</td>\n",
       "      <td>Buffet</td>\n",
       "      <td>Banashankari</td>\n",
       "    </tr>\n",
       "    <tr>\n",
       "      <th>1</th>\n",
       "      <td>https://www.zomato.com/bangalore/spice-elephan...</td>\n",
       "      <td>2nd Floor, 80 Feet Road, Near Big Bazaar, 6th ...</td>\n",
       "      <td>Spice Elephant</td>\n",
       "      <td>Yes</td>\n",
       "      <td>No</td>\n",
       "      <td>4.1/5</td>\n",
       "      <td>787</td>\n",
       "      <td>080 41714161</td>\n",
       "      <td>Banashankari</td>\n",
       "      <td>Casual Dining</td>\n",
       "      <td>Momos, Lunch Buffet, Chocolate Nirvana, Thai G...</td>\n",
       "      <td>Chinese, North Indian, Thai</td>\n",
       "      <td>800</td>\n",
       "      <td>[('Rated 4.0', 'RATED\\n  Had been here for din...</td>\n",
       "      <td>[]</td>\n",
       "      <td>Buffet</td>\n",
       "      <td>Banashankari</td>\n",
       "    </tr>\n",
       "    <tr>\n",
       "      <th>2</th>\n",
       "      <td>https://www.zomato.com/SanchurroBangalore?cont...</td>\n",
       "      <td>1112, Next to KIMS Medical College, 17th Cross...</td>\n",
       "      <td>San Churro Cafe</td>\n",
       "      <td>Yes</td>\n",
       "      <td>No</td>\n",
       "      <td>3.8/5</td>\n",
       "      <td>918</td>\n",
       "      <td>+91 9663487993</td>\n",
       "      <td>Banashankari</td>\n",
       "      <td>Cafe, Casual Dining</td>\n",
       "      <td>Churros, Cannelloni, Minestrone Soup, Hot Choc...</td>\n",
       "      <td>Cafe, Mexican, Italian</td>\n",
       "      <td>800</td>\n",
       "      <td>[('Rated 3.0', \"RATED\\n  Ambience is not that ...</td>\n",
       "      <td>[]</td>\n",
       "      <td>Buffet</td>\n",
       "      <td>Banashankari</td>\n",
       "    </tr>\n",
       "    <tr>\n",
       "      <th>3</th>\n",
       "      <td>https://www.zomato.com/bangalore/addhuri-udupi...</td>\n",
       "      <td>1st Floor, Annakuteera, 3rd Stage, Banashankar...</td>\n",
       "      <td>Addhuri Udupi Bhojana</td>\n",
       "      <td>No</td>\n",
       "      <td>No</td>\n",
       "      <td>3.7/5</td>\n",
       "      <td>88</td>\n",
       "      <td>+91 9620009302</td>\n",
       "      <td>Banashankari</td>\n",
       "      <td>Quick Bites</td>\n",
       "      <td>Masala Dosa</td>\n",
       "      <td>South Indian, North Indian</td>\n",
       "      <td>300</td>\n",
       "      <td>[('Rated 4.0', \"RATED\\n  Great food and proper...</td>\n",
       "      <td>[]</td>\n",
       "      <td>Buffet</td>\n",
       "      <td>Banashankari</td>\n",
       "    </tr>\n",
       "    <tr>\n",
       "      <th>4</th>\n",
       "      <td>https://www.zomato.com/bangalore/grand-village...</td>\n",
       "      <td>10, 3rd Floor, Lakshmi Associates, Gandhi Baza...</td>\n",
       "      <td>Grand Village</td>\n",
       "      <td>No</td>\n",
       "      <td>No</td>\n",
       "      <td>3.8/5</td>\n",
       "      <td>166</td>\n",
       "      <td>+91 8026612447\\r\\n+91 9901210005</td>\n",
       "      <td>Basavanagudi</td>\n",
       "      <td>Casual Dining</td>\n",
       "      <td>Panipuri, Gol Gappe</td>\n",
       "      <td>North Indian, Rajasthani</td>\n",
       "      <td>600</td>\n",
       "      <td>[('Rated 4.0', 'RATED\\n  Very good restaurant ...</td>\n",
       "      <td>[]</td>\n",
       "      <td>Buffet</td>\n",
       "      <td>Banashankari</td>\n",
       "    </tr>\n",
       "  </tbody>\n",
       "</table>\n",
       "</div>\n",
       "      <button class=\"colab-df-convert\" onclick=\"convertToInteractive('df-32fcd942-7e33-4fbd-9e66-ff49fb30fda3')\"\n",
       "              title=\"Convert this dataframe to an interactive table.\"\n",
       "              style=\"display:none;\">\n",
       "        \n",
       "  <svg xmlns=\"http://www.w3.org/2000/svg\" height=\"24px\"viewBox=\"0 0 24 24\"\n",
       "       width=\"24px\">\n",
       "    <path d=\"M0 0h24v24H0V0z\" fill=\"none\"/>\n",
       "    <path d=\"M18.56 5.44l.94 2.06.94-2.06 2.06-.94-2.06-.94-.94-2.06-.94 2.06-2.06.94zm-11 1L8.5 8.5l.94-2.06 2.06-.94-2.06-.94L8.5 2.5l-.94 2.06-2.06.94zm10 10l.94 2.06.94-2.06 2.06-.94-2.06-.94-.94-2.06-.94 2.06-2.06.94z\"/><path d=\"M17.41 7.96l-1.37-1.37c-.4-.4-.92-.59-1.43-.59-.52 0-1.04.2-1.43.59L10.3 9.45l-7.72 7.72c-.78.78-.78 2.05 0 2.83L4 21.41c.39.39.9.59 1.41.59.51 0 1.02-.2 1.41-.59l7.78-7.78 2.81-2.81c.8-.78.8-2.07 0-2.86zM5.41 20L4 18.59l7.72-7.72 1.47 1.35L5.41 20z\"/>\n",
       "  </svg>\n",
       "      </button>\n",
       "      \n",
       "  <style>\n",
       "    .colab-df-container {\n",
       "      display:flex;\n",
       "      flex-wrap:wrap;\n",
       "      gap: 12px;\n",
       "    }\n",
       "\n",
       "    .colab-df-convert {\n",
       "      background-color: #E8F0FE;\n",
       "      border: none;\n",
       "      border-radius: 50%;\n",
       "      cursor: pointer;\n",
       "      display: none;\n",
       "      fill: #1967D2;\n",
       "      height: 32px;\n",
       "      padding: 0 0 0 0;\n",
       "      width: 32px;\n",
       "    }\n",
       "\n",
       "    .colab-df-convert:hover {\n",
       "      background-color: #E2EBFA;\n",
       "      box-shadow: 0px 1px 2px rgba(60, 64, 67, 0.3), 0px 1px 3px 1px rgba(60, 64, 67, 0.15);\n",
       "      fill: #174EA6;\n",
       "    }\n",
       "\n",
       "    [theme=dark] .colab-df-convert {\n",
       "      background-color: #3B4455;\n",
       "      fill: #D2E3FC;\n",
       "    }\n",
       "\n",
       "    [theme=dark] .colab-df-convert:hover {\n",
       "      background-color: #434B5C;\n",
       "      box-shadow: 0px 1px 3px 1px rgba(0, 0, 0, 0.15);\n",
       "      filter: drop-shadow(0px 1px 2px rgba(0, 0, 0, 0.3));\n",
       "      fill: #FFFFFF;\n",
       "    }\n",
       "  </style>\n",
       "\n",
       "      <script>\n",
       "        const buttonEl =\n",
       "          document.querySelector('#df-32fcd942-7e33-4fbd-9e66-ff49fb30fda3 button.colab-df-convert');\n",
       "        buttonEl.style.display =\n",
       "          google.colab.kernel.accessAllowed ? 'block' : 'none';\n",
       "\n",
       "        async function convertToInteractive(key) {\n",
       "          const element = document.querySelector('#df-32fcd942-7e33-4fbd-9e66-ff49fb30fda3');\n",
       "          const dataTable =\n",
       "            await google.colab.kernel.invokeFunction('convertToInteractive',\n",
       "                                                     [key], {});\n",
       "          if (!dataTable) return;\n",
       "\n",
       "          const docLinkHtml = 'Like what you see? Visit the ' +\n",
       "            '<a target=\"_blank\" href=https://colab.research.google.com/notebooks/data_table.ipynb>data table notebook</a>'\n",
       "            + ' to learn more about interactive tables.';\n",
       "          element.innerHTML = '';\n",
       "          dataTable['output_type'] = 'display_data';\n",
       "          await google.colab.output.renderOutput(dataTable, element);\n",
       "          const docLink = document.createElement('div');\n",
       "          docLink.innerHTML = docLinkHtml;\n",
       "          element.appendChild(docLink);\n",
       "        }\n",
       "      </script>\n",
       "    </div>\n",
       "  </div>\n",
       "  "
      ],
      "text/plain": [
       "                                                 url  \\\n",
       "0  https://www.zomato.com/bangalore/jalsa-banasha...   \n",
       "1  https://www.zomato.com/bangalore/spice-elephan...   \n",
       "2  https://www.zomato.com/SanchurroBangalore?cont...   \n",
       "3  https://www.zomato.com/bangalore/addhuri-udupi...   \n",
       "4  https://www.zomato.com/bangalore/grand-village...   \n",
       "\n",
       "                                             address                   name  \\\n",
       "0  942, 21st Main Road, 2nd Stage, Banashankari, ...                  Jalsa   \n",
       "1  2nd Floor, 80 Feet Road, Near Big Bazaar, 6th ...         Spice Elephant   \n",
       "2  1112, Next to KIMS Medical College, 17th Cross...        San Churro Cafe   \n",
       "3  1st Floor, Annakuteera, 3rd Stage, Banashankar...  Addhuri Udupi Bhojana   \n",
       "4  10, 3rd Floor, Lakshmi Associates, Gandhi Baza...          Grand Village   \n",
       "\n",
       "  online_order book_table   rate  votes                             phone  \\\n",
       "0          Yes        Yes  4.1/5    775    080 42297555\\r\\n+91 9743772233   \n",
       "1          Yes         No  4.1/5    787                      080 41714161   \n",
       "2          Yes         No  3.8/5    918                    +91 9663487993   \n",
       "3           No         No  3.7/5     88                    +91 9620009302   \n",
       "4           No         No  3.8/5    166  +91 8026612447\\r\\n+91 9901210005   \n",
       "\n",
       "       location            rest_type  \\\n",
       "0  Banashankari        Casual Dining   \n",
       "1  Banashankari        Casual Dining   \n",
       "2  Banashankari  Cafe, Casual Dining   \n",
       "3  Banashankari          Quick Bites   \n",
       "4  Basavanagudi        Casual Dining   \n",
       "\n",
       "                                          dish_liked  \\\n",
       "0  Pasta, Lunch Buffet, Masala Papad, Paneer Laja...   \n",
       "1  Momos, Lunch Buffet, Chocolate Nirvana, Thai G...   \n",
       "2  Churros, Cannelloni, Minestrone Soup, Hot Choc...   \n",
       "3                                        Masala Dosa   \n",
       "4                                Panipuri, Gol Gappe   \n",
       "\n",
       "                         cuisines approx_cost(for two people)  \\\n",
       "0  North Indian, Mughlai, Chinese                         800   \n",
       "1     Chinese, North Indian, Thai                         800   \n",
       "2          Cafe, Mexican, Italian                         800   \n",
       "3      South Indian, North Indian                         300   \n",
       "4        North Indian, Rajasthani                         600   \n",
       "\n",
       "                                        reviews_list menu_item  \\\n",
       "0  [('Rated 4.0', 'RATED\\n  A beautiful place to ...        []   \n",
       "1  [('Rated 4.0', 'RATED\\n  Had been here for din...        []   \n",
       "2  [('Rated 3.0', \"RATED\\n  Ambience is not that ...        []   \n",
       "3  [('Rated 4.0', \"RATED\\n  Great food and proper...        []   \n",
       "4  [('Rated 4.0', 'RATED\\n  Very good restaurant ...        []   \n",
       "\n",
       "  listed_in(type) listed_in(city)  \n",
       "0          Buffet    Banashankari  \n",
       "1          Buffet    Banashankari  \n",
       "2          Buffet    Banashankari  \n",
       "3          Buffet    Banashankari  \n",
       "4          Buffet    Banashankari  "
      ]
     },
     "execution_count": 3,
     "metadata": {},
     "output_type": "execute_result"
    }
   ],
   "source": [
    "# Reading restaurants data\n",
    "data_path = '/content/drive/MyDrive/NLP project/zomato.csv'\n",
    "df= read_csv(data_path)\n",
    "print(f'Dataset shape: {df.shape}')\n",
    "df.head()"
   ]
  },
  {
   "cell_type": "markdown",
   "metadata": {
    "id": "jSp1EZ2Jvc74"
   },
   "source": [
    "**overview from the data**"
   ]
  },
  {
   "cell_type": "code",
   "execution_count": 4,
   "metadata": {
    "colab": {
     "base_uri": "https://localhost:8080/"
    },
    "id": "fD9YBY4tqhMF",
    "outputId": "3ec61e09-17a1-4a09-a689-df2d686f982d"
   },
   "outputs": [
    {
     "name": "stdout",
     "output_type": "stream",
     "text": [
      "<class 'pandas.core.frame.DataFrame'>\n",
      "RangeIndex: 51717 entries, 0 to 51716\n",
      "Data columns (total 17 columns):\n",
      " #   Column                       Non-Null Count  Dtype \n",
      "---  ------                       --------------  ----- \n",
      " 0   url                          51717 non-null  object\n",
      " 1   address                      51717 non-null  object\n",
      " 2   name                         51717 non-null  object\n",
      " 3   online_order                 51717 non-null  object\n",
      " 4   book_table                   51717 non-null  object\n",
      " 5   rate                         43942 non-null  object\n",
      " 6   votes                        51717 non-null  int64 \n",
      " 7   phone                        50509 non-null  object\n",
      " 8   location                     51696 non-null  object\n",
      " 9   rest_type                    51490 non-null  object\n",
      " 10  dish_liked                   23639 non-null  object\n",
      " 11  cuisines                     51672 non-null  object\n",
      " 12  approx_cost(for two people)  51371 non-null  object\n",
      " 13  reviews_list                 51717 non-null  object\n",
      " 14  menu_item                    51717 non-null  object\n",
      " 15  listed_in(type)              51717 non-null  object\n",
      " 16  listed_in(city)              51717 non-null  object\n",
      "dtypes: int64(1), object(16)\n",
      "memory usage: 6.7+ MB\n"
     ]
    }
   ],
   "source": [
    "df.info()"
   ]
  },
  {
   "cell_type": "code",
   "execution_count": 5,
   "metadata": {
    "colab": {
     "base_uri": "https://localhost:8080/"
    },
    "id": "7qfxEX3qqhMG",
    "outputId": "11df0618-b7cc-463f-b602-e833771bc846"
   },
   "outputs": [
    {
     "data": {
      "text/plain": [
       "url                                0\n",
       "address                            0\n",
       "name                               0\n",
       "online_order                       0\n",
       "book_table                         0\n",
       "rate                            7775\n",
       "votes                              0\n",
       "phone                           1208\n",
       "location                          21\n",
       "rest_type                        227\n",
       "dish_liked                     28078\n",
       "cuisines                          45\n",
       "approx_cost(for two people)      346\n",
       "reviews_list                       0\n",
       "menu_item                          0\n",
       "listed_in(type)                    0\n",
       "listed_in(city)                    0\n",
       "dtype: int64"
      ]
     },
     "execution_count": 5,
     "metadata": {},
     "output_type": "execute_result"
    }
   ],
   "source": [
    "df.isnull().sum()"
   ]
  },
  {
   "cell_type": "code",
   "execution_count": 6,
   "metadata": {
    "colab": {
     "base_uri": "https://localhost:8080/"
    },
    "id": "PBOSrusSqhMH",
    "outputId": "bc5d86da-8847-43c3-846b-56b0aa37c567"
   },
   "outputs": [
    {
     "data": {
      "text/plain": [
       "['rate',\n",
       " 'phone',\n",
       " 'location',\n",
       " 'rest_type',\n",
       " 'dish_liked',\n",
       " 'cuisines',\n",
       " 'approx_cost(for two people)']"
      ]
     },
     "execution_count": 6,
     "metadata": {},
     "output_type": "execute_result"
    }
   ],
   "source": [
    "feature_na=[feature for feature in df.columns if df[feature].isnull().sum()>0]\n",
    "feature_na"
   ]
  },
  {
   "cell_type": "code",
   "execution_count": 7,
   "metadata": {
    "colab": {
     "base_uri": "https://localhost:8080/"
    },
    "id": "z7Hh8JyPqhMI",
    "outputId": "c75321cd-7b4e-42de-e2ee-a47f68db2850"
   },
   "outputs": [
    {
     "name": "stdout",
     "output_type": "stream",
     "text": [
      "rate :-          15.0337 % missing values\n",
      "phone :-          2.3358 % missing values\n",
      "location :-          0.0406 % missing values\n",
      "rest_type :-          0.4389 % missing values\n",
      "dish_liked :-          54.2916 % missing values\n",
      "cuisines :-          0.087 % missing values\n",
      "approx_cost(for two people) :-          0.669 % missing values\n"
     ]
    }
   ],
   "source": [
    "#% of missing values\n",
    "import numpy as np\n",
    "for feature in feature_na:\n",
    "    print('{} :-          {} % missing values'.format(feature,np.round(df[feature].isnull().sum()/len(df)*100,4)))"
   ]
  },
  {
   "cell_type": "code",
   "execution_count": 8,
   "metadata": {
    "id": "dpBevuNbqhMJ"
   },
   "outputs": [],
   "source": [
    "# Making a copy of the data to work on\n",
    "data = df.copy()"
   ]
  },
  {
   "cell_type": "code",
   "execution_count": 9,
   "metadata": {
    "colab": {
     "base_uri": "https://localhost:8080/",
     "height": 455
    },
    "id": "f5D-mc4sqhML",
    "outputId": "ff9c573b-e09d-42ec-e467-036d351eda7b"
   },
   "outputs": [
    {
     "data": {
      "text/html": [
       "\n",
       "  <div id=\"df-1dbe76c9-fa3c-4725-9013-754a2762a0c9\">\n",
       "    <div class=\"colab-df-container\">\n",
       "      <div>\n",
       "<style scoped>\n",
       "    .dataframe tbody tr th:only-of-type {\n",
       "        vertical-align: middle;\n",
       "    }\n",
       "\n",
       "    .dataframe tbody tr th {\n",
       "        vertical-align: top;\n",
       "    }\n",
       "\n",
       "    .dataframe thead th {\n",
       "        text-align: right;\n",
       "    }\n",
       "</style>\n",
       "<table border=\"1\" class=\"dataframe\">\n",
       "  <thead>\n",
       "    <tr style=\"text-align: right;\">\n",
       "      <th></th>\n",
       "      <th></th>\n",
       "      <th>listed_in(type)</th>\n",
       "    </tr>\n",
       "    <tr>\n",
       "      <th>name</th>\n",
       "      <th>address</th>\n",
       "      <th></th>\n",
       "    </tr>\n",
       "  </thead>\n",
       "  <tbody>\n",
       "    <tr>\n",
       "      <th>#FeelTheROLL</th>\n",
       "      <th>Opposite Mantri Commercio, Outer Ring Road, Devarabisanahalli, Near Sakra World Hospital</th>\n",
       "      <td>[Delivery, Delivery]</td>\n",
       "    </tr>\n",
       "    <tr>\n",
       "      <th>#L-81 Cafe</th>\n",
       "      <th>Sector 6, HSR Layout, HSR</th>\n",
       "      <td>[Delivery, Dine-out, Delivery, Dine-out, Deliv...</td>\n",
       "    </tr>\n",
       "    <tr>\n",
       "      <th>#Vibes Restro</th>\n",
       "      <th>Marasur Gate, Chandapura - Anekal Road, Near Aliance Collage, Electronic City, Bangalore</th>\n",
       "      <td>[Buffet, Delivery, Dine-out]</td>\n",
       "    </tr>\n",
       "    <tr>\n",
       "      <th>#refuel</th>\n",
       "      <th>7, Ground Floor, RR Commercial Complex, Akshay Nagar, Bannerghatta Road, Bangalore</th>\n",
       "      <td>[Cafes, Delivery, Dine-out]</td>\n",
       "    </tr>\n",
       "    <tr>\n",
       "      <th>'Brahmins' Thatte Idli</th>\n",
       "      <th>19, 1st main, 2nd cross, 3rd stage, 3rd block, Basaveshwara Nagar, Bangalore</th>\n",
       "      <td>[Dine-out]</td>\n",
       "    </tr>\n",
       "    <tr>\n",
       "      <th>...</th>\n",
       "      <th>...</th>\n",
       "      <td>...</td>\n",
       "    </tr>\n",
       "    <tr>\n",
       "      <th rowspan=\"2\" valign=\"top\">nu.tree</th>\n",
       "      <th>47/7 First floor, DoddaThogur Road, Near Velankani Gate 2, Phase 1, Electronic City, Bangalore</th>\n",
       "      <td>[Delivery]</td>\n",
       "    </tr>\n",
       "    <tr>\n",
       "      <th>Ground Floor-Lobby Area, Brigade IRV Centre, Nallurhalli Road, Whitefield, Bangalore</th>\n",
       "      <td>[Delivery, Delivery, Delivery]</td>\n",
       "    </tr>\n",
       "    <tr>\n",
       "      <th>re:cess - Hilton Bangalore Embassy GolfLinks</th>\n",
       "      <th>Hilton Bangalore Embassy GolfLinks, Embassy Golf Links Business Park, Inner Ring Road, Domlur, Bangalore</th>\n",
       "      <td>[Dine-out, Dine-out, Pubs and bars]</td>\n",
       "    </tr>\n",
       "    <tr>\n",
       "      <th>repEAT Hub</th>\n",
       "      <th>67/4, Bhoganahalli Road, JCR Layout, Panathur, Marathahalli, Bangalore</th>\n",
       "      <td>[Delivery, Dine-out]</td>\n",
       "    </tr>\n",
       "    <tr>\n",
       "      <th>sCoolMeal</th>\n",
       "      <th>197/293-3, 32nd Main, 1st Stage, BTM, Bangalore</th>\n",
       "      <td>[Delivery, Delivery, Delivery, Delivery, Deliv...</td>\n",
       "    </tr>\n",
       "  </tbody>\n",
       "</table>\n",
       "<p>12499 rows × 1 columns</p>\n",
       "</div>\n",
       "      <button class=\"colab-df-convert\" onclick=\"convertToInteractive('df-1dbe76c9-fa3c-4725-9013-754a2762a0c9')\"\n",
       "              title=\"Convert this dataframe to an interactive table.\"\n",
       "              style=\"display:none;\">\n",
       "        \n",
       "  <svg xmlns=\"http://www.w3.org/2000/svg\" height=\"24px\"viewBox=\"0 0 24 24\"\n",
       "       width=\"24px\">\n",
       "    <path d=\"M0 0h24v24H0V0z\" fill=\"none\"/>\n",
       "    <path d=\"M18.56 5.44l.94 2.06.94-2.06 2.06-.94-2.06-.94-.94-2.06-.94 2.06-2.06.94zm-11 1L8.5 8.5l.94-2.06 2.06-.94-2.06-.94L8.5 2.5l-.94 2.06-2.06.94zm10 10l.94 2.06.94-2.06 2.06-.94-2.06-.94-.94-2.06-.94 2.06-2.06.94z\"/><path d=\"M17.41 7.96l-1.37-1.37c-.4-.4-.92-.59-1.43-.59-.52 0-1.04.2-1.43.59L10.3 9.45l-7.72 7.72c-.78.78-.78 2.05 0 2.83L4 21.41c.39.39.9.59 1.41.59.51 0 1.02-.2 1.41-.59l7.78-7.78 2.81-2.81c.8-.78.8-2.07 0-2.86zM5.41 20L4 18.59l7.72-7.72 1.47 1.35L5.41 20z\"/>\n",
       "  </svg>\n",
       "      </button>\n",
       "      \n",
       "  <style>\n",
       "    .colab-df-container {\n",
       "      display:flex;\n",
       "      flex-wrap:wrap;\n",
       "      gap: 12px;\n",
       "    }\n",
       "\n",
       "    .colab-df-convert {\n",
       "      background-color: #E8F0FE;\n",
       "      border: none;\n",
       "      border-radius: 50%;\n",
       "      cursor: pointer;\n",
       "      display: none;\n",
       "      fill: #1967D2;\n",
       "      height: 32px;\n",
       "      padding: 0 0 0 0;\n",
       "      width: 32px;\n",
       "    }\n",
       "\n",
       "    .colab-df-convert:hover {\n",
       "      background-color: #E2EBFA;\n",
       "      box-shadow: 0px 1px 2px rgba(60, 64, 67, 0.3), 0px 1px 3px 1px rgba(60, 64, 67, 0.15);\n",
       "      fill: #174EA6;\n",
       "    }\n",
       "\n",
       "    [theme=dark] .colab-df-convert {\n",
       "      background-color: #3B4455;\n",
       "      fill: #D2E3FC;\n",
       "    }\n",
       "\n",
       "    [theme=dark] .colab-df-convert:hover {\n",
       "      background-color: #434B5C;\n",
       "      box-shadow: 0px 1px 3px 1px rgba(0, 0, 0, 0.15);\n",
       "      filter: drop-shadow(0px 1px 2px rgba(0, 0, 0, 0.3));\n",
       "      fill: #FFFFFF;\n",
       "    }\n",
       "  </style>\n",
       "\n",
       "      <script>\n",
       "        const buttonEl =\n",
       "          document.querySelector('#df-1dbe76c9-fa3c-4725-9013-754a2762a0c9 button.colab-df-convert');\n",
       "        buttonEl.style.display =\n",
       "          google.colab.kernel.accessAllowed ? 'block' : 'none';\n",
       "\n",
       "        async function convertToInteractive(key) {\n",
       "          const element = document.querySelector('#df-1dbe76c9-fa3c-4725-9013-754a2762a0c9');\n",
       "          const dataTable =\n",
       "            await google.colab.kernel.invokeFunction('convertToInteractive',\n",
       "                                                     [key], {});\n",
       "          if (!dataTable) return;\n",
       "\n",
       "          const docLinkHtml = 'Like what you see? Visit the ' +\n",
       "            '<a target=\"_blank\" href=https://colab.research.google.com/notebooks/data_table.ipynb>data table notebook</a>'\n",
       "            + ' to learn more about interactive tables.';\n",
       "          element.innerHTML = '';\n",
       "          dataTable['output_type'] = 'display_data';\n",
       "          await google.colab.output.renderOutput(dataTable, element);\n",
       "          const docLink = document.createElement('div');\n",
       "          docLink.innerHTML = docLinkHtml;\n",
       "          element.appendChild(docLink);\n",
       "        }\n",
       "      </script>\n",
       "    </div>\n",
       "  </div>\n",
       "  "
      ],
      "text/plain": [
       "                                                                                                                                   listed_in(type)\n",
       "name                                         address                                                                                              \n",
       "#FeelTheROLL                                 Opposite Mantri Commercio, Outer Ring Road, Dev...                               [Delivery, Delivery]\n",
       "#L-81 Cafe                                   Sector 6, HSR Layout, HSR                           [Delivery, Dine-out, Delivery, Dine-out, Deliv...\n",
       "#Vibes Restro                                Marasur Gate, Chandapura - Anekal Road, Near Al...                       [Buffet, Delivery, Dine-out]\n",
       "#refuel                                      7, Ground Floor, RR Commercial Complex, Akshay ...                        [Cafes, Delivery, Dine-out]\n",
       "'Brahmins' Thatte Idli                       19, 1st main, 2nd cross, 3rd stage, 3rd block, ...                                         [Dine-out]\n",
       "...                                                                                                                                            ...\n",
       "nu.tree                                      47/7 First floor, DoddaThogur Road, Near Velank...                                         [Delivery]\n",
       "                                             Ground Floor-Lobby Area, Brigade IRV Centre, Na...                     [Delivery, Delivery, Delivery]\n",
       "re:cess - Hilton Bangalore Embassy GolfLinks Hilton Bangalore Embassy GolfLinks, Embassy Gol...                [Dine-out, Dine-out, Pubs and bars]\n",
       "repEAT Hub                                   67/4, Bhoganahalli Road, JCR Layout, Panathur, ...                               [Delivery, Dine-out]\n",
       "sCoolMeal                                    197/293-3, 32nd Main, 1st Stage, BTM, Bangalore     [Delivery, Delivery, Delivery, Delivery, Deliv...\n",
       "\n",
       "[12499 rows x 1 columns]"
      ]
     },
     "execution_count": 9,
     "metadata": {},
     "output_type": "execute_result"
    }
   ],
   "source": [
    "## Lets aggregate data of listed_in(type) into list\n",
    "grouped=data.groupby([\"name\", \"address\"]).agg({\"listed_in(type)\" : list})\n",
    "grouped"
   ]
  },
  {
   "cell_type": "code",
   "execution_count": 10,
   "metadata": {
    "colab": {
     "base_uri": "https://localhost:8080/",
     "height": 1000
    },
    "id": "IwU9k0OBqhMM",
    "outputId": "ba718dd7-39f2-438e-c283-e3898723cb3c"
   },
   "outputs": [
    {
     "data": {
      "text/html": [
       "\n",
       "  <div id=\"df-106ef675-1754-4861-bf89-6a559b970bf5\">\n",
       "    <div class=\"colab-df-container\">\n",
       "      <div>\n",
       "<style scoped>\n",
       "    .dataframe tbody tr th:only-of-type {\n",
       "        vertical-align: middle;\n",
       "    }\n",
       "\n",
       "    .dataframe tbody tr th {\n",
       "        vertical-align: top;\n",
       "    }\n",
       "\n",
       "    .dataframe thead th {\n",
       "        text-align: right;\n",
       "    }\n",
       "</style>\n",
       "<table border=\"1\" class=\"dataframe\">\n",
       "  <thead>\n",
       "    <tr style=\"text-align: right;\">\n",
       "      <th></th>\n",
       "      <th>name</th>\n",
       "      <th>address</th>\n",
       "      <th>listed_in(type)_x</th>\n",
       "      <th>url</th>\n",
       "      <th>online_order</th>\n",
       "      <th>book_table</th>\n",
       "      <th>rate</th>\n",
       "      <th>votes</th>\n",
       "      <th>phone</th>\n",
       "      <th>location</th>\n",
       "      <th>rest_type</th>\n",
       "      <th>dish_liked</th>\n",
       "      <th>cuisines</th>\n",
       "      <th>approx_cost(for two people)</th>\n",
       "      <th>reviews_list</th>\n",
       "      <th>menu_item</th>\n",
       "      <th>listed_in(type)_y</th>\n",
       "      <th>listed_in(city)</th>\n",
       "    </tr>\n",
       "  </thead>\n",
       "  <tbody>\n",
       "    <tr>\n",
       "      <th>0</th>\n",
       "      <td>#FeelTheROLL</td>\n",
       "      <td>Opposite Mantri Commercio, Outer Ring Road, De...</td>\n",
       "      <td>[Delivery, Delivery]</td>\n",
       "      <td>https://www.zomato.com/bangalore/feeltheroll-b...</td>\n",
       "      <td>No</td>\n",
       "      <td>No</td>\n",
       "      <td>3.4/5</td>\n",
       "      <td>7</td>\n",
       "      <td>+91 9108342079\\r\\n+91 9886117901</td>\n",
       "      <td>Bellandur</td>\n",
       "      <td>Quick Bites</td>\n",
       "      <td>NaN</td>\n",
       "      <td>Fast Food</td>\n",
       "      <td>200</td>\n",
       "      <td>[('Rated 5.0', \"RATED\\n  Had an egg chicken ro...</td>\n",
       "      <td>[]</td>\n",
       "      <td>Delivery</td>\n",
       "      <td>Bellandur</td>\n",
       "    </tr>\n",
       "    <tr>\n",
       "      <th>1</th>\n",
       "      <td>#FeelTheROLL</td>\n",
       "      <td>Opposite Mantri Commercio, Outer Ring Road, De...</td>\n",
       "      <td>[Delivery, Delivery]</td>\n",
       "      <td>https://www.zomato.com/bangalore/feeltheroll-b...</td>\n",
       "      <td>No</td>\n",
       "      <td>No</td>\n",
       "      <td>3.4 /5</td>\n",
       "      <td>7</td>\n",
       "      <td>+91 9108342079\\n+91 9886117901</td>\n",
       "      <td>Bellandur</td>\n",
       "      <td>Quick Bites</td>\n",
       "      <td>NaN</td>\n",
       "      <td>Fast Food</td>\n",
       "      <td>200</td>\n",
       "      <td>[('Rated 5.0', \"RATED\\n  Had an egg chicken ro...</td>\n",
       "      <td>[]</td>\n",
       "      <td>Delivery</td>\n",
       "      <td>Sarjapur Road</td>\n",
       "    </tr>\n",
       "    <tr>\n",
       "      <th>2</th>\n",
       "      <td>#L-81 Cafe</td>\n",
       "      <td>Sector 6, HSR Layout, HSR</td>\n",
       "      <td>[Delivery, Dine-out, Delivery, Dine-out, Deliv...</td>\n",
       "      <td>https://www.zomato.com/bangalore/l-81-cafe-hsr...</td>\n",
       "      <td>Yes</td>\n",
       "      <td>No</td>\n",
       "      <td>3.9/5</td>\n",
       "      <td>48</td>\n",
       "      <td>+91 9986210891</td>\n",
       "      <td>HSR</td>\n",
       "      <td>Quick Bites</td>\n",
       "      <td>Burgers</td>\n",
       "      <td>Fast Food, Beverages</td>\n",
       "      <td>400</td>\n",
       "      <td>[('Rated 4.0', 'RATED\\n  This little cafe is s...</td>\n",
       "      <td>[]</td>\n",
       "      <td>Delivery</td>\n",
       "      <td>BTM</td>\n",
       "    </tr>\n",
       "    <tr>\n",
       "      <th>3</th>\n",
       "      <td>#L-81 Cafe</td>\n",
       "      <td>Sector 6, HSR Layout, HSR</td>\n",
       "      <td>[Delivery, Dine-out, Delivery, Dine-out, Deliv...</td>\n",
       "      <td>https://www.zomato.com/bangalore/l-81-cafe-hsr...</td>\n",
       "      <td>Yes</td>\n",
       "      <td>No</td>\n",
       "      <td>3.9/5</td>\n",
       "      <td>48</td>\n",
       "      <td>+91 9986210891</td>\n",
       "      <td>HSR</td>\n",
       "      <td>Quick Bites</td>\n",
       "      <td>Burgers</td>\n",
       "      <td>Fast Food, Beverages</td>\n",
       "      <td>400</td>\n",
       "      <td>[('Rated 4.0', 'RATED\\n  This little cafe is s...</td>\n",
       "      <td>[]</td>\n",
       "      <td>Dine-out</td>\n",
       "      <td>BTM</td>\n",
       "    </tr>\n",
       "    <tr>\n",
       "      <th>4</th>\n",
       "      <td>#L-81 Cafe</td>\n",
       "      <td>Sector 6, HSR Layout, HSR</td>\n",
       "      <td>[Delivery, Dine-out, Delivery, Dine-out, Deliv...</td>\n",
       "      <td>https://www.zomato.com/bangalore/l-81-cafe-hsr...</td>\n",
       "      <td>Yes</td>\n",
       "      <td>No</td>\n",
       "      <td>3.9/5</td>\n",
       "      <td>48</td>\n",
       "      <td>+91 9986210891</td>\n",
       "      <td>HSR</td>\n",
       "      <td>Quick Bites</td>\n",
       "      <td>Burgers</td>\n",
       "      <td>Fast Food, Beverages</td>\n",
       "      <td>400</td>\n",
       "      <td>[('Rated 4.0', 'RATED\\n  This little cafe is s...</td>\n",
       "      <td>[]</td>\n",
       "      <td>Delivery</td>\n",
       "      <td>HSR</td>\n",
       "    </tr>\n",
       "    <tr>\n",
       "      <th>...</th>\n",
       "      <td>...</td>\n",
       "      <td>...</td>\n",
       "      <td>...</td>\n",
       "      <td>...</td>\n",
       "      <td>...</td>\n",
       "      <td>...</td>\n",
       "      <td>...</td>\n",
       "      <td>...</td>\n",
       "      <td>...</td>\n",
       "      <td>...</td>\n",
       "      <td>...</td>\n",
       "      <td>...</td>\n",
       "      <td>...</td>\n",
       "      <td>...</td>\n",
       "      <td>...</td>\n",
       "      <td>...</td>\n",
       "      <td>...</td>\n",
       "      <td>...</td>\n",
       "    </tr>\n",
       "    <tr>\n",
       "      <th>51712</th>\n",
       "      <td>sCoolMeal</td>\n",
       "      <td>197/293-3, 32nd Main, 1st Stage, BTM, Bangalore</td>\n",
       "      <td>[Delivery, Delivery, Delivery, Delivery, Deliv...</td>\n",
       "      <td>https://www.zomato.com/bangalore/scoolmeal-btm...</td>\n",
       "      <td>No</td>\n",
       "      <td>No</td>\n",
       "      <td>NaN</td>\n",
       "      <td>0</td>\n",
       "      <td>+91 8971958284</td>\n",
       "      <td>BTM</td>\n",
       "      <td>Takeaway, Delivery</td>\n",
       "      <td>NaN</td>\n",
       "      <td>North Indian, South Indian, Chinese, Pizza</td>\n",
       "      <td>300</td>\n",
       "      <td>[]</td>\n",
       "      <td>[]</td>\n",
       "      <td>Delivery</td>\n",
       "      <td>BTM</td>\n",
       "    </tr>\n",
       "    <tr>\n",
       "      <th>51713</th>\n",
       "      <td>sCoolMeal</td>\n",
       "      <td>197/293-3, 32nd Main, 1st Stage, BTM, Bangalore</td>\n",
       "      <td>[Delivery, Delivery, Delivery, Delivery, Deliv...</td>\n",
       "      <td>https://www.zomato.com/bangalore/scoolmeal-btm...</td>\n",
       "      <td>No</td>\n",
       "      <td>No</td>\n",
       "      <td>NaN</td>\n",
       "      <td>0</td>\n",
       "      <td>+91 8971958284</td>\n",
       "      <td>BTM</td>\n",
       "      <td>Takeaway, Delivery</td>\n",
       "      <td>NaN</td>\n",
       "      <td>North Indian, South Indian, Chinese, Pizza</td>\n",
       "      <td>300</td>\n",
       "      <td>[]</td>\n",
       "      <td>[]</td>\n",
       "      <td>Delivery</td>\n",
       "      <td>Koramangala 4th Block</td>\n",
       "    </tr>\n",
       "    <tr>\n",
       "      <th>51714</th>\n",
       "      <td>sCoolMeal</td>\n",
       "      <td>197/293-3, 32nd Main, 1st Stage, BTM, Bangalore</td>\n",
       "      <td>[Delivery, Delivery, Delivery, Delivery, Deliv...</td>\n",
       "      <td>https://www.zomato.com/bangalore/scoolmeal-btm...</td>\n",
       "      <td>No</td>\n",
       "      <td>No</td>\n",
       "      <td>NaN</td>\n",
       "      <td>0</td>\n",
       "      <td>+91 8971958284</td>\n",
       "      <td>BTM</td>\n",
       "      <td>Takeaway, Delivery</td>\n",
       "      <td>NaN</td>\n",
       "      <td>North Indian, South Indian, Chinese, Pizza</td>\n",
       "      <td>300</td>\n",
       "      <td>[]</td>\n",
       "      <td>[]</td>\n",
       "      <td>Delivery</td>\n",
       "      <td>Koramangala 5th Block</td>\n",
       "    </tr>\n",
       "    <tr>\n",
       "      <th>51715</th>\n",
       "      <td>sCoolMeal</td>\n",
       "      <td>197/293-3, 32nd Main, 1st Stage, BTM, Bangalore</td>\n",
       "      <td>[Delivery, Delivery, Delivery, Delivery, Deliv...</td>\n",
       "      <td>https://www.zomato.com/bangalore/scoolmeal-btm...</td>\n",
       "      <td>No</td>\n",
       "      <td>No</td>\n",
       "      <td>NaN</td>\n",
       "      <td>0</td>\n",
       "      <td>+91 8971958284</td>\n",
       "      <td>BTM</td>\n",
       "      <td>Takeaway, Delivery</td>\n",
       "      <td>NaN</td>\n",
       "      <td>North Indian, South Indian, Chinese, Pizza</td>\n",
       "      <td>300</td>\n",
       "      <td>[]</td>\n",
       "      <td>[]</td>\n",
       "      <td>Delivery</td>\n",
       "      <td>Koramangala 6th Block</td>\n",
       "    </tr>\n",
       "    <tr>\n",
       "      <th>51716</th>\n",
       "      <td>sCoolMeal</td>\n",
       "      <td>197/293-3, 32nd Main, 1st Stage, BTM, Bangalore</td>\n",
       "      <td>[Delivery, Delivery, Delivery, Delivery, Deliv...</td>\n",
       "      <td>https://www.zomato.com/bangalore/scoolmeal-btm...</td>\n",
       "      <td>No</td>\n",
       "      <td>No</td>\n",
       "      <td>NaN</td>\n",
       "      <td>0</td>\n",
       "      <td>+91 8971958284</td>\n",
       "      <td>BTM</td>\n",
       "      <td>Takeaway, Delivery</td>\n",
       "      <td>NaN</td>\n",
       "      <td>North Indian, South Indian, Chinese, Pizza</td>\n",
       "      <td>300</td>\n",
       "      <td>[]</td>\n",
       "      <td>[]</td>\n",
       "      <td>Delivery</td>\n",
       "      <td>Koramangala 7th Block</td>\n",
       "    </tr>\n",
       "  </tbody>\n",
       "</table>\n",
       "<p>51717 rows × 18 columns</p>\n",
       "</div>\n",
       "      <button class=\"colab-df-convert\" onclick=\"convertToInteractive('df-106ef675-1754-4861-bf89-6a559b970bf5')\"\n",
       "              title=\"Convert this dataframe to an interactive table.\"\n",
       "              style=\"display:none;\">\n",
       "        \n",
       "  <svg xmlns=\"http://www.w3.org/2000/svg\" height=\"24px\"viewBox=\"0 0 24 24\"\n",
       "       width=\"24px\">\n",
       "    <path d=\"M0 0h24v24H0V0z\" fill=\"none\"/>\n",
       "    <path d=\"M18.56 5.44l.94 2.06.94-2.06 2.06-.94-2.06-.94-.94-2.06-.94 2.06-2.06.94zm-11 1L8.5 8.5l.94-2.06 2.06-.94-2.06-.94L8.5 2.5l-.94 2.06-2.06.94zm10 10l.94 2.06.94-2.06 2.06-.94-2.06-.94-.94-2.06-.94 2.06-2.06.94z\"/><path d=\"M17.41 7.96l-1.37-1.37c-.4-.4-.92-.59-1.43-.59-.52 0-1.04.2-1.43.59L10.3 9.45l-7.72 7.72c-.78.78-.78 2.05 0 2.83L4 21.41c.39.39.9.59 1.41.59.51 0 1.02-.2 1.41-.59l7.78-7.78 2.81-2.81c.8-.78.8-2.07 0-2.86zM5.41 20L4 18.59l7.72-7.72 1.47 1.35L5.41 20z\"/>\n",
       "  </svg>\n",
       "      </button>\n",
       "      \n",
       "  <style>\n",
       "    .colab-df-container {\n",
       "      display:flex;\n",
       "      flex-wrap:wrap;\n",
       "      gap: 12px;\n",
       "    }\n",
       "\n",
       "    .colab-df-convert {\n",
       "      background-color: #E8F0FE;\n",
       "      border: none;\n",
       "      border-radius: 50%;\n",
       "      cursor: pointer;\n",
       "      display: none;\n",
       "      fill: #1967D2;\n",
       "      height: 32px;\n",
       "      padding: 0 0 0 0;\n",
       "      width: 32px;\n",
       "    }\n",
       "\n",
       "    .colab-df-convert:hover {\n",
       "      background-color: #E2EBFA;\n",
       "      box-shadow: 0px 1px 2px rgba(60, 64, 67, 0.3), 0px 1px 3px 1px rgba(60, 64, 67, 0.15);\n",
       "      fill: #174EA6;\n",
       "    }\n",
       "\n",
       "    [theme=dark] .colab-df-convert {\n",
       "      background-color: #3B4455;\n",
       "      fill: #D2E3FC;\n",
       "    }\n",
       "\n",
       "    [theme=dark] .colab-df-convert:hover {\n",
       "      background-color: #434B5C;\n",
       "      box-shadow: 0px 1px 3px 1px rgba(0, 0, 0, 0.15);\n",
       "      filter: drop-shadow(0px 1px 2px rgba(0, 0, 0, 0.3));\n",
       "      fill: #FFFFFF;\n",
       "    }\n",
       "  </style>\n",
       "\n",
       "      <script>\n",
       "        const buttonEl =\n",
       "          document.querySelector('#df-106ef675-1754-4861-bf89-6a559b970bf5 button.colab-df-convert');\n",
       "        buttonEl.style.display =\n",
       "          google.colab.kernel.accessAllowed ? 'block' : 'none';\n",
       "\n",
       "        async function convertToInteractive(key) {\n",
       "          const element = document.querySelector('#df-106ef675-1754-4861-bf89-6a559b970bf5');\n",
       "          const dataTable =\n",
       "            await google.colab.kernel.invokeFunction('convertToInteractive',\n",
       "                                                     [key], {});\n",
       "          if (!dataTable) return;\n",
       "\n",
       "          const docLinkHtml = 'Like what you see? Visit the ' +\n",
       "            '<a target=\"_blank\" href=https://colab.research.google.com/notebooks/data_table.ipynb>data table notebook</a>'\n",
       "            + ' to learn more about interactive tables.';\n",
       "          element.innerHTML = '';\n",
       "          dataTable['output_type'] = 'display_data';\n",
       "          await google.colab.output.renderOutput(dataTable, element);\n",
       "          const docLink = document.createElement('div');\n",
       "          docLink.innerHTML = docLinkHtml;\n",
       "          element.appendChild(docLink);\n",
       "        }\n",
       "      </script>\n",
       "    </div>\n",
       "  </div>\n",
       "  "
      ],
      "text/plain": [
       "               name                                            address  \\\n",
       "0      #FeelTheROLL  Opposite Mantri Commercio, Outer Ring Road, De...   \n",
       "1      #FeelTheROLL  Opposite Mantri Commercio, Outer Ring Road, De...   \n",
       "2        #L-81 Cafe                          Sector 6, HSR Layout, HSR   \n",
       "3        #L-81 Cafe                          Sector 6, HSR Layout, HSR   \n",
       "4        #L-81 Cafe                          Sector 6, HSR Layout, HSR   \n",
       "...             ...                                                ...   \n",
       "51712     sCoolMeal    197/293-3, 32nd Main, 1st Stage, BTM, Bangalore   \n",
       "51713     sCoolMeal    197/293-3, 32nd Main, 1st Stage, BTM, Bangalore   \n",
       "51714     sCoolMeal    197/293-3, 32nd Main, 1st Stage, BTM, Bangalore   \n",
       "51715     sCoolMeal    197/293-3, 32nd Main, 1st Stage, BTM, Bangalore   \n",
       "51716     sCoolMeal    197/293-3, 32nd Main, 1st Stage, BTM, Bangalore   \n",
       "\n",
       "                                       listed_in(type)_x  \\\n",
       "0                                   [Delivery, Delivery]   \n",
       "1                                   [Delivery, Delivery]   \n",
       "2      [Delivery, Dine-out, Delivery, Dine-out, Deliv...   \n",
       "3      [Delivery, Dine-out, Delivery, Dine-out, Deliv...   \n",
       "4      [Delivery, Dine-out, Delivery, Dine-out, Deliv...   \n",
       "...                                                  ...   \n",
       "51712  [Delivery, Delivery, Delivery, Delivery, Deliv...   \n",
       "51713  [Delivery, Delivery, Delivery, Delivery, Deliv...   \n",
       "51714  [Delivery, Delivery, Delivery, Delivery, Deliv...   \n",
       "51715  [Delivery, Delivery, Delivery, Delivery, Deliv...   \n",
       "51716  [Delivery, Delivery, Delivery, Delivery, Deliv...   \n",
       "\n",
       "                                                     url online_order  \\\n",
       "0      https://www.zomato.com/bangalore/feeltheroll-b...           No   \n",
       "1      https://www.zomato.com/bangalore/feeltheroll-b...           No   \n",
       "2      https://www.zomato.com/bangalore/l-81-cafe-hsr...          Yes   \n",
       "3      https://www.zomato.com/bangalore/l-81-cafe-hsr...          Yes   \n",
       "4      https://www.zomato.com/bangalore/l-81-cafe-hsr...          Yes   \n",
       "...                                                  ...          ...   \n",
       "51712  https://www.zomato.com/bangalore/scoolmeal-btm...           No   \n",
       "51713  https://www.zomato.com/bangalore/scoolmeal-btm...           No   \n",
       "51714  https://www.zomato.com/bangalore/scoolmeal-btm...           No   \n",
       "51715  https://www.zomato.com/bangalore/scoolmeal-btm...           No   \n",
       "51716  https://www.zomato.com/bangalore/scoolmeal-btm...           No   \n",
       "\n",
       "      book_table    rate  votes                             phone   location  \\\n",
       "0             No   3.4/5      7  +91 9108342079\\r\\n+91 9886117901  Bellandur   \n",
       "1             No  3.4 /5      7    +91 9108342079\\n+91 9886117901  Bellandur   \n",
       "2             No   3.9/5     48                    +91 9986210891        HSR   \n",
       "3             No   3.9/5     48                    +91 9986210891        HSR   \n",
       "4             No   3.9/5     48                    +91 9986210891        HSR   \n",
       "...          ...     ...    ...                               ...        ...   \n",
       "51712         No     NaN      0                    +91 8971958284        BTM   \n",
       "51713         No     NaN      0                    +91 8971958284        BTM   \n",
       "51714         No     NaN      0                    +91 8971958284        BTM   \n",
       "51715         No     NaN      0                    +91 8971958284        BTM   \n",
       "51716         No     NaN      0                    +91 8971958284        BTM   \n",
       "\n",
       "                rest_type dish_liked  \\\n",
       "0             Quick Bites        NaN   \n",
       "1             Quick Bites        NaN   \n",
       "2             Quick Bites    Burgers   \n",
       "3             Quick Bites    Burgers   \n",
       "4             Quick Bites    Burgers   \n",
       "...                   ...        ...   \n",
       "51712  Takeaway, Delivery        NaN   \n",
       "51713  Takeaway, Delivery        NaN   \n",
       "51714  Takeaway, Delivery        NaN   \n",
       "51715  Takeaway, Delivery        NaN   \n",
       "51716  Takeaway, Delivery        NaN   \n",
       "\n",
       "                                         cuisines approx_cost(for two people)  \\\n",
       "0                                       Fast Food                         200   \n",
       "1                                       Fast Food                         200   \n",
       "2                            Fast Food, Beverages                         400   \n",
       "3                            Fast Food, Beverages                         400   \n",
       "4                            Fast Food, Beverages                         400   \n",
       "...                                           ...                         ...   \n",
       "51712  North Indian, South Indian, Chinese, Pizza                         300   \n",
       "51713  North Indian, South Indian, Chinese, Pizza                         300   \n",
       "51714  North Indian, South Indian, Chinese, Pizza                         300   \n",
       "51715  North Indian, South Indian, Chinese, Pizza                         300   \n",
       "51716  North Indian, South Indian, Chinese, Pizza                         300   \n",
       "\n",
       "                                            reviews_list menu_item  \\\n",
       "0      [('Rated 5.0', \"RATED\\n  Had an egg chicken ro...        []   \n",
       "1      [('Rated 5.0', \"RATED\\n  Had an egg chicken ro...        []   \n",
       "2      [('Rated 4.0', 'RATED\\n  This little cafe is s...        []   \n",
       "3      [('Rated 4.0', 'RATED\\n  This little cafe is s...        []   \n",
       "4      [('Rated 4.0', 'RATED\\n  This little cafe is s...        []   \n",
       "...                                                  ...       ...   \n",
       "51712                                                 []        []   \n",
       "51713                                                 []        []   \n",
       "51714                                                 []        []   \n",
       "51715                                                 []        []   \n",
       "51716                                                 []        []   \n",
       "\n",
       "      listed_in(type)_y        listed_in(city)  \n",
       "0              Delivery              Bellandur  \n",
       "1              Delivery          Sarjapur Road  \n",
       "2              Delivery                    BTM  \n",
       "3              Dine-out                    BTM  \n",
       "4              Delivery                    HSR  \n",
       "...                 ...                    ...  \n",
       "51712          Delivery                    BTM  \n",
       "51713          Delivery  Koramangala 4th Block  \n",
       "51714          Delivery  Koramangala 5th Block  \n",
       "51715          Delivery  Koramangala 6th Block  \n",
       "51716          Delivery  Koramangala 7th Block  \n",
       "\n",
       "[51717 rows x 18 columns]"
      ]
     },
     "execution_count": 10,
     "metadata": {},
     "output_type": "execute_result"
    }
   ],
   "source": [
    "## merge your both the dataframe\n",
    "newdata = pd.merge(grouped, data, on = ([\"name\", \"address\"]))\n",
    "newdata"
   ]
  },
  {
   "cell_type": "code",
   "execution_count": 11,
   "metadata": {
    "colab": {
     "base_uri": "https://localhost:8080/"
    },
    "id": "ESYrDyngqhMN",
    "outputId": "2c639aad-380d-430e-a632-2551befe972c"
   },
   "outputs": [
    {
     "data": {
      "text/plain": [
       "dtype('O')"
      ]
     },
     "execution_count": 11,
     "metadata": {},
     "output_type": "execute_result"
    }
   ],
   "source": [
    "newdata['listed_in(type)_y'].dtype"
   ]
  },
  {
   "cell_type": "code",
   "execution_count": 12,
   "metadata": {
    "colab": {
     "base_uri": "https://localhost:8080/"
    },
    "id": "SYQoYJsFqhMN",
    "outputId": "fca224b3-e4d9-45ae-cc29-36ff62d29299"
   },
   "outputs": [
    {
     "data": {
      "text/plain": [
       "(51717, 18)"
      ]
     },
     "execution_count": 12,
     "metadata": {},
     "output_type": "execute_result"
    }
   ],
   "source": [
    "newdata.shape"
   ]
  },
  {
   "cell_type": "code",
   "execution_count": 13,
   "metadata": {
    "colab": {
     "base_uri": "https://localhost:8080/"
    },
    "id": "GkiV8qj9qhMO",
    "outputId": "63f0161f-e778-49ee-a7ea-7f496da6bb86"
   },
   "outputs": [
    {
     "data": {
      "text/plain": [
       "(20915, 18)"
      ]
     },
     "execution_count": 13,
     "metadata": {},
     "output_type": "execute_result"
    }
   ],
   "source": [
    "#remove duplicates from data.\n",
    "newdata.drop_duplicates(subset = [\"name\", \"address\", \"listed_in(type)_y\"], inplace = True)\n",
    "newdata = newdata.reset_index(drop = True)\n",
    "newdata.shape\n"
   ]
  },
  {
   "cell_type": "code",
   "execution_count": null,
   "metadata": {
    "id": "JX2jBAxkqhMh"
   },
   "outputs": [],
   "source": []
  },
  {
   "cell_type": "code",
   "execution_count": 14,
   "metadata": {
    "colab": {
     "base_uri": "https://localhost:8080/"
    },
    "id": "AQI1gv1XqhMh",
    "outputId": "ad19a9c9-b306-4cd7-c6db-91025ddc81a0"
   },
   "outputs": [
    {
     "data": {
      "text/plain": [
       "array(['3.4/5', '3.9/5', nan, '3.7/5', '3.2/5', '3.5/5', '4.6/5', '4.1/5',\n",
       "       '4.2 /5', '4.3 /5', '4.2/5', '4.0/5', '4.0 /5', '3.9 /5', '4.1 /5',\n",
       "       '3.7 /5', '4.3/5', '3.1 /5', '3.6/5', '3.1/5', '3.3/5', '3.0/5',\n",
       "       '3.5 /5', '4.4/5', '4.5 /5', 'NEW', '3.3 /5', '3.8/5', '3.2 /5',\n",
       "       '3.6 /5', '4.5/5', '3.8 /5', '3.4 /5', '2.7/5', '2.7 /5', '2.8/5',\n",
       "       '3.0 /5', '2.9/5', '2.5 /5', '2.9 /5', '2.8 /5', '4.9/5', '4.7/5',\n",
       "       '4.8/5', '4.8 /5', '4.4 /5', '1.8/5', '2.4/5', '2.1/5', '2.5/5',\n",
       "       '-', '2.2/5', '4.7 /5', '2.6/5', '4.6 /5', '4.9 /5', '2.3/5',\n",
       "       '2.0 /5', '2.3 /5', '2.6 /5', '2.4 /5', '2.0/5'], dtype=object)"
      ]
     },
     "execution_count": 14,
     "metadata": {},
     "output_type": "execute_result"
    }
   ],
   "source": [
    "newdata['rate'].unique() "
   ]
  },
  {
   "cell_type": "code",
   "execution_count": 15,
   "metadata": {
    "colab": {
     "base_uri": "https://localhost:8080/",
     "height": 315
    },
    "id": "roay5ZIaqhMi",
    "outputId": "cf7d060d-9dc8-4c2c-806b-8828cc88749a"
   },
   "outputs": [
    {
     "data": {
      "text/html": [
       "\n",
       "  <div id=\"df-682031ba-fe39-43c1-b507-98614bed0266\">\n",
       "    <div class=\"colab-df-container\">\n",
       "      <div>\n",
       "<style scoped>\n",
       "    .dataframe tbody tr th:only-of-type {\n",
       "        vertical-align: middle;\n",
       "    }\n",
       "\n",
       "    .dataframe tbody tr th {\n",
       "        vertical-align: top;\n",
       "    }\n",
       "\n",
       "    .dataframe thead th {\n",
       "        text-align: right;\n",
       "    }\n",
       "</style>\n",
       "<table border=\"1\" class=\"dataframe\">\n",
       "  <thead>\n",
       "    <tr style=\"text-align: right;\">\n",
       "      <th></th>\n",
       "      <th>name</th>\n",
       "      <th>address</th>\n",
       "      <th>listed_in(type)_x</th>\n",
       "      <th>url</th>\n",
       "      <th>online_order</th>\n",
       "      <th>book_table</th>\n",
       "      <th>rate</th>\n",
       "      <th>votes</th>\n",
       "      <th>phone</th>\n",
       "      <th>location</th>\n",
       "      <th>rest_type</th>\n",
       "      <th>dish_liked</th>\n",
       "      <th>cuisines</th>\n",
       "      <th>approx_cost(for two people)</th>\n",
       "      <th>reviews_list</th>\n",
       "      <th>menu_item</th>\n",
       "      <th>listed_in(type)_y</th>\n",
       "      <th>listed_in(city)</th>\n",
       "      <th>rating</th>\n",
       "    </tr>\n",
       "  </thead>\n",
       "  <tbody>\n",
       "    <tr>\n",
       "      <th>0</th>\n",
       "      <td>#FeelTheROLL</td>\n",
       "      <td>Opposite Mantri Commercio, Outer Ring Road, De...</td>\n",
       "      <td>[Delivery, Delivery]</td>\n",
       "      <td>https://www.zomato.com/bangalore/feeltheroll-b...</td>\n",
       "      <td>No</td>\n",
       "      <td>No</td>\n",
       "      <td>3.4/5</td>\n",
       "      <td>7</td>\n",
       "      <td>+91 9108342079\\r\\n+91 9886117901</td>\n",
       "      <td>Bellandur</td>\n",
       "      <td>Quick Bites</td>\n",
       "      <td>NaN</td>\n",
       "      <td>Fast Food</td>\n",
       "      <td>200</td>\n",
       "      <td>[('Rated 5.0', \"RATED\\n  Had an egg chicken ro...</td>\n",
       "      <td>[]</td>\n",
       "      <td>Delivery</td>\n",
       "      <td>Bellandur</td>\n",
       "      <td>3.4</td>\n",
       "    </tr>\n",
       "    <tr>\n",
       "      <th>1</th>\n",
       "      <td>#L-81 Cafe</td>\n",
       "      <td>Sector 6, HSR Layout, HSR</td>\n",
       "      <td>[Delivery, Dine-out, Delivery, Dine-out, Deliv...</td>\n",
       "      <td>https://www.zomato.com/bangalore/l-81-cafe-hsr...</td>\n",
       "      <td>Yes</td>\n",
       "      <td>No</td>\n",
       "      <td>3.9/5</td>\n",
       "      <td>48</td>\n",
       "      <td>+91 9986210891</td>\n",
       "      <td>HSR</td>\n",
       "      <td>Quick Bites</td>\n",
       "      <td>Burgers</td>\n",
       "      <td>Fast Food, Beverages</td>\n",
       "      <td>400</td>\n",
       "      <td>[('Rated 4.0', 'RATED\\n  This little cafe is s...</td>\n",
       "      <td>[]</td>\n",
       "      <td>Delivery</td>\n",
       "      <td>BTM</td>\n",
       "      <td>3.9</td>\n",
       "    </tr>\n",
       "  </tbody>\n",
       "</table>\n",
       "</div>\n",
       "      <button class=\"colab-df-convert\" onclick=\"convertToInteractive('df-682031ba-fe39-43c1-b507-98614bed0266')\"\n",
       "              title=\"Convert this dataframe to an interactive table.\"\n",
       "              style=\"display:none;\">\n",
       "        \n",
       "  <svg xmlns=\"http://www.w3.org/2000/svg\" height=\"24px\"viewBox=\"0 0 24 24\"\n",
       "       width=\"24px\">\n",
       "    <path d=\"M0 0h24v24H0V0z\" fill=\"none\"/>\n",
       "    <path d=\"M18.56 5.44l.94 2.06.94-2.06 2.06-.94-2.06-.94-.94-2.06-.94 2.06-2.06.94zm-11 1L8.5 8.5l.94-2.06 2.06-.94-2.06-.94L8.5 2.5l-.94 2.06-2.06.94zm10 10l.94 2.06.94-2.06 2.06-.94-2.06-.94-.94-2.06-.94 2.06-2.06.94z\"/><path d=\"M17.41 7.96l-1.37-1.37c-.4-.4-.92-.59-1.43-.59-.52 0-1.04.2-1.43.59L10.3 9.45l-7.72 7.72c-.78.78-.78 2.05 0 2.83L4 21.41c.39.39.9.59 1.41.59.51 0 1.02-.2 1.41-.59l7.78-7.78 2.81-2.81c.8-.78.8-2.07 0-2.86zM5.41 20L4 18.59l7.72-7.72 1.47 1.35L5.41 20z\"/>\n",
       "  </svg>\n",
       "      </button>\n",
       "      \n",
       "  <style>\n",
       "    .colab-df-container {\n",
       "      display:flex;\n",
       "      flex-wrap:wrap;\n",
       "      gap: 12px;\n",
       "    }\n",
       "\n",
       "    .colab-df-convert {\n",
       "      background-color: #E8F0FE;\n",
       "      border: none;\n",
       "      border-radius: 50%;\n",
       "      cursor: pointer;\n",
       "      display: none;\n",
       "      fill: #1967D2;\n",
       "      height: 32px;\n",
       "      padding: 0 0 0 0;\n",
       "      width: 32px;\n",
       "    }\n",
       "\n",
       "    .colab-df-convert:hover {\n",
       "      background-color: #E2EBFA;\n",
       "      box-shadow: 0px 1px 2px rgba(60, 64, 67, 0.3), 0px 1px 3px 1px rgba(60, 64, 67, 0.15);\n",
       "      fill: #174EA6;\n",
       "    }\n",
       "\n",
       "    [theme=dark] .colab-df-convert {\n",
       "      background-color: #3B4455;\n",
       "      fill: #D2E3FC;\n",
       "    }\n",
       "\n",
       "    [theme=dark] .colab-df-convert:hover {\n",
       "      background-color: #434B5C;\n",
       "      box-shadow: 0px 1px 3px 1px rgba(0, 0, 0, 0.15);\n",
       "      filter: drop-shadow(0px 1px 2px rgba(0, 0, 0, 0.3));\n",
       "      fill: #FFFFFF;\n",
       "    }\n",
       "  </style>\n",
       "\n",
       "      <script>\n",
       "        const buttonEl =\n",
       "          document.querySelector('#df-682031ba-fe39-43c1-b507-98614bed0266 button.colab-df-convert');\n",
       "        buttonEl.style.display =\n",
       "          google.colab.kernel.accessAllowed ? 'block' : 'none';\n",
       "\n",
       "        async function convertToInteractive(key) {\n",
       "          const element = document.querySelector('#df-682031ba-fe39-43c1-b507-98614bed0266');\n",
       "          const dataTable =\n",
       "            await google.colab.kernel.invokeFunction('convertToInteractive',\n",
       "                                                     [key], {});\n",
       "          if (!dataTable) return;\n",
       "\n",
       "          const docLinkHtml = 'Like what you see? Visit the ' +\n",
       "            '<a target=\"_blank\" href=https://colab.research.google.com/notebooks/data_table.ipynb>data table notebook</a>'\n",
       "            + ' to learn more about interactive tables.';\n",
       "          element.innerHTML = '';\n",
       "          dataTable['output_type'] = 'display_data';\n",
       "          await google.colab.output.renderOutput(dataTable, element);\n",
       "          const docLink = document.createElement('div');\n",
       "          docLink.innerHTML = docLinkHtml;\n",
       "          element.appendChild(docLink);\n",
       "        }\n",
       "      </script>\n",
       "    </div>\n",
       "  </div>\n",
       "  "
      ],
      "text/plain": [
       "           name                                            address  \\\n",
       "0  #FeelTheROLL  Opposite Mantri Commercio, Outer Ring Road, De...   \n",
       "1    #L-81 Cafe                          Sector 6, HSR Layout, HSR   \n",
       "\n",
       "                                   listed_in(type)_x  \\\n",
       "0                               [Delivery, Delivery]   \n",
       "1  [Delivery, Dine-out, Delivery, Dine-out, Deliv...   \n",
       "\n",
       "                                                 url online_order book_table  \\\n",
       "0  https://www.zomato.com/bangalore/feeltheroll-b...           No         No   \n",
       "1  https://www.zomato.com/bangalore/l-81-cafe-hsr...          Yes         No   \n",
       "\n",
       "    rate  votes                             phone   location    rest_type  \\\n",
       "0  3.4/5      7  +91 9108342079\\r\\n+91 9886117901  Bellandur  Quick Bites   \n",
       "1  3.9/5     48                    +91 9986210891        HSR  Quick Bites   \n",
       "\n",
       "  dish_liked              cuisines approx_cost(for two people)  \\\n",
       "0        NaN             Fast Food                         200   \n",
       "1    Burgers  Fast Food, Beverages                         400   \n",
       "\n",
       "                                        reviews_list menu_item  \\\n",
       "0  [('Rated 5.0', \"RATED\\n  Had an egg chicken ro...        []   \n",
       "1  [('Rated 4.0', 'RATED\\n  This little cafe is s...        []   \n",
       "\n",
       "  listed_in(type)_y listed_in(city) rating  \n",
       "0          Delivery       Bellandur    3.4  \n",
       "1          Delivery             BTM    3.9  "
      ]
     },
     "execution_count": 15,
     "metadata": {},
     "output_type": "execute_result"
    }
   ],
   "source": [
    "# Transforming the ratings column \n",
    "newdata[\"rating\"] = newdata[\"rate\"].str[:3] # Extracting the first three characters of each string in \"rate\"\n",
    "newdata.head(2)"
   ]
  },
  {
   "cell_type": "code",
   "execution_count": 16,
   "metadata": {
    "colab": {
     "base_uri": "https://localhost:8080/"
    },
    "id": "O5ZMlM6HqhMi",
    "outputId": "86f7d4c0-0a7b-40b0-c8d4-a00f8fb88e36"
   },
   "outputs": [
    {
     "data": {
      "text/plain": [
       "array([3.4, 3.9, nan, 3.7, 3.2, 3.5, 4.6, 4.1, 4.2, 4.3, 4. , 3.1, 3.6,\n",
       "       3.3, 3. , 4.4, 4.5, 0. , 3.8, 2.7, 2.8, 2.9, 2.5, 4.9, 4.7, 4.8,\n",
       "       1.8, 2.4, 2.1, 2.2, 2.6, 2.3, 2. ])"
      ]
     },
     "execution_count": 16,
     "metadata": {},
     "output_type": "execute_result"
    }
   ],
   "source": [
    "newdata[\"rating\"].replace('NEW',0,inplace=True)\n",
    "newdata[\"rating\"].replace('-',0,inplace=True)\n",
    "newdata[\"rating\"] = pd.to_numeric(newdata[\"rating\"])\n",
    "newdata['rating'].unique()\n"
   ]
  },
  {
   "cell_type": "code",
   "execution_count": 17,
   "metadata": {
    "colab": {
     "base_uri": "https://localhost:8080/"
    },
    "id": "Dfw4GDgu6lPA",
    "outputId": "0e0255ff-dad6-43a1-c2f9-bc92d6d68596"
   },
   "outputs": [
    {
     "data": {
      "text/plain": [
       "3383"
      ]
     },
     "execution_count": 17,
     "metadata": {},
     "output_type": "execute_result"
    }
   ],
   "source": [
    "newdata['rating'].isnull().sum()"
   ]
  },
  {
   "cell_type": "code",
   "execution_count": null,
   "metadata": {
    "id": "tfSgpBnvqhMj"
   },
   "outputs": [],
   "source": [
    "# Discretizing the ratings into a categorical feature with 4 levels\n",
    "## ie if less than 3, assign 0\n",
    "## ie if less than 3.5, assign 1\n",
    "## ie if less than 4.0, assign 2\n",
    "## ie if less than 5.o assign 3\n",
    "\n",
    "## We can think of these as 0-Very Low, 1-Low, 2-Medium and 3-High."
   ]
  },
  {
   "cell_type": "code",
   "execution_count": 18,
   "metadata": {
    "colab": {
     "base_uri": "https://localhost:8080/"
    },
    "id": "I1WlFBrNqhMl",
    "outputId": "d5b8ef48-fe2b-47d0-9d3b-c0dffb02dbc8"
   },
   "outputs": [
    {
     "data": {
      "text/plain": [
       "name                               0\n",
       "address                            0\n",
       "listed_in(type)_x                  0\n",
       "url                                0\n",
       "online_order                       0\n",
       "book_table                         0\n",
       "rate                            3383\n",
       "votes                              0\n",
       "phone                            399\n",
       "location                          12\n",
       "rest_type                        106\n",
       "dish_liked                     11999\n",
       "cuisines                          23\n",
       "approx_cost(for two people)       98\n",
       "reviews_list                       0\n",
       "menu_item                          0\n",
       "listed_in(type)_y                  0\n",
       "listed_in(city)                    0\n",
       "rating                          3383\n",
       "dtype: int64"
      ]
     },
     "execution_count": 18,
     "metadata": {},
     "output_type": "execute_result"
    }
   ],
   "source": [
    "newdata.isnull().sum()"
   ]
  },
  {
   "cell_type": "code",
   "execution_count": 19,
   "metadata": {
    "colab": {
     "base_uri": "https://localhost:8080/"
    },
    "id": "JyZEUQHRqhMl",
    "outputId": "83eee63c-5a22-4e7d-f7a8-ea8deaa1797e"
   },
   "outputs": [
    {
     "data": {
      "text/plain": [
       "(20915, 19)"
      ]
     },
     "execution_count": 19,
     "metadata": {},
     "output_type": "execute_result"
    }
   ],
   "source": [
    "newdata.shape"
   ]
  },
  {
   "cell_type": "markdown",
   "metadata": {
    "id": "mvag0YU2-465"
   },
   "source": [
    "**bins = [1, 3.25, 4.1, 5.0]**\n",
    "\n",
    "**it means if it is b/w 1 to 3.25, assign label as 0**\n",
    "\n",
    "**if b/w 3.25 to 4.1, assign label as 1 & so on**"
   ]
  },
  {
   "cell_type": "code",
   "execution_count": 20,
   "metadata": {
    "id": "eYMDT8zwqhMm"
   },
   "outputs": [],
   "source": [
    "newdata[\"rating\"]=pd.cut(newdata[\"rating\"], bins = [1, 3.25, 4.1, 5.0], labels = [\"0\", \"1\", \"2\"])"
   ]
  },
  {
   "cell_type": "code",
   "execution_count": 21,
   "metadata": {
    "colab": {
     "base_uri": "https://localhost:8080/",
     "height": 351
    },
    "id": "3t0zEK-gqhMm",
    "outputId": "b4c9952e-4e2b-465d-8ed6-32f35f0dfe43"
   },
   "outputs": [
    {
     "data": {
      "text/plain": [
       "<matplotlib.axes._subplots.AxesSubplot at 0x7fdfa6431850>"
      ]
     },
     "execution_count": 21,
     "metadata": {},
     "output_type": "execute_result"
    },
    {
     "data": {
      "image/png": "[encoded data removed]",
      "text/plain": [
       "<Figure size 720x360 with 1 Axes>"
      ]
     },
     "metadata": {
      "needs_background": "light"
     },
     "output_type": "display_data"
    }
   ],
   "source": [
    "# Visualizing the rating class distribution\n",
    "plt.figure(figsize = (10, 5))\n",
    "sns.countplot(newdata[\"rating\"])\n"
   ]
  },
  {
   "cell_type": "code",
   "execution_count": null,
   "metadata": {
    "id": "ey0EulGRqhMm"
   },
   "outputs": [],
   "source": []
  },
  {
   "cell_type": "code",
   "execution_count": 22,
   "metadata": {
    "colab": {
     "base_uri": "https://localhost:8080/",
     "height": 510
    },
    "id": "znd7CuiuqhMm",
    "outputId": "7cb3c696-2aab-4fb8-d078-18b2f0262e18"
   },
   "outputs": [
    {
     "data": {
      "text/html": [
       "\n",
       "  <div id=\"df-acedfc7a-06e1-4a1e-89cf-0738696e233e\">\n",
       "    <div class=\"colab-df-container\">\n",
       "      <div>\n",
       "<style scoped>\n",
       "    .dataframe tbody tr th:only-of-type {\n",
       "        vertical-align: middle;\n",
       "    }\n",
       "\n",
       "    .dataframe tbody tr th {\n",
       "        vertical-align: top;\n",
       "    }\n",
       "\n",
       "    .dataframe thead th {\n",
       "        text-align: right;\n",
       "    }\n",
       "</style>\n",
       "<table border=\"1\" class=\"dataframe\">\n",
       "  <thead>\n",
       "    <tr style=\"text-align: right;\">\n",
       "      <th></th>\n",
       "      <th>name</th>\n",
       "      <th>address</th>\n",
       "      <th>listed_in(type)_x</th>\n",
       "      <th>url</th>\n",
       "      <th>online_order</th>\n",
       "      <th>book_table</th>\n",
       "      <th>rate</th>\n",
       "      <th>votes</th>\n",
       "      <th>phone</th>\n",
       "      <th>location</th>\n",
       "      <th>rest_type</th>\n",
       "      <th>dish_liked</th>\n",
       "      <th>cuisines</th>\n",
       "      <th>approx_cost(for two people)</th>\n",
       "      <th>reviews_list</th>\n",
       "      <th>menu_item</th>\n",
       "      <th>listed_in(type)_y</th>\n",
       "      <th>listed_in(city)</th>\n",
       "      <th>rating</th>\n",
       "    </tr>\n",
       "  </thead>\n",
       "  <tbody>\n",
       "    <tr>\n",
       "      <th>count</th>\n",
       "      <td>20915</td>\n",
       "      <td>20915</td>\n",
       "      <td>20915</td>\n",
       "      <td>20915</td>\n",
       "      <td>20915</td>\n",
       "      <td>20915</td>\n",
       "      <td>17532</td>\n",
       "      <td>20915.000000</td>\n",
       "      <td>20516</td>\n",
       "      <td>20903</td>\n",
       "      <td>20809</td>\n",
       "      <td>8916</td>\n",
       "      <td>20892</td>\n",
       "      <td>20817</td>\n",
       "      <td>20915</td>\n",
       "      <td>20915</td>\n",
       "      <td>20915</td>\n",
       "      <td>20915</td>\n",
       "      <td>16391</td>\n",
       "    </tr>\n",
       "    <tr>\n",
       "      <th>unique</th>\n",
       "      <td>8792</td>\n",
       "      <td>11495</td>\n",
       "      <td>927</td>\n",
       "      <td>20915</td>\n",
       "      <td>2</td>\n",
       "      <td>2</td>\n",
       "      <td>61</td>\n",
       "      <td>NaN</td>\n",
       "      <td>11999</td>\n",
       "      <td>93</td>\n",
       "      <td>93</td>\n",
       "      <td>4502</td>\n",
       "      <td>2630</td>\n",
       "      <td>70</td>\n",
       "      <td>12660</td>\n",
       "      <td>3693</td>\n",
       "      <td>7</td>\n",
       "      <td>30</td>\n",
       "      <td>3</td>\n",
       "    </tr>\n",
       "    <tr>\n",
       "      <th>top</th>\n",
       "      <td>Cafe Coffee Day</td>\n",
       "      <td>Delivery Only</td>\n",
       "      <td>[Delivery, Dine-out]</td>\n",
       "      <td>https://www.zomato.com/bangalore/feeltheroll-b...</td>\n",
       "      <td>Yes</td>\n",
       "      <td>No</td>\n",
       "      <td>3.9/5</td>\n",
       "      <td>NaN</td>\n",
       "      <td>080 43334333</td>\n",
       "      <td>Whitefield</td>\n",
       "      <td>Quick Bites</td>\n",
       "      <td>Biryani</td>\n",
       "      <td>North Indian</td>\n",
       "      <td>300</td>\n",
       "      <td>[]</td>\n",
       "      <td>[]</td>\n",
       "      <td>Delivery</td>\n",
       "      <td>BTM</td>\n",
       "      <td>1</td>\n",
       "    </tr>\n",
       "    <tr>\n",
       "      <th>freq</th>\n",
       "      <td>78</td>\n",
       "      <td>36</td>\n",
       "      <td>2418</td>\n",
       "      <td>1</td>\n",
       "      <td>11605</td>\n",
       "      <td>18615</td>\n",
       "      <td>1181</td>\n",
       "      <td>NaN</td>\n",
       "      <td>93</td>\n",
       "      <td>1462</td>\n",
       "      <td>8007</td>\n",
       "      <td>78</td>\n",
       "      <td>1174</td>\n",
       "      <td>3005</td>\n",
       "      <td>3524</td>\n",
       "      <td>16766</td>\n",
       "      <td>9355</td>\n",
       "      <td>2379</td>\n",
       "      <td>11321</td>\n",
       "    </tr>\n",
       "    <tr>\n",
       "      <th>mean</th>\n",
       "      <td>NaN</td>\n",
       "      <td>NaN</td>\n",
       "      <td>NaN</td>\n",
       "      <td>NaN</td>\n",
       "      <td>NaN</td>\n",
       "      <td>NaN</td>\n",
       "      <td>NaN</td>\n",
       "      <td>246.105427</td>\n",
       "      <td>NaN</td>\n",
       "      <td>NaN</td>\n",
       "      <td>NaN</td>\n",
       "      <td>NaN</td>\n",
       "      <td>NaN</td>\n",
       "      <td>NaN</td>\n",
       "      <td>NaN</td>\n",
       "      <td>NaN</td>\n",
       "      <td>NaN</td>\n",
       "      <td>NaN</td>\n",
       "      <td>NaN</td>\n",
       "    </tr>\n",
       "    <tr>\n",
       "      <th>std</th>\n",
       "      <td>NaN</td>\n",
       "      <td>NaN</td>\n",
       "      <td>NaN</td>\n",
       "      <td>NaN</td>\n",
       "      <td>NaN</td>\n",
       "      <td>NaN</td>\n",
       "      <td>NaN</td>\n",
       "      <td>741.954538</td>\n",
       "      <td>NaN</td>\n",
       "      <td>NaN</td>\n",
       "      <td>NaN</td>\n",
       "      <td>NaN</td>\n",
       "      <td>NaN</td>\n",
       "      <td>NaN</td>\n",
       "      <td>NaN</td>\n",
       "      <td>NaN</td>\n",
       "      <td>NaN</td>\n",
       "      <td>NaN</td>\n",
       "      <td>NaN</td>\n",
       "    </tr>\n",
       "    <tr>\n",
       "      <th>min</th>\n",
       "      <td>NaN</td>\n",
       "      <td>NaN</td>\n",
       "      <td>NaN</td>\n",
       "      <td>NaN</td>\n",
       "      <td>NaN</td>\n",
       "      <td>NaN</td>\n",
       "      <td>NaN</td>\n",
       "      <td>0.000000</td>\n",
       "      <td>NaN</td>\n",
       "      <td>NaN</td>\n",
       "      <td>NaN</td>\n",
       "      <td>NaN</td>\n",
       "      <td>NaN</td>\n",
       "      <td>NaN</td>\n",
       "      <td>NaN</td>\n",
       "      <td>NaN</td>\n",
       "      <td>NaN</td>\n",
       "      <td>NaN</td>\n",
       "      <td>NaN</td>\n",
       "    </tr>\n",
       "    <tr>\n",
       "      <th>25%</th>\n",
       "      <td>NaN</td>\n",
       "      <td>NaN</td>\n",
       "      <td>NaN</td>\n",
       "      <td>NaN</td>\n",
       "      <td>NaN</td>\n",
       "      <td>NaN</td>\n",
       "      <td>NaN</td>\n",
       "      <td>5.000000</td>\n",
       "      <td>NaN</td>\n",
       "      <td>NaN</td>\n",
       "      <td>NaN</td>\n",
       "      <td>NaN</td>\n",
       "      <td>NaN</td>\n",
       "      <td>NaN</td>\n",
       "      <td>NaN</td>\n",
       "      <td>NaN</td>\n",
       "      <td>NaN</td>\n",
       "      <td>NaN</td>\n",
       "      <td>NaN</td>\n",
       "    </tr>\n",
       "    <tr>\n",
       "      <th>50%</th>\n",
       "      <td>NaN</td>\n",
       "      <td>NaN</td>\n",
       "      <td>NaN</td>\n",
       "      <td>NaN</td>\n",
       "      <td>NaN</td>\n",
       "      <td>NaN</td>\n",
       "      <td>NaN</td>\n",
       "      <td>34.000000</td>\n",
       "      <td>NaN</td>\n",
       "      <td>NaN</td>\n",
       "      <td>NaN</td>\n",
       "      <td>NaN</td>\n",
       "      <td>NaN</td>\n",
       "      <td>NaN</td>\n",
       "      <td>NaN</td>\n",
       "      <td>NaN</td>\n",
       "      <td>NaN</td>\n",
       "      <td>NaN</td>\n",
       "      <td>NaN</td>\n",
       "    </tr>\n",
       "    <tr>\n",
       "      <th>75%</th>\n",
       "      <td>NaN</td>\n",
       "      <td>NaN</td>\n",
       "      <td>NaN</td>\n",
       "      <td>NaN</td>\n",
       "      <td>NaN</td>\n",
       "      <td>NaN</td>\n",
       "      <td>NaN</td>\n",
       "      <td>167.000000</td>\n",
       "      <td>NaN</td>\n",
       "      <td>NaN</td>\n",
       "      <td>NaN</td>\n",
       "      <td>NaN</td>\n",
       "      <td>NaN</td>\n",
       "      <td>NaN</td>\n",
       "      <td>NaN</td>\n",
       "      <td>NaN</td>\n",
       "      <td>NaN</td>\n",
       "      <td>NaN</td>\n",
       "      <td>NaN</td>\n",
       "    </tr>\n",
       "    <tr>\n",
       "      <th>max</th>\n",
       "      <td>NaN</td>\n",
       "      <td>NaN</td>\n",
       "      <td>NaN</td>\n",
       "      <td>NaN</td>\n",
       "      <td>NaN</td>\n",
       "      <td>NaN</td>\n",
       "      <td>NaN</td>\n",
       "      <td>16345.000000</td>\n",
       "      <td>NaN</td>\n",
       "      <td>NaN</td>\n",
       "      <td>NaN</td>\n",
       "      <td>NaN</td>\n",
       "      <td>NaN</td>\n",
       "      <td>NaN</td>\n",
       "      <td>NaN</td>\n",
       "      <td>NaN</td>\n",
       "      <td>NaN</td>\n",
       "      <td>NaN</td>\n",
       "      <td>NaN</td>\n",
       "    </tr>\n",
       "  </tbody>\n",
       "</table>\n",
       "</div>\n",
       "      <button class=\"colab-df-convert\" onclick=\"convertToInteractive('df-acedfc7a-06e1-4a1e-89cf-0738696e233e')\"\n",
       "              title=\"Convert this dataframe to an interactive table.\"\n",
       "              style=\"display:none;\">\n",
       "        \n",
       "  <svg xmlns=\"http://www.w3.org/2000/svg\" height=\"24px\"viewBox=\"0 0 24 24\"\n",
       "       width=\"24px\">\n",
       "    <path d=\"M0 0h24v24H0V0z\" fill=\"none\"/>\n",
       "    <path d=\"M18.56 5.44l.94 2.06.94-2.06 2.06-.94-2.06-.94-.94-2.06-.94 2.06-2.06.94zm-11 1L8.5 8.5l.94-2.06 2.06-.94-2.06-.94L8.5 2.5l-.94 2.06-2.06.94zm10 10l.94 2.06.94-2.06 2.06-.94-2.06-.94-.94-2.06-.94 2.06-2.06.94z\"/><path d=\"M17.41 7.96l-1.37-1.37c-.4-.4-.92-.59-1.43-.59-.52 0-1.04.2-1.43.59L10.3 9.45l-7.72 7.72c-.78.78-.78 2.05 0 2.83L4 21.41c.39.39.9.59 1.41.59.51 0 1.02-.2 1.41-.59l7.78-7.78 2.81-2.81c.8-.78.8-2.07 0-2.86zM5.41 20L4 18.59l7.72-7.72 1.47 1.35L5.41 20z\"/>\n",
       "  </svg>\n",
       "      </button>\n",
       "      \n",
       "  <style>\n",
       "    .colab-df-container {\n",
       "      display:flex;\n",
       "      flex-wrap:wrap;\n",
       "      gap: 12px;\n",
       "    }\n",
       "\n",
       "    .colab-df-convert {\n",
       "      background-color: #E8F0FE;\n",
       "      border: none;\n",
       "      border-radius: 50%;\n",
       "      cursor: pointer;\n",
       "      display: none;\n",
       "      fill: #1967D2;\n",
       "      height: 32px;\n",
       "      padding: 0 0 0 0;\n",
       "      width: 32px;\n",
       "    }\n",
       "\n",
       "    .colab-df-convert:hover {\n",
       "      background-color: #E2EBFA;\n",
       "      box-shadow: 0px 1px 2px rgba(60, 64, 67, 0.3), 0px 1px 3px 1px rgba(60, 64, 67, 0.15);\n",
       "      fill: #174EA6;\n",
       "    }\n",
       "\n",
       "    [theme=dark] .colab-df-convert {\n",
       "      background-color: #3B4455;\n",
       "      fill: #D2E3FC;\n",
       "    }\n",
       "\n",
       "    [theme=dark] .colab-df-convert:hover {\n",
       "      background-color: #434B5C;\n",
       "      box-shadow: 0px 1px 3px 1px rgba(0, 0, 0, 0.15);\n",
       "      filter: drop-shadow(0px 1px 2px rgba(0, 0, 0, 0.3));\n",
       "      fill: #FFFFFF;\n",
       "    }\n",
       "  </style>\n",
       "\n",
       "      <script>\n",
       "        const buttonEl =\n",
       "          document.querySelector('#df-acedfc7a-06e1-4a1e-89cf-0738696e233e button.colab-df-convert');\n",
       "        buttonEl.style.display =\n",
       "          google.colab.kernel.accessAllowed ? 'block' : 'none';\n",
       "\n",
       "        async function convertToInteractive(key) {\n",
       "          const element = document.querySelector('#df-acedfc7a-06e1-4a1e-89cf-0738696e233e');\n",
       "          const dataTable =\n",
       "            await google.colab.kernel.invokeFunction('convertToInteractive',\n",
       "                                                     [key], {});\n",
       "          if (!dataTable) return;\n",
       "\n",
       "          const docLinkHtml = 'Like what you see? Visit the ' +\n",
       "            '<a target=\"_blank\" href=https://colab.research.google.com/notebooks/data_table.ipynb>data table notebook</a>'\n",
       "            + ' to learn more about interactive tables.';\n",
       "          element.innerHTML = '';\n",
       "          dataTable['output_type'] = 'display_data';\n",
       "          await google.colab.output.renderOutput(dataTable, element);\n",
       "          const docLink = document.createElement('div');\n",
       "          docLink.innerHTML = docLinkHtml;\n",
       "          element.appendChild(docLink);\n",
       "        }\n",
       "      </script>\n",
       "    </div>\n",
       "  </div>\n",
       "  "
      ],
      "text/plain": [
       "                   name        address     listed_in(type)_x  \\\n",
       "count             20915          20915                 20915   \n",
       "unique             8792          11495                   927   \n",
       "top     Cafe Coffee Day  Delivery Only  [Delivery, Dine-out]   \n",
       "freq                 78             36                  2418   \n",
       "mean                NaN            NaN                   NaN   \n",
       "std                 NaN            NaN                   NaN   \n",
       "min                 NaN            NaN                   NaN   \n",
       "25%                 NaN            NaN                   NaN   \n",
       "50%                 NaN            NaN                   NaN   \n",
       "75%                 NaN            NaN                   NaN   \n",
       "max                 NaN            NaN                   NaN   \n",
       "\n",
       "                                                      url online_order  \\\n",
       "count                                               20915        20915   \n",
       "unique                                              20915            2   \n",
       "top     https://www.zomato.com/bangalore/feeltheroll-b...          Yes   \n",
       "freq                                                    1        11605   \n",
       "mean                                                  NaN          NaN   \n",
       "std                                                   NaN          NaN   \n",
       "min                                                   NaN          NaN   \n",
       "25%                                                   NaN          NaN   \n",
       "50%                                                   NaN          NaN   \n",
       "75%                                                   NaN          NaN   \n",
       "max                                                   NaN          NaN   \n",
       "\n",
       "       book_table   rate         votes         phone    location    rest_type  \\\n",
       "count       20915  17532  20915.000000         20516       20903        20809   \n",
       "unique          2     61           NaN         11999          93           93   \n",
       "top            No  3.9/5           NaN  080 43334333  Whitefield  Quick Bites   \n",
       "freq        18615   1181           NaN            93        1462         8007   \n",
       "mean          NaN    NaN    246.105427           NaN         NaN          NaN   \n",
       "std           NaN    NaN    741.954538           NaN         NaN          NaN   \n",
       "min           NaN    NaN      0.000000           NaN         NaN          NaN   \n",
       "25%           NaN    NaN      5.000000           NaN         NaN          NaN   \n",
       "50%           NaN    NaN     34.000000           NaN         NaN          NaN   \n",
       "75%           NaN    NaN    167.000000           NaN         NaN          NaN   \n",
       "max           NaN    NaN  16345.000000           NaN         NaN          NaN   \n",
       "\n",
       "       dish_liked      cuisines approx_cost(for two people) reviews_list  \\\n",
       "count        8916         20892                       20817        20915   \n",
       "unique       4502          2630                          70        12660   \n",
       "top       Biryani  North Indian                         300           []   \n",
       "freq           78          1174                        3005         3524   \n",
       "mean          NaN           NaN                         NaN          NaN   \n",
       "std           NaN           NaN                         NaN          NaN   \n",
       "min           NaN           NaN                         NaN          NaN   \n",
       "25%           NaN           NaN                         NaN          NaN   \n",
       "50%           NaN           NaN                         NaN          NaN   \n",
       "75%           NaN           NaN                         NaN          NaN   \n",
       "max           NaN           NaN                         NaN          NaN   \n",
       "\n",
       "       menu_item listed_in(type)_y listed_in(city) rating  \n",
       "count      20915             20915           20915  16391  \n",
       "unique      3693                 7              30      3  \n",
       "top           []          Delivery             BTM      1  \n",
       "freq       16766              9355            2379  11321  \n",
       "mean         NaN               NaN             NaN    NaN  \n",
       "std          NaN               NaN             NaN    NaN  \n",
       "min          NaN               NaN             NaN    NaN  \n",
       "25%          NaN               NaN             NaN    NaN  \n",
       "50%          NaN               NaN             NaN    NaN  \n",
       "75%          NaN               NaN             NaN    NaN  \n",
       "max          NaN               NaN             NaN    NaN  "
      ]
     },
     "execution_count": 22,
     "metadata": {},
     "output_type": "execute_result"
    }
   ],
   "source": [
    "# Summary statistics\n",
    "newdata.describe(include = \"all\")"
   ]
  },
  {
   "cell_type": "code",
   "execution_count": 23,
   "metadata": {
    "colab": {
     "base_uri": "https://localhost:8080/",
     "height": 105
    },
    "id": "5QBbhs8RqhMn",
    "outputId": "665a2f83-cab0-4851-ec8b-f62a8d8dc35f"
   },
   "outputs": [
    {
     "data": {
      "application/vnd.google.colaboratory.intrinsic+json": {
       "type": "string"
      },
      "text/plain": [
       "'[(\\'Rated 5.0\\', \"RATED\\\\n  Had an egg chicken roll and a paneer roll... Really yummy... A must visit place... It would be good if you guys can keep the shop open on Sunday\\'s as well.. Good luck... :-)\"), (\\'Rated 5.0\\', \\'RATED\\\\n  Not just the Roll but the filling tastes great. I would highly recommend to others to try their rolls. Owners hospitality is also good and very friendly.\\'), (\\'Rated 4.5\\', \\'RATED\\\\n  Very nice place complete value for money ? Highly recommend.Must visit for any foodie . I would recommend the egg chicken roll . #feeltheroll\\'), (\\'Rated 5.0\\', \\'RATED\\\\n  Had an amazing mouth-watering ?chicken roll?Worth every bite..A must try for every foodie?A variety of rolls and sandwiches are available as well .. A budding rafflesia ?\\')]'"
      ]
     },
     "execution_count": 23,
     "metadata": {},
     "output_type": "execute_result"
    }
   ],
   "source": [
    "newdata['reviews_list'][0]"
   ]
  },
  {
   "cell_type": "code",
   "execution_count": 24,
   "metadata": {
    "id": "dbdo3KL1qhMq"
   },
   "outputs": [],
   "source": [
    "sample=newdata.sample(n=4000)\n",
    "total_review=' '\n",
    "for review in sample['reviews_list']:\n",
    "    review=review.lower()\n",
    "    review=re.sub('[^a-zA-Z]', ' ',review)\n",
    "    review=re.sub('rated', ' ',review)\n",
    "    review=re.sub('x',' ',review) \n",
    "    review=re.sub(' +',' ',review)\n",
    "    total_review=total_review + str(review)\n",
    " "
   ]
  },
  {
   "cell_type": "markdown",
   "metadata": {
    "id": "7s-9c0ViFIuU"
   },
   "source": [
    "**generate wordcloud**"
   ]
  },
  {
   "cell_type": "code",
   "execution_count": 25,
   "metadata": {
    "colab": {
     "base_uri": "https://localhost:8080/",
     "height": 483
    },
    "id": "nH-cJtRbqhMr",
    "outputId": "1e8fedb5-dd2b-414f-9fc8-4ea5d1600ea1"
   },
   "outputs": [
    {
     "data": {
      "text/plain": [
       "(-0.5, 799.5, 799.5, -0.5)"
      ]
     },
     "execution_count": 25,
     "metadata": {},
     "output_type": "execute_result"
    },
    {
     "data": {
      "image/png": "[encoded data removed]",
      "text/plain": [
       "<Figure size 720x576 with 1 Axes>"
      ]
     },
     "metadata": {
      "needs_background": "light"
     },
     "output_type": "display_data"
    }
   ],
   "source": [
    "stopwords=set(STOPWORDS)\n",
    "wordcloud = WordCloud(width = 800, height = 800, \n",
    "                background_color ='black', \n",
    "                stopwords = stopwords, \n",
    "                min_font_size = 10).generate(total_review) \n",
    "# plot the WordCloud image                        \n",
    "plt.figure(figsize = (10, 8)) \n",
    "plt.imshow(wordcloud) \n",
    "plt.axis(\"off\") "
   ]
  },
  {
   "cell_type": "code",
   "execution_count": 26,
   "metadata": {
    "id": "G6hapCqYqhMs"
   },
   "outputs": [],
   "source": [
    "from nltk.corpus import RegexpTokenizer as regextoken"
   ]
  },
  {
   "cell_type": "code",
   "execution_count": 27,
   "metadata": {
    "id": "gOa39mYoqhMs"
   },
   "outputs": [],
   "source": [
    "# Converting all the text to lowercase\n",
    "newdata[\"reviews_list\"] = newdata[\"reviews_list\"].apply(lambda x: x.lower())"
   ]
  },
  {
   "cell_type": "code",
   "execution_count": 28,
   "metadata": {
    "id": "bFn-jtmOqhMt"
   },
   "outputs": [],
   "source": [
    "##  Creating a regular expression tokenizer that have only alphabets , ie it remove all the special characters\n",
    "\n",
    "tokenizer = regextoken(\"[a-zA-Z]+\") "
   ]
  },
  {
   "cell_type": "code",
   "execution_count": 29,
   "metadata": {
    "colab": {
     "base_uri": "https://localhost:8080/",
     "height": 105
    },
    "id": "WVyZrbQQqhMt",
    "outputId": "873bf5d5-aa34-4a8a-d842-2e2d3bf839d4"
   },
   "outputs": [
    {
     "data": {
      "application/vnd.google.colaboratory.intrinsic+json": {
       "type": "string"
      },
      "text/plain": [
       "'[(\\'rated 5.0\\', \"rated\\\\n  had an egg chicken roll and a paneer roll... really yummy... a must visit place... it would be good if you guys can keep the shop open on sunday\\'s as well.. good luck... :-)\"), (\\'rated 5.0\\', \\'rated\\\\n  not just the roll but the filling tastes great. i would highly recommend to others to try their rolls. owners hospitality is also good and very friendly.\\'), (\\'rated 4.5\\', \\'rated\\\\n  very nice place complete value for money ? highly recommend.must visit for any foodie . i would recommend the egg chicken roll . #feeltheroll\\'), (\\'rated 5.0\\', \\'rated\\\\n  had an amazing mouth-watering ?chicken roll?worth every bite..a must try for every foodie?a variety of rolls and sandwiches are available as well .. a budding rafflesia ?\\')]'"
      ]
     },
     "execution_count": 29,
     "metadata": {},
     "output_type": "execute_result"
    }
   ],
   "source": [
    "newdata[\"reviews_list\"][0]"
   ]
  },
  {
   "cell_type": "code",
   "execution_count": 30,
   "metadata": {
    "colab": {
     "base_uri": "https://localhost:8080/"
    },
    "id": "iA-lhMO0qhMt",
    "outputId": "3dded829-167d-412c-e5bf-e0dd6a15d66b"
   },
   "outputs": [
    {
     "name": "stdout",
     "output_type": "stream",
     "text": [
      "['rated', 'rated', 'n', 'had', 'an', 'egg', 'chicken', 'roll', 'and', 'a', 'paneer', 'roll', 'really', 'yummy', 'a', 'must', 'visit', 'place', 'it', 'would', 'be', 'good', 'if', 'you', 'guys', 'can', 'keep', 'the', 'shop', 'open', 'on', 'sunday', 's', 'as', 'well', 'good', 'luck', 'rated', 'rated', 'n', 'not', 'just', 'the', 'roll', 'but', 'the', 'filling', 'tastes', 'great', 'i', 'would', 'highly', 'recommend', 'to', 'others', 'to', 'try', 'their', 'rolls', 'owners', 'hospitality', 'is', 'also', 'good', 'and', 'very', 'friendly', 'rated', 'rated', 'n', 'very', 'nice', 'place', 'complete', 'value', 'for', 'money', 'highly', 'recommend', 'must', 'visit', 'for', 'any', 'foodie', 'i', 'would', 'recommend', 'the', 'egg', 'chicken', 'roll', 'feeltheroll', 'rated', 'rated', 'n', 'had', 'an', 'amazing', 'mouth', 'watering', 'chicken', 'roll', 'worth', 'every', 'bite', 'a', 'must', 'try', 'for', 'every', 'foodie', 'a', 'variety', 'of', 'rolls', 'and', 'sandwiches', 'are', 'available', 'as', 'well', 'a', 'budding', 'rafflesia']\n"
     ]
    }
   ],
   "source": [
    "## tokenize data of very first review\n",
    "print(tokenizer.tokenize(newdata[\"reviews_list\"][0]))"
   ]
  },
  {
   "cell_type": "code",
   "execution_count": 31,
   "metadata": {
    "id": "xMaeBiGLqhMu"
   },
   "outputs": [],
   "source": [
    "\n",
    "# Applying the tokenizer to each row of the reviews\n",
    "review_tokens = newdata[\"reviews_list\"].apply(tokenizer.tokenize)"
   ]
  },
  {
   "cell_type": "code",
   "execution_count": 32,
   "metadata": {
    "colab": {
     "base_uri": "https://localhost:8080/"
    },
    "id": "CS7bRuatqhMu",
    "outputId": "392f0911-662e-4e88-f920-74cc903d0b2d"
   },
   "outputs": [
    {
     "name": "stdout",
     "output_type": "stream",
     "text": [
      "['rated', 'rated', 'n', 'this', 'little', 'cafe', 'is', 'set', 'in', 'a', 'very', 'beautiful', 'location', 'and', 'the', 'ambiance', 'was', 'too', 'good', 'nthe', 'burger', 'was', 'filled', 'with', 'taste', 'and', 'chicken', 'nthe', 'banana', 'chocolate', 'sandwich', 'was', 'a', 'variety', 'that', 'you', 'would', 'never', 'find', 'in', 'most', 'of', 'the', 'restaurants', 'in', 'bangalore', 'the', 'drinks', 'were', 'wonderful', 'and', 'had', 'lot', 'of', 'flavours', 'to', 'choose', 'from', 'nit', 'took', 'a', 'little', 'more', 'time', 'than', 'expected', 'for', 'the', 'food', 'to', 'be', 'served', 'in', 'the', 'table', 'nall', 'the', 'dishes', 'there', 'seemed', 'to', 'be', 'priced', 'moderately', 'and', 'well', 'nfood', 'nambiance', 'nservice', 'ntheir', 'chefs', 'are', 'doing', 'a', 'brilliant', 'job', 'creating', 'new', 'dishes', 'with', 'a', 'variety', 'na', 'wonderful', 'place', 'to', 'be', 'out', 'with', 'your', 'friends', 'rated', 'rated', 'n', 'a', 'cozy', 'cafe', 'near', 'silk', 'board', 'just', 'came', 'here', 'before', 'boarding', 'the', 'bus', 'this', 'is', 'totally', 'open', 'air', 'especially', 'comfortable', 'at', 'night', 'staff', 'are', 'friendly', 'they', 'didn', 't', 'serve', 'food', 'that', 'fast', 'but', 'they', 'are', 'quite', 'cheap', 'and', 'good', 'for', 'a', 'bite', 'ncons', 'don', 't', 'come', 'if', 'weather', 'is', 'not', 'good', 'the', 'toilets', 'don', 't', 'have', 'lights', 'ni', 'recommend', 'the', 'beetroot', 'juice', 'rated', 'rated', 'n', 'such', 'a', 'nice', 'place', 'to', 'hang', 'out', 'its', 'an', 'open', 'space', 'you', 'must', 'visit', 'this', 'place', 'in', 'the', 'night', 'it', 'looks', 'awesome', 'all', 'food', 'items', 'are', 'very', 'tasty', 'i', 'had', 'been', 'with', 'my', 'friend', 'and', 'ordered', 'onion', 'pakoda', 'masala', 'soda', 'rose', 'falooda', 'corn', 'sandwich', 'and', 'chocolate', 'sandwich', 'all', 'items', 'were', 'so', 'tasty', 'and', 'i', 'love', 'to', 'visit', 'this', 'place', 'again', 'and', 'again', 'rated', 'rated', 'n', 'love', 'the', 'ambiance', 'perfect', 'way', 'to', 'spend', 'your', 'sunday', 'the', 'food', 'is', 'really', 'good', 'and', 'value', 'for', 'money', 'even', 'the', 'shakes', 'are', 'delicious', 'a', 'must', 'visit', 'for', 'nature', 'lovers', 'rated', 'rated', 'n', 'such', 'an', 'amazing', 'and', 'beautiful', 'place', 'in', 'the', 'calm', 'area', 'of', 'hsr', 'we', 'usually', 'comes', 'here', 'for', 'office', 'breaks', 'hard', 'to', 'realise', 'that', 'l', 'doesn', 't', 'serves', 'food', 'but', 'just', 'snacks', 'and', 'shakes', 'shakes', 'were', 'really', 'well', 'tried', 'lassi', 'and', 'dark', 'chocolate', 'ice', 'cream', 'other', 'day', 'lassi', 'was', 'nice', 'icecream', 'was', 'usual', 'but', 'what', 'won', 'our', 'hearts', 'was', 'the', 'place', 'fresh', 'air', 'and', 'the', 'decent', 'builtup', 'style']\n"
     ]
    }
   ],
   "source": [
    "# Examining the tokens created for the first row / restaurant\n",
    "print(review_tokens[1])"
   ]
  },
  {
   "cell_type": "code",
   "execution_count": 33,
   "metadata": {
    "id": "gAYkRUPQqhMu"
   },
   "outputs": [],
   "source": [
    "### now from this above list,we will figure out we have some stopwords, it means we have to remove these stopwords like an,and,it etc"
   ]
  },
  {
   "cell_type": "code",
   "execution_count": 34,
   "metadata": {
    "colab": {
     "base_uri": "https://localhost:8080/"
    },
    "id": "rJWNfmM3qhMt",
    "outputId": "4665a5b5-65b9-4f60-be7f-73afb71f876b"
   },
   "outputs": [
    {
     "name": "stdout",
     "output_type": "stream",
     "text": [
      "[nltk_data] Downloading package stopwords to /root/nltk_data...\n",
      "[nltk_data]   Unzipping corpora/stopwords.zip.\n"
     ]
    }
   ],
   "source": [
    "import nltk\n",
    "nltk.download('stopwords')\n",
    "from nltk.corpus import stopwords"
   ]
  },
  {
   "cell_type": "code",
   "execution_count": 35,
   "metadata": {
    "id": "n_GsnTt3qhMu"
   },
   "outputs": [],
   "source": [
    "stop = stopwords.words(\"english\")\n",
    "stop.extend([\"rated\", \"n\", \"nan\", \"x\",\"f\",\"xa\",\"c\"])  # Adding custom words to stopwords "
   ]
  },
  {
   "cell_type": "code",
   "execution_count": 36,
   "metadata": {
    "colab": {
     "base_uri": "https://localhost:8080/"
    },
    "id": "BT_3_TdpqhM1",
    "outputId": "e9214f03-d67c-41ad-8b31-a4a8d17f741b"
   },
   "outputs": [
    {
     "name": "stdout",
     "output_type": "stream",
     "text": [
      "['rated', 'rated', 'n', 'had', 'an', 'egg', 'chicken', 'roll', 'and', 'a', 'paneer', 'roll', 'really', 'yummy', 'a', 'must', 'visit', 'place', 'it', 'would', 'be', 'good', 'if', 'you', 'guys', 'can', 'keep', 'the', 'shop', 'open', 'on', 'sunday', 's', 'as', 'well', 'good', 'luck', 'rated', 'rated', 'n', 'not', 'just', 'the', 'roll', 'but', 'the', 'filling', 'tastes', 'great', 'i', 'would', 'highly', 'recommend', 'to', 'others', 'to', 'try', 'their', 'rolls', 'owners', 'hospitality', 'is', 'also', 'good', 'and', 'very', 'friendly', 'rated', 'rated', 'n', 'very', 'nice', 'place', 'complete', 'value', 'for', 'money', 'highly', 'recommend', 'must', 'visit', 'for', 'any', 'foodie', 'i', 'would', 'recommend', 'the', 'egg', 'chicken', 'roll', 'feeltheroll', 'rated', 'rated', 'n', 'had', 'an', 'amazing', 'mouth', 'watering', 'chicken', 'roll', 'worth', 'every', 'bite', 'a', 'must', 'try', 'for', 'every', 'foodie', 'a', 'variety', 'of', 'rolls', 'and', 'sandwiches', 'are', 'available', 'as', 'well', 'a', 'budding', 'rafflesia']\n"
     ]
    }
   ],
   "source": [
    "### with respect to very first row, how to remove stopwords\n",
    "rev=review_tokens[0]\n",
    "print(rev)"
   ]
  },
  {
   "cell_type": "code",
   "execution_count": 37,
   "metadata": {
    "colab": {
     "base_uri": "https://localhost:8080/"
    },
    "id": "Z6_1ULe2qhM1",
    "outputId": "e0d6034d-8b25-403f-a2a6-fafd5c840a87"
   },
   "outputs": [
    {
     "name": "stdout",
     "output_type": "stream",
     "text": [
      "['egg', 'chicken', 'roll', 'paneer', 'roll', 'really', 'yummy', 'must', 'visit', 'place', 'would', 'good', 'guys', 'keep', 'shop', 'open', 'sunday', 'well', 'good', 'luck', 'roll', 'filling', 'tastes', 'great', 'would', 'highly', 'recommend', 'others', 'try', 'rolls', 'owners', 'hospitality', 'also', 'good', 'friendly', 'nice', 'place', 'complete', 'value', 'money', 'highly', 'recommend', 'must', 'visit', 'foodie', 'would', 'recommend', 'egg', 'chicken', 'roll', 'feeltheroll', 'amazing', 'mouth', 'watering', 'chicken', 'roll', 'worth', 'every', 'bite', 'must', 'try', 'every', 'foodie', 'variety', 'rolls', 'sandwiches', 'available', 'well', 'budding', 'rafflesia']\n"
     ]
    }
   ],
   "source": [
    "print([token for token in rev if token not in stop])"
   ]
  },
  {
   "cell_type": "code",
   "execution_count": null,
   "metadata": {
    "id": "gN_R8nMnqhM1"
   },
   "outputs": [],
   "source": [
    "### using function"
   ]
  },
  {
   "cell_type": "code",
   "execution_count": 38,
   "metadata": {
    "id": "uL-ejReNqhM1"
   },
   "outputs": [],
   "source": [
    "def remove_stopwords(text):\n",
    "    updated_text=[token for token in text if token not in stop]\n",
    "    return updated_text\n",
    "\n",
    "review_tokens=review_tokens.apply(remove_stopwords)"
   ]
  },
  {
   "cell_type": "code",
   "execution_count": 39,
   "metadata": {
    "colab": {
     "base_uri": "https://localhost:8080/"
    },
    "id": "W3VlT99jqhM2",
    "outputId": "15ef0060-7f5d-4e29-b416-e7dd919b1010"
   },
   "outputs": [
    {
     "data": {
      "text/plain": [
       "pandas.core.series.Series"
      ]
     },
     "execution_count": 39,
     "metadata": {},
     "output_type": "execute_result"
    }
   ],
   "source": [
    "type(review_tokens)"
   ]
  },
  {
   "cell_type": "code",
   "execution_count": 40,
   "metadata": {
    "colab": {
     "base_uri": "https://localhost:8080/",
     "height": 53
    },
    "id": "F1N0Cu20qhM3",
    "outputId": "2ead5b13-0a15-4164-9af0-73fe1fe6e3c2"
   },
   "outputs": [
    {
     "data": {
      "application/vnd.google.colaboratory.intrinsic+json": {
       "type": "string"
      },
      "text/plain": [
       "\"['egg', 'chicken', 'roll', 'paneer', 'roll', 'really', 'yummy', 'must', 'visit', 'place', 'would', 'good', 'guys', 'keep', 'shop', 'open', 'sunday', 'well', 'good', 'luck', 'roll', 'filling', 'tastes'\""
      ]
     },
     "execution_count": 40,
     "metadata": {},
     "output_type": "execute_result"
    }
   ],
   "source": [
    "# Concatenating all the reviews as I have to count frequency of each word \n",
    "all_reviews = review_tokens.astype(str).str.cat()\n",
    "all_reviews[0:200]"
   ]
  },
  {
   "cell_type": "code",
   "execution_count": 41,
   "metadata": {
    "colab": {
     "base_uri": "https://localhost:8080/"
    },
    "id": "tqzAzja0qhM4",
    "outputId": "d66b659f-04f5-40c3-8fc9-40781a6e9c56"
   },
   "outputs": [
    {
     "data": {
      "text/plain": [
       "str"
      ]
     },
     "execution_count": 41,
     "metadata": {},
     "output_type": "execute_result"
    }
   ],
   "source": [
    "type(all_reviews)"
   ]
  },
  {
   "cell_type": "code",
   "execution_count": 42,
   "metadata": {
    "colab": {
     "base_uri": "https://localhost:8080/"
    },
    "id": "XuPxT6iIqhM4",
    "outputId": "995d37ed-1ad7-4c39-a1d0-239190169e04"
   },
   "outputs": [
    {
     "data": {
      "text/plain": [
       "129191232"
      ]
     },
     "execution_count": 42,
     "metadata": {},
     "output_type": "execute_result"
    }
   ],
   "source": [
    "len(all_reviews)"
   ]
  },
  {
   "cell_type": "code",
   "execution_count": 43,
   "metadata": {
    "colab": {
     "base_uri": "https://localhost:8080/"
    },
    "id": "sf-lOyX9qhM4",
    "outputId": "2fefa7be-8791-48d3-a08c-64016587a03d"
   },
   "outputs": [
    {
     "data": {
      "text/plain": [
       "list"
      ]
     },
     "execution_count": 43,
     "metadata": {},
     "output_type": "execute_result"
    }
   ],
   "source": [
    "\n",
    "## perform tokenization to convert your string(all_reviews) into list,so that we will count frequency of words\n",
    "cleaned_reviews = tokenizer.tokenize(all_reviews)\n",
    "type(cleaned_reviews)"
   ]
  },
  {
   "cell_type": "code",
   "execution_count": 44,
   "metadata": {
    "colab": {
     "base_uri": "https://localhost:8080/"
    },
    "id": "9kq9ggiTqhM5",
    "outputId": "cf670699-c785-4d7d-e059-6748801f95b3"
   },
   "outputs": [
    {
     "data": {
      "text/plain": [
       "13346887"
      ]
     },
     "execution_count": 44,
     "metadata": {},
     "output_type": "execute_result"
    }
   ],
   "source": [
    "len(cleaned_reviews)"
   ]
  },
  {
   "cell_type": "code",
   "execution_count": 45,
   "metadata": {
    "colab": {
     "base_uri": "https://localhost:8080/"
    },
    "id": "o3iDLtrNqhM6",
    "outputId": "2a597ce5-124b-482a-a397-eca9b421947a"
   },
   "outputs": [
    {
     "name": "stdout",
     "output_type": "stream",
     "text": [
      "['egg', 'chicken', 'roll', 'paneer', 'roll', 'really', 'yummy', 'must', 'visit', 'place', 'would', 'good', 'guys', 'keep', 'shop', 'open', 'sunday', 'well', 'good', 'luck', 'roll', 'filling', 'tastes', 'great', 'would', 'highly', 'recommend', 'others', 'try', 'rolls', 'owners', 'hospitality', 'also', 'good', 'friendly', 'nice', 'place', 'complete', 'value', 'money', 'highly', 'recommend', 'must', 'visit', 'foodie', 'would', 'recommend', 'egg', 'chicken', 'roll', 'feeltheroll', 'amazing', 'mouth', 'watering', 'chicken', 'roll', 'worth', 'every', 'bite', 'must', 'try', 'every', 'foodie', 'variety', 'rolls', 'sandwiches', 'available', 'well', 'budding', 'rafflesia', 'little', 'cafe', 'set', 'beautiful', 'location', 'ambiance', 'good', 'nthe', 'burger', 'filled', 'taste', 'chicken', 'nthe', 'banana', 'chocolate', 'sandwich', 'variety', 'would', 'never', 'find', 'restaurants', 'bangalore', 'drinks', 'wonderful', 'lot', 'flavours', 'choose', 'nit', 'took', 'little', 'time', 'expected', 'food', 'served', 'table', 'nall', 'dishes', 'seemed', 'priced', 'moderately', 'well', 'nfood', 'nambiance', 'nservice', 'ntheir', 'chefs', 'brilliant', 'job', 'creating', 'new', 'dishes', 'variety', 'na', 'wonderful', 'place', 'friends', 'cozy', 'cafe', 'near', 'silk', 'board', 'came', 'boarding', 'bus', 'totally', 'open', 'air', 'especially', 'comfortable', 'night', 'staff', 'friendly', 'serve', 'food', 'fast', 'quite', 'cheap', 'good', 'bite', 'ncons', 'come', 'weather', 'good', 'toilets', 'lights', 'ni', 'recommend', 'beetroot', 'juice', 'nice', 'place', 'hang', 'open', 'space', 'must', 'visit', 'place', 'night', 'looks', 'awesome', 'food', 'items', 'tasty', 'friend', 'ordered', 'onion', 'pakoda', 'masala', 'soda', 'rose', 'falooda', 'corn', 'sandwich', 'chocolate', 'sandwich', 'items', 'tasty', 'love', 'visit', 'place', 'love', 'ambiance', 'perfect', 'way', 'spend', 'sunday', 'food', 'really', 'good', 'value']\n"
     ]
    }
   ],
   "source": [
    "print(cleaned_reviews[0:200])"
   ]
  },
  {
   "cell_type": "markdown",
   "metadata": {
    "id": "YFLvT3zCbPWq"
   },
   "source": [
    "**obtain the frequency of individual words in the reviews, for this u have to use FreqDist**"
   ]
  },
  {
   "cell_type": "code",
   "execution_count": 46,
   "metadata": {
    "colab": {
     "base_uri": "https://localhost:8080/"
    },
    "id": "jzs78RtfqhM6",
    "outputId": "e312323f-ddb0-423d-e9ef-6656388cf8cc"
   },
   "outputs": [
    {
     "data": {
      "text/plain": [
       "[('good', 328304),\n",
       " ('place', 317915),\n",
       " ('food', 307405),\n",
       " ('chicken', 141301),\n",
       " ('service', 109512)]"
      ]
     },
     "execution_count": 46,
     "metadata": {},
     "output_type": "execute_result"
    }
   ],
   "source": [
    "from nltk import FreqDist, bigrams, trigrams\n",
    "\n",
    "fd = FreqDist()\n",
    "\n",
    "for word in cleaned_reviews:\n",
    "    fd[word]=fd[word]+ 1\n",
    "\n",
    "# Examining the top 5 most frequent words\n",
    "fd.most_common(5)"
   ]
  },
  {
   "cell_type": "code",
   "execution_count": 47,
   "metadata": {
    "colab": {
     "base_uri": "https://localhost:8080/",
     "height": 542
    },
    "id": "ln6FIhUkqhM8",
    "outputId": "fa31a7bf-bcc1-4f07-b57a-1a8195f61e66"
   },
   "outputs": [
    {
     "data": {
      "image/png": "[encoded data removed]",
      "text/plain": [
       "<Figure size 1440x576 with 1 Axes>"
      ]
     },
     "metadata": {
      "needs_background": "light"
     },
     "output_type": "display_data"
    }
   ],
   "source": [
    "# Plotting the top 50 most frequent words\n",
    "plt.figure(figsize = (20, 8))\n",
    "fd.plot(50)"
   ]
  },
  {
   "cell_type": "markdown",
   "metadata": {
    "id": "_Srh5MttqhM8"
   },
   "source": [
    "   Factors contributing to restaurant experience are mentioned in the following (descending) order of frequency:\n",
    "   \n",
    "   place > service > taste > ambience >time> staff > quality > menu  > quantity > friendly > delivery>."
   ]
  },
  {
   "cell_type": "code",
   "execution_count": null,
   "metadata": {
    "id": "VuUjEeRxqhM9"
   },
   "outputs": [],
   "source": []
  },
  {
   "cell_type": "markdown",
   "metadata": {
    "id": "wg7EJdTnqhM9"
   },
   "source": [
    "**Bi-grams**"
   ]
  },
  {
   "cell_type": "code",
   "execution_count": null,
   "metadata": {
    "id": "kyqhn2BaqhM9"
   },
   "outputs": [],
   "source": [
    "##Now let us repeat the analysis on a bi-gram level. Bi-grams are pairs of words that provide better insights than individual words."
   ]
  },
  {
   "cell_type": "code",
   "execution_count": 48,
   "metadata": {
    "colab": {
     "base_uri": "https://localhost:8080/"
    },
    "id": "688Do0Q4qhM-",
    "outputId": "8d5c7fde-1608-44b6-e0ef-3beffb4edb95"
   },
   "outputs": [
    {
     "data": {
      "text/plain": [
       "[(('must', 'try'), 23182),\n",
       " (('really', 'good'), 22564),\n",
       " (('good', 'food'), 21597),\n",
       " (('food', 'good'), 21192),\n",
       " (('good', 'place'), 18695)]"
      ]
     },
     "execution_count": 48,
     "metadata": {},
     "output_type": "execute_result"
    }
   ],
   "source": [
    "from nltk import bigrams\n",
    "# Generating bigrams from the reviews\n",
    "bigrams = bigrams(cleaned_reviews)\n",
    "\n",
    "# Getting the bigram frequency distribution\n",
    "fd_bigrams = FreqDist()\n",
    "for bigram in bigrams:\n",
    "    fd_bigrams[bigram]=fd_bigrams[bigram] + 1\n",
    "    \n",
    "# Examining the top 5 most frequent bigrams\n",
    "fd_bigrams.most_common(5)"
   ]
  },
  {
   "cell_type": "code",
   "execution_count": 49,
   "metadata": {
    "colab": {
     "base_uri": "https://localhost:8080/",
     "height": 602
    },
    "id": "rfKp8dSOqhM_",
    "outputId": "f6e79d1b-170b-485f-dba9-595e731d4604"
   },
   "outputs": [
    {
     "data": {
      "image/png": "[encoded data removed]",
      "text/plain": [
       "<Figure size 1440x576 with 1 Axes>"
      ]
     },
     "metadata": {
      "needs_background": "light"
     },
     "output_type": "display_data"
    }
   ],
   "source": [
    "# Plotting the top 50 most frequent bigrams\n",
    "plt.figure(figsize = (20, 8))\n",
    "fd_bigrams.plot(50)\n"
   ]
  },
  {
   "cell_type": "code",
   "execution_count": null,
   "metadata": {
    "id": "kx2-FmStqhNA"
   },
   "outputs": [],
   "source": [
    " "
   ]
  },
  {
   "cell_type": "markdown",
   "metadata": {
    "id": "DUWCY6pUofLj"
   },
   "source": [
    "**Observations:**\n",
    "\n",
    "**We have some new insights! Food items/preferences mentioned in the top 50 bigrams are non veg, ice cream, North Indian,\n",
    "chicken biryani\n",
    "Factors contributing to restaurant experience are : good food > good place > good service > value (for) money > pocket\n",
    "friendly > ambience good.**"
   ]
  },
  {
   "cell_type": "code",
   "execution_count": 50,
   "metadata": {
    "colab": {
     "base_uri": "https://localhost:8080/"
    },
    "id": "sxye2-XyqhNB",
    "outputId": "3ad7e60c-9b67-40a6-d7f2-35f948358774"
   },
   "outputs": [
    {
     "data": {
      "text/plain": [
       "[(('must', 'try'), 23182),\n",
       " (('really', 'good'), 22564),\n",
       " (('good', 'food'), 21597),\n",
       " (('food', 'good'), 21192),\n",
       " (('good', 'place'), 18695),\n",
       " (('visit', 'place'), 15832),\n",
       " (('non', 'veg'), 13561),\n",
       " (('one', 'best'), 13549),\n",
       " (('main', 'course'), 13470),\n",
       " (('ice', 'cream'), 12961),\n",
       " (('nice', 'place'), 12348),\n",
       " (('also', 'good'), 11087),\n",
       " (('good', 'service'), 10902),\n",
       " (('must', 'visit'), 10327),\n",
       " (('service', 'good'), 9918),\n",
       " (('great', 'place'), 9419),\n",
       " (('north', 'indian'), 9419),\n",
       " (('visited', 'place'), 9232),\n",
       " (('taste', 'good'), 9175),\n",
       " (('place', 'good'), 8878),\n",
       " (('ambience', 'good'), 8789),\n",
       " (('value', 'money'), 8736),\n",
       " (('fried', 'rice'), 8427),\n",
       " (('ordered', 'chicken'), 8023),\n",
       " (('nwe', 'ordered'), 7978),\n",
       " (('quality', 'food'), 7860),\n",
       " (('chicken', 'biryani'), 7647),\n",
       " (('good', 'taste'), 7563),\n",
       " (('pocket', 'friendly'), 7513),\n",
       " (('pretty', 'good'), 7488),\n",
       " (('great', 'food'), 7352),\n",
       " (('zomato', 'gold'), 7340),\n",
       " (('good', 'ambience'), 7245),\n",
       " (('food', 'great'), 7163),\n",
       " (('place', 'hangout'), 7081),\n",
       " (('best', 'place'), 6910),\n",
       " (('food', 'quality'), 6456),\n",
       " (('first', 'time'), 6434),\n",
       " (('food', 'ordered'), 6286),\n",
       " (('good', 'experience'), 6229),\n",
       " (('food', 'really'), 5918),\n",
       " (('nthe', 'food'), 5833),\n",
       " (('recommend', 'place'), 5828),\n",
       " (('really', 'nice'), 5616),\n",
       " (('nvalue', 'money'), 5573),\n",
       " (('food', 'service'), 5535),\n",
       " (('indian', 'food'), 5383),\n",
       " (('home', 'delivery'), 5367),\n",
       " (('long', 'time'), 5185),\n",
       " (('would', 'recommend'), 5180)]"
      ]
     },
     "execution_count": 50,
     "metadata": {},
     "output_type": "execute_result"
    }
   ],
   "source": [
    "fd_bigrams.most_common(50)"
   ]
  },
  {
   "cell_type": "markdown",
   "metadata": {
    "id": "IfQXl2S7pHh0"
   },
   "source": [
    "**Zomato might also be happy to know their membership program \"Zomato Gold\" is in the top 50 bigrams, with 7340 mentions in the customer reviews.**"
   ]
  },
  {
   "cell_type": "markdown",
   "metadata": {
    "id": "HGXUSlXm6zw-"
   },
   "source": [
    "**Trigrams**"
   ]
  },
  {
   "cell_type": "code",
   "execution_count": 51,
   "metadata": {
    "id": "Po7tGUAdqhNC"
   },
   "outputs": [],
   "source": [
    "from nltk import trigrams"
   ]
  },
  {
   "cell_type": "code",
   "execution_count": 52,
   "metadata": {
    "id": "d5arrHA8qhND"
   },
   "outputs": [],
   "source": [
    "# Generating trigrams from the reviews\n",
    "trigrams = trigrams(cleaned_reviews)\n",
    "\n",
    "fd_trigrams = FreqDist()\n",
    "for trigram in trigrams:\n",
    "    fd_trigrams[trigram] += 1"
   ]
  },
  {
   "cell_type": "code",
   "execution_count": 53,
   "metadata": {
    "colab": {
     "base_uri": "https://localhost:8080/"
    },
    "id": "bUbY7QmIqVdN",
    "outputId": "e4cdb9d7-21b0-456b-e916-3cfd677d5c76"
   },
   "outputs": [
    {
     "data": {
      "text/plain": [
       "[(('must', 'visit', 'place'), 3982),\n",
       " (('veg', 'non', 'veg'), 3734),\n",
       " (('north', 'indian', 'food'), 3433),\n",
       " (('place', 'hangout', 'friends'), 2824),\n",
       " (('food', 'really', 'good'), 2526),\n",
       " (('good', 'food', 'good'), 2212),\n",
       " (('place', 'hang', 'friends'), 1948),\n",
       " (('nfood', 'nambience', 'nservice'), 1931),\n",
       " (('peri', 'peri', 'chicken'), 1800),\n",
       " (('one', 'best', 'places'), 1788)]"
      ]
     },
     "execution_count": 53,
     "metadata": {},
     "output_type": "execute_result"
    }
   ],
   "source": [
    "fd_trigrams.most_common(10)"
   ]
  },
  {
   "cell_type": "code",
   "execution_count": 54,
   "metadata": {
    "colab": {
     "base_uri": "https://localhost:8080/",
     "height": 661
    },
    "id": "4SFTHXaWqhNG",
    "outputId": "eff14d9d-c706-47a1-8061-59f955b7b81b"
   },
   "outputs": [
    {
     "data": {
      "image/png": "[encoded data removed]",
      "text/plain": [
       "<Figure size 1440x576 with 1 Axes>"
      ]
     },
     "metadata": {
      "needs_background": "light"
     },
     "output_type": "display_data"
    }
   ],
   "source": [
    "plt.figure(figsize = (20, 8))\n",
    "fd_trigrams.plot(50)\n"
   ]
  },
  {
   "cell_type": "code",
   "execution_count": 55,
   "metadata": {
    "colab": {
     "base_uri": "https://localhost:8080/",
     "height": 634
    },
    "id": "MzB7wSPwqhNI",
    "outputId": "a98ef4c3-b536-403c-b1c3-1544560b2d65"
   },
   "outputs": [
    {
     "data": {
      "text/html": [
       "\n",
       "  <div id=\"df-662346eb-91ed-4cd2-841e-5ed00cb0c135\">\n",
       "    <div class=\"colab-df-container\">\n",
       "      <div>\n",
       "<style scoped>\n",
       "    .dataframe tbody tr th:only-of-type {\n",
       "        vertical-align: middle;\n",
       "    }\n",
       "\n",
       "    .dataframe tbody tr th {\n",
       "        vertical-align: top;\n",
       "    }\n",
       "\n",
       "    .dataframe thead th {\n",
       "        text-align: right;\n",
       "    }\n",
       "</style>\n",
       "<table border=\"1\" class=\"dataframe\">\n",
       "  <thead>\n",
       "    <tr style=\"text-align: right;\">\n",
       "      <th></th>\n",
       "      <th>name</th>\n",
       "      <th>address</th>\n",
       "      <th>listed_in(type)_x</th>\n",
       "      <th>url</th>\n",
       "      <th>online_order</th>\n",
       "      <th>book_table</th>\n",
       "      <th>rate</th>\n",
       "      <th>votes</th>\n",
       "      <th>phone</th>\n",
       "      <th>location</th>\n",
       "      <th>rest_type</th>\n",
       "      <th>dish_liked</th>\n",
       "      <th>cuisines</th>\n",
       "      <th>approx_cost(for two people)</th>\n",
       "      <th>reviews_list</th>\n",
       "      <th>menu_item</th>\n",
       "      <th>listed_in(type)_y</th>\n",
       "      <th>listed_in(city)</th>\n",
       "      <th>rating</th>\n",
       "    </tr>\n",
       "  </thead>\n",
       "  <tbody>\n",
       "    <tr>\n",
       "      <th>0</th>\n",
       "      <td>#FeelTheROLL</td>\n",
       "      <td>Opposite Mantri Commercio, Outer Ring Road, De...</td>\n",
       "      <td>[Delivery, Delivery]</td>\n",
       "      <td>https://www.zomato.com/bangalore/feeltheroll-b...</td>\n",
       "      <td>No</td>\n",
       "      <td>No</td>\n",
       "      <td>3.4/5</td>\n",
       "      <td>7</td>\n",
       "      <td>+91 9108342079\\r\\n+91 9886117901</td>\n",
       "      <td>Bellandur</td>\n",
       "      <td>Quick Bites</td>\n",
       "      <td>NaN</td>\n",
       "      <td>Fast Food</td>\n",
       "      <td>200</td>\n",
       "      <td>[('rated 5.0', \"rated\\n  had an egg chicken ro...</td>\n",
       "      <td>[]</td>\n",
       "      <td>Delivery</td>\n",
       "      <td>Bellandur</td>\n",
       "      <td>1</td>\n",
       "    </tr>\n",
       "    <tr>\n",
       "      <th>1</th>\n",
       "      <td>#L-81 Cafe</td>\n",
       "      <td>Sector 6, HSR Layout, HSR</td>\n",
       "      <td>[Delivery, Dine-out, Delivery, Dine-out, Deliv...</td>\n",
       "      <td>https://www.zomato.com/bangalore/l-81-cafe-hsr...</td>\n",
       "      <td>Yes</td>\n",
       "      <td>No</td>\n",
       "      <td>3.9/5</td>\n",
       "      <td>48</td>\n",
       "      <td>+91 9986210891</td>\n",
       "      <td>HSR</td>\n",
       "      <td>Quick Bites</td>\n",
       "      <td>Burgers</td>\n",
       "      <td>Fast Food, Beverages</td>\n",
       "      <td>400</td>\n",
       "      <td>[('rated 4.0', 'rated\\n  this little cafe is s...</td>\n",
       "      <td>[]</td>\n",
       "      <td>Delivery</td>\n",
       "      <td>BTM</td>\n",
       "      <td>1</td>\n",
       "    </tr>\n",
       "    <tr>\n",
       "      <th>2</th>\n",
       "      <td>#L-81 Cafe</td>\n",
       "      <td>Sector 6, HSR Layout, HSR</td>\n",
       "      <td>[Delivery, Dine-out, Delivery, Dine-out, Deliv...</td>\n",
       "      <td>https://www.zomato.com/bangalore/l-81-cafe-hsr...</td>\n",
       "      <td>Yes</td>\n",
       "      <td>No</td>\n",
       "      <td>3.9/5</td>\n",
       "      <td>48</td>\n",
       "      <td>+91 9986210891</td>\n",
       "      <td>HSR</td>\n",
       "      <td>Quick Bites</td>\n",
       "      <td>Burgers</td>\n",
       "      <td>Fast Food, Beverages</td>\n",
       "      <td>400</td>\n",
       "      <td>[('rated 4.0', 'rated\\n  this little cafe is s...</td>\n",
       "      <td>[]</td>\n",
       "      <td>Dine-out</td>\n",
       "      <td>BTM</td>\n",
       "      <td>1</td>\n",
       "    </tr>\n",
       "    <tr>\n",
       "      <th>3</th>\n",
       "      <td>#Vibes Restro</td>\n",
       "      <td>Marasur Gate, Chandapura - Anekal Road, Near A...</td>\n",
       "      <td>[Buffet, Delivery, Dine-out]</td>\n",
       "      <td>https://www.zomato.com/bangalore/vibes-restro-...</td>\n",
       "      <td>No</td>\n",
       "      <td>No</td>\n",
       "      <td>NaN</td>\n",
       "      <td>0</td>\n",
       "      <td>+91 9538911285</td>\n",
       "      <td>Electronic City</td>\n",
       "      <td>Casual Dining</td>\n",
       "      <td>NaN</td>\n",
       "      <td>Continental, Chinese, Italian</td>\n",
       "      <td>700</td>\n",
       "      <td>[('rated 5.0', \"rated\\n  great service and don...</td>\n",
       "      <td>[]</td>\n",
       "      <td>Buffet</td>\n",
       "      <td>Electronic City</td>\n",
       "      <td>NaN</td>\n",
       "    </tr>\n",
       "    <tr>\n",
       "      <th>4</th>\n",
       "      <td>#Vibes Restro</td>\n",
       "      <td>Marasur Gate, Chandapura - Anekal Road, Near A...</td>\n",
       "      <td>[Buffet, Delivery, Dine-out]</td>\n",
       "      <td>https://www.zomato.com/bangalore/vibes-restro-...</td>\n",
       "      <td>No</td>\n",
       "      <td>No</td>\n",
       "      <td>NaN</td>\n",
       "      <td>0</td>\n",
       "      <td>+91 9538911285</td>\n",
       "      <td>Electronic City</td>\n",
       "      <td>Casual Dining</td>\n",
       "      <td>NaN</td>\n",
       "      <td>Continental, Chinese, Italian</td>\n",
       "      <td>700</td>\n",
       "      <td>[('rated 5.0', \"rated\\n  great service and don...</td>\n",
       "      <td>[]</td>\n",
       "      <td>Delivery</td>\n",
       "      <td>Electronic City</td>\n",
       "      <td>NaN</td>\n",
       "    </tr>\n",
       "  </tbody>\n",
       "</table>\n",
       "</div>\n",
       "      <button class=\"colab-df-convert\" onclick=\"convertToInteractive('df-662346eb-91ed-4cd2-841e-5ed00cb0c135')\"\n",
       "              title=\"Convert this dataframe to an interactive table.\"\n",
       "              style=\"display:none;\">\n",
       "        \n",
       "  <svg xmlns=\"http://www.w3.org/2000/svg\" height=\"24px\"viewBox=\"0 0 24 24\"\n",
       "       width=\"24px\">\n",
       "    <path d=\"M0 0h24v24H0V0z\" fill=\"none\"/>\n",
       "    <path d=\"M18.56 5.44l.94 2.06.94-2.06 2.06-.94-2.06-.94-.94-2.06-.94 2.06-2.06.94zm-11 1L8.5 8.5l.94-2.06 2.06-.94-2.06-.94L8.5 2.5l-.94 2.06-2.06.94zm10 10l.94 2.06.94-2.06 2.06-.94-2.06-.94-.94-2.06-.94 2.06-2.06.94z\"/><path d=\"M17.41 7.96l-1.37-1.37c-.4-.4-.92-.59-1.43-.59-.52 0-1.04.2-1.43.59L10.3 9.45l-7.72 7.72c-.78.78-.78 2.05 0 2.83L4 21.41c.39.39.9.59 1.41.59.51 0 1.02-.2 1.41-.59l7.78-7.78 2.81-2.81c.8-.78.8-2.07 0-2.86zM5.41 20L4 18.59l7.72-7.72 1.47 1.35L5.41 20z\"/>\n",
       "  </svg>\n",
       "      </button>\n",
       "      \n",
       "  <style>\n",
       "    .colab-df-container {\n",
       "      display:flex;\n",
       "      flex-wrap:wrap;\n",
       "      gap: 12px;\n",
       "    }\n",
       "\n",
       "    .colab-df-convert {\n",
       "      background-color: #E8F0FE;\n",
       "      border: none;\n",
       "      border-radius: 50%;\n",
       "      cursor: pointer;\n",
       "      display: none;\n",
       "      fill: #1967D2;\n",
       "      height: 32px;\n",
       "      padding: 0 0 0 0;\n",
       "      width: 32px;\n",
       "    }\n",
       "\n",
       "    .colab-df-convert:hover {\n",
       "      background-color: #E2EBFA;\n",
       "      box-shadow: 0px 1px 2px rgba(60, 64, 67, 0.3), 0px 1px 3px 1px rgba(60, 64, 67, 0.15);\n",
       "      fill: #174EA6;\n",
       "    }\n",
       "\n",
       "    [theme=dark] .colab-df-convert {\n",
       "      background-color: #3B4455;\n",
       "      fill: #D2E3FC;\n",
       "    }\n",
       "\n",
       "    [theme=dark] .colab-df-convert:hover {\n",
       "      background-color: #434B5C;\n",
       "      box-shadow: 0px 1px 3px 1px rgba(0, 0, 0, 0.15);\n",
       "      filter: drop-shadow(0px 1px 2px rgba(0, 0, 0, 0.3));\n",
       "      fill: #FFFFFF;\n",
       "    }\n",
       "  </style>\n",
       "\n",
       "      <script>\n",
       "        const buttonEl =\n",
       "          document.querySelector('#df-662346eb-91ed-4cd2-841e-5ed00cb0c135 button.colab-df-convert');\n",
       "        buttonEl.style.display =\n",
       "          google.colab.kernel.accessAllowed ? 'block' : 'none';\n",
       "\n",
       "        async function convertToInteractive(key) {\n",
       "          const element = document.querySelector('#df-662346eb-91ed-4cd2-841e-5ed00cb0c135');\n",
       "          const dataTable =\n",
       "            await google.colab.kernel.invokeFunction('convertToInteractive',\n",
       "                                                     [key], {});\n",
       "          if (!dataTable) return;\n",
       "\n",
       "          const docLinkHtml = 'Like what you see? Visit the ' +\n",
       "            '<a target=\"_blank\" href=https://colab.research.google.com/notebooks/data_table.ipynb>data table notebook</a>'\n",
       "            + ' to learn more about interactive tables.';\n",
       "          element.innerHTML = '';\n",
       "          dataTable['output_type'] = 'display_data';\n",
       "          await google.colab.output.renderOutput(dataTable, element);\n",
       "          const docLink = document.createElement('div');\n",
       "          docLink.innerHTML = docLinkHtml;\n",
       "          element.appendChild(docLink);\n",
       "        }\n",
       "      </script>\n",
       "    </div>\n",
       "  </div>\n",
       "  "
      ],
      "text/plain": [
       "            name                                            address  \\\n",
       "0   #FeelTheROLL  Opposite Mantri Commercio, Outer Ring Road, De...   \n",
       "1     #L-81 Cafe                          Sector 6, HSR Layout, HSR   \n",
       "2     #L-81 Cafe                          Sector 6, HSR Layout, HSR   \n",
       "3  #Vibes Restro  Marasur Gate, Chandapura - Anekal Road, Near A...   \n",
       "4  #Vibes Restro  Marasur Gate, Chandapura - Anekal Road, Near A...   \n",
       "\n",
       "                                   listed_in(type)_x  \\\n",
       "0                               [Delivery, Delivery]   \n",
       "1  [Delivery, Dine-out, Delivery, Dine-out, Deliv...   \n",
       "2  [Delivery, Dine-out, Delivery, Dine-out, Deliv...   \n",
       "3                       [Buffet, Delivery, Dine-out]   \n",
       "4                       [Buffet, Delivery, Dine-out]   \n",
       "\n",
       "                                                 url online_order book_table  \\\n",
       "0  https://www.zomato.com/bangalore/feeltheroll-b...           No         No   \n",
       "1  https://www.zomato.com/bangalore/l-81-cafe-hsr...          Yes         No   \n",
       "2  https://www.zomato.com/bangalore/l-81-cafe-hsr...          Yes         No   \n",
       "3  https://www.zomato.com/bangalore/vibes-restro-...           No         No   \n",
       "4  https://www.zomato.com/bangalore/vibes-restro-...           No         No   \n",
       "\n",
       "    rate  votes                             phone         location  \\\n",
       "0  3.4/5      7  +91 9108342079\\r\\n+91 9886117901        Bellandur   \n",
       "1  3.9/5     48                    +91 9986210891              HSR   \n",
       "2  3.9/5     48                    +91 9986210891              HSR   \n",
       "3    NaN      0                    +91 9538911285  Electronic City   \n",
       "4    NaN      0                    +91 9538911285  Electronic City   \n",
       "\n",
       "       rest_type dish_liked                       cuisines  \\\n",
       "0    Quick Bites        NaN                      Fast Food   \n",
       "1    Quick Bites    Burgers           Fast Food, Beverages   \n",
       "2    Quick Bites    Burgers           Fast Food, Beverages   \n",
       "3  Casual Dining        NaN  Continental, Chinese, Italian   \n",
       "4  Casual Dining        NaN  Continental, Chinese, Italian   \n",
       "\n",
       "  approx_cost(for two people)  \\\n",
       "0                         200   \n",
       "1                         400   \n",
       "2                         400   \n",
       "3                         700   \n",
       "4                         700   \n",
       "\n",
       "                                        reviews_list menu_item  \\\n",
       "0  [('rated 5.0', \"rated\\n  had an egg chicken ro...        []   \n",
       "1  [('rated 4.0', 'rated\\n  this little cafe is s...        []   \n",
       "2  [('rated 4.0', 'rated\\n  this little cafe is s...        []   \n",
       "3  [('rated 5.0', \"rated\\n  great service and don...        []   \n",
       "4  [('rated 5.0', \"rated\\n  great service and don...        []   \n",
       "\n",
       "  listed_in(type)_y  listed_in(city) rating  \n",
       "0          Delivery        Bellandur      1  \n",
       "1          Delivery              BTM      1  \n",
       "2          Dine-out              BTM      1  \n",
       "3            Buffet  Electronic City    NaN  \n",
       "4          Delivery  Electronic City    NaN  "
      ]
     },
     "execution_count": 55,
     "metadata": {},
     "output_type": "execute_result"
    }
   ],
   "source": [
    "newdata.head()"
   ]
  },
  {
   "cell_type": "code",
   "execution_count": null,
   "metadata": {
    "id": "4ag11pdDqhNI"
   },
   "outputs": [],
   "source": []
  },
  {
   "cell_type": "markdown",
   "metadata": {
    "id": "bojH4c7y7Adc"
   },
   "source": [
    "**Analysing your cuisines**"
   ]
  },
  {
   "cell_type": "code",
   "execution_count": 56,
   "metadata": {
    "colab": {
     "base_uri": "https://localhost:8080/",
     "height": 143
    },
    "id": "r-O7xkdpqhNJ",
    "outputId": "fc301f2d-4e20-4bac-e87b-094216310d48"
   },
   "outputs": [
    {
     "data": {
      "text/html": [
       "\n",
       "  <div id=\"df-03b3793c-0f3f-47c5-92d8-c1f64c23416d\">\n",
       "    <div class=\"colab-df-container\">\n",
       "      <div>\n",
       "<style scoped>\n",
       "    .dataframe tbody tr th:only-of-type {\n",
       "        vertical-align: middle;\n",
       "    }\n",
       "\n",
       "    .dataframe tbody tr th {\n",
       "        vertical-align: top;\n",
       "    }\n",
       "\n",
       "    .dataframe thead th {\n",
       "        text-align: right;\n",
       "    }\n",
       "</style>\n",
       "<table border=\"1\" class=\"dataframe\">\n",
       "  <thead>\n",
       "    <tr style=\"text-align: right;\">\n",
       "      <th></th>\n",
       "      <th>cuisines</th>\n",
       "      <th>rating</th>\n",
       "    </tr>\n",
       "  </thead>\n",
       "  <tbody>\n",
       "    <tr>\n",
       "      <th>0</th>\n",
       "      <td>Fast Food</td>\n",
       "      <td>1</td>\n",
       "    </tr>\n",
       "    <tr>\n",
       "      <th>1</th>\n",
       "      <td>Fast Food, Beverages</td>\n",
       "      <td>1</td>\n",
       "    </tr>\n",
       "    <tr>\n",
       "      <th>2</th>\n",
       "      <td>Fast Food, Beverages</td>\n",
       "      <td>1</td>\n",
       "    </tr>\n",
       "  </tbody>\n",
       "</table>\n",
       "</div>\n",
       "      <button class=\"colab-df-convert\" onclick=\"convertToInteractive('df-03b3793c-0f3f-47c5-92d8-c1f64c23416d')\"\n",
       "              title=\"Convert this dataframe to an interactive table.\"\n",
       "              style=\"display:none;\">\n",
       "        \n",
       "  <svg xmlns=\"http://www.w3.org/2000/svg\" height=\"24px\"viewBox=\"0 0 24 24\"\n",
       "       width=\"24px\">\n",
       "    <path d=\"M0 0h24v24H0V0z\" fill=\"none\"/>\n",
       "    <path d=\"M18.56 5.44l.94 2.06.94-2.06 2.06-.94-2.06-.94-.94-2.06-.94 2.06-2.06.94zm-11 1L8.5 8.5l.94-2.06 2.06-.94-2.06-.94L8.5 2.5l-.94 2.06-2.06.94zm10 10l.94 2.06.94-2.06 2.06-.94-2.06-.94-.94-2.06-.94 2.06-2.06.94z\"/><path d=\"M17.41 7.96l-1.37-1.37c-.4-.4-.92-.59-1.43-.59-.52 0-1.04.2-1.43.59L10.3 9.45l-7.72 7.72c-.78.78-.78 2.05 0 2.83L4 21.41c.39.39.9.59 1.41.59.51 0 1.02-.2 1.41-.59l7.78-7.78 2.81-2.81c.8-.78.8-2.07 0-2.86zM5.41 20L4 18.59l7.72-7.72 1.47 1.35L5.41 20z\"/>\n",
       "  </svg>\n",
       "      </button>\n",
       "      \n",
       "  <style>\n",
       "    .colab-df-container {\n",
       "      display:flex;\n",
       "      flex-wrap:wrap;\n",
       "      gap: 12px;\n",
       "    }\n",
       "\n",
       "    .colab-df-convert {\n",
       "      background-color: #E8F0FE;\n",
       "      border: none;\n",
       "      border-radius: 50%;\n",
       "      cursor: pointer;\n",
       "      display: none;\n",
       "      fill: #1967D2;\n",
       "      height: 32px;\n",
       "      padding: 0 0 0 0;\n",
       "      width: 32px;\n",
       "    }\n",
       "\n",
       "    .colab-df-convert:hover {\n",
       "      background-color: #E2EBFA;\n",
       "      box-shadow: 0px 1px 2px rgba(60, 64, 67, 0.3), 0px 1px 3px 1px rgba(60, 64, 67, 0.15);\n",
       "      fill: #174EA6;\n",
       "    }\n",
       "\n",
       "    [theme=dark] .colab-df-convert {\n",
       "      background-color: #3B4455;\n",
       "      fill: #D2E3FC;\n",
       "    }\n",
       "\n",
       "    [theme=dark] .colab-df-convert:hover {\n",
       "      background-color: #434B5C;\n",
       "      box-shadow: 0px 1px 3px 1px rgba(0, 0, 0, 0.15);\n",
       "      filter: drop-shadow(0px 1px 2px rgba(0, 0, 0, 0.3));\n",
       "      fill: #FFFFFF;\n",
       "    }\n",
       "  </style>\n",
       "\n",
       "      <script>\n",
       "        const buttonEl =\n",
       "          document.querySelector('#df-03b3793c-0f3f-47c5-92d8-c1f64c23416d button.colab-df-convert');\n",
       "        buttonEl.style.display =\n",
       "          google.colab.kernel.accessAllowed ? 'block' : 'none';\n",
       "\n",
       "        async function convertToInteractive(key) {\n",
       "          const element = document.querySelector('#df-03b3793c-0f3f-47c5-92d8-c1f64c23416d');\n",
       "          const dataTable =\n",
       "            await google.colab.kernel.invokeFunction('convertToInteractive',\n",
       "                                                     [key], {});\n",
       "          if (!dataTable) return;\n",
       "\n",
       "          const docLinkHtml = 'Like what you see? Visit the ' +\n",
       "            '<a target=\"_blank\" href=https://colab.research.google.com/notebooks/data_table.ipynb>data table notebook</a>'\n",
       "            + ' to learn more about interactive tables.';\n",
       "          element.innerHTML = '';\n",
       "          dataTable['output_type'] = 'display_data';\n",
       "          await google.colab.output.renderOutput(dataTable, element);\n",
       "          const docLink = document.createElement('div');\n",
       "          docLink.innerHTML = docLinkHtml;\n",
       "          element.appendChild(docLink);\n",
       "        }\n",
       "      </script>\n",
       "    </div>\n",
       "  </div>\n",
       "  "
      ],
      "text/plain": [
       "               cuisines rating\n",
       "0             Fast Food      1\n",
       "1  Fast Food, Beverages      1\n",
       "2  Fast Food, Beverages      1"
      ]
     },
     "execution_count": 56,
     "metadata": {},
     "output_type": "execute_result"
    }
   ],
   "source": [
    "# Creating a new dataset with cuisines info and restaurant ratings\n",
    "cuisines = newdata[[\"cuisines\", \"rating\"]]\n",
    "cuisines.head(3)\n",
    "\n"
   ]
  },
  {
   "cell_type": "code",
   "execution_count": 57,
   "metadata": {
    "colab": {
     "base_uri": "https://localhost:8080/"
    },
    "id": "PTtskgvVqhNJ",
    "outputId": "431b1bc8-496e-4620-af02-d8397c7df1ce"
   },
   "outputs": [
    {
     "data": {
      "text/plain": [
       "cuisines      23\n",
       "rating      4524\n",
       "dtype: int64"
      ]
     },
     "execution_count": 57,
     "metadata": {},
     "output_type": "execute_result"
    }
   ],
   "source": [
    "cuisines.isnull().sum()"
   ]
  },
  {
   "cell_type": "code",
   "execution_count": 58,
   "metadata": {
    "id": "ESHtASZIqhNK"
   },
   "outputs": [],
   "source": [
    "cuisines.dropna(inplace=True)"
   ]
  },
  {
   "cell_type": "code",
   "execution_count": 59,
   "metadata": {
    "id": "_p0q5IYMqhNK"
   },
   "outputs": [],
   "source": [
    "# Converting to lowercase\n",
    "cuisines[\"cuisines\"] = cuisines[\"cuisines\"].apply(lambda x: x.lower())\n",
    "# Tokenizing the cuisines\n",
    "cuisine_tokens = cuisines[\"cuisines\"].apply(tokenizer.tokenize)\n"
   ]
  },
  {
   "cell_type": "code",
   "execution_count": 60,
   "metadata": {
    "colab": {
     "base_uri": "https://localhost:8080/"
    },
    "id": "ncfwPnynqhNK",
    "outputId": "befa769d-f496-403f-f873-85cf99879c0a"
   },
   "outputs": [
    {
     "data": {
      "text/plain": [
       "['fast', 'food']"
      ]
     },
     "execution_count": 60,
     "metadata": {},
     "output_type": "execute_result"
    }
   ],
   "source": [
    "cuisine_tokens[0]"
   ]
  },
  {
   "cell_type": "code",
   "execution_count": 61,
   "metadata": {
    "colab": {
     "base_uri": "https://localhost:8080/"
    },
    "id": "bJ6VFS_QqhNL",
    "outputId": "b8b847a8-9fe6-453d-da02-28e5524c43d6"
   },
   "outputs": [
    {
     "data": {
      "text/plain": [
       "list"
      ]
     },
     "execution_count": 61,
     "metadata": {},
     "output_type": "execute_result"
    }
   ],
   "source": [
    "type(cuisine_tokens[0])"
   ]
  },
  {
   "cell_type": "code",
   "execution_count": 62,
   "metadata": {
    "colab": {
     "base_uri": "https://localhost:8080/"
    },
    "id": "-N4skgUDqhNL",
    "outputId": "44f994da-0b3c-40e6-ae34-9d80b0d9d39b"
   },
   "outputs": [
    {
     "data": {
      "text/plain": [
       "pandas.core.series.Series"
      ]
     },
     "execution_count": 62,
     "metadata": {},
     "output_type": "execute_result"
    }
   ],
   "source": [
    "type(cuisine_tokens)"
   ]
  },
  {
   "cell_type": "code",
   "execution_count": 63,
   "metadata": {
    "id": "0IWTgucqqhNL"
   },
   "outputs": [],
   "source": [
    "# Concatenating all the cuisine names into one text document\n",
    "all_cuisines = cuisine_tokens.astype(str).str.cat()\n",
    "cleaned_cuisines = tokenizer.tokenize(all_cuisines)"
   ]
  },
  {
   "cell_type": "code",
   "execution_count": 64,
   "metadata": {
    "colab": {
     "base_uri": "https://localhost:8080/"
    },
    "id": "EKkr8WiXqhNN",
    "outputId": "3e580942-0dd8-49cc-828f-96d9b169ff64"
   },
   "outputs": [
    {
     "data": {
      "text/plain": [
       "list"
      ]
     },
     "execution_count": 64,
     "metadata": {},
     "output_type": "execute_result"
    }
   ],
   "source": [
    "type(cleaned_cuisines)"
   ]
  },
  {
   "cell_type": "code",
   "execution_count": 65,
   "metadata": {
    "colab": {
     "base_uri": "https://localhost:8080/"
    },
    "id": "1SSUT0gzqhNN",
    "outputId": "8b584936-6815-4e5a-eb42-9be27ab159f8"
   },
   "outputs": [
    {
     "name": "stdout",
     "output_type": "stream",
     "text": [
      "[('indian', 9622), ('north', 6941), ('chinese', 5143), ('food', 4239), ('south', 2650)]\n"
     ]
    }
   ],
   "source": [
    "# Generating cuisine frequencies \n",
    "fd_cuisine = FreqDist()\n",
    "for cuisine in cleaned_cuisines:\n",
    "    fd_cuisine[cuisine] += 1\n",
    "    \n",
    "# Printing the 5 most common cuisines (top 5)\n",
    "print(fd_cuisine.most_common(5))"
   ]
  },
  {
   "cell_type": "code",
   "execution_count": 66,
   "metadata": {
    "colab": {
     "base_uri": "https://localhost:8080/",
     "height": 615
    },
    "id": "1SuWK6eRqhNO",
    "outputId": "e6b7c24c-d7aa-4081-b712-e840db116261"
   },
   "outputs": [
    {
     "data": {
      "image/png": "[encoded data removed]",
      "text/plain": [
       "<Figure size 1080x648 with 1 Axes>"
      ]
     },
     "metadata": {
      "needs_background": "light"
     },
     "output_type": "display_data"
    }
   ],
   "source": [
    "plt.figure(figsize=(15,9))\n",
    "fd_cuisine.plot(50)"
   ]
  },
  {
   "cell_type": "code",
   "execution_count": null,
   "metadata": {
    "id": "smaj3xNqqhNO"
   },
   "outputs": [],
   "source": []
  },
  {
   "cell_type": "markdown",
   "metadata": {
    "id": "abZG2Wv87S_F"
   },
   "source": [
    "**Data Pre-processing**"
   ]
  },
  {
   "cell_type": "code",
   "execution_count": 67,
   "metadata": {
    "colab": {
     "base_uri": "https://localhost:8080/"
    },
    "id": "tfiELHrfqhNP",
    "outputId": "04be7b95-35c9-49a2-ea07-87afcd8e9459"
   },
   "outputs": [
    {
     "data": {
      "text/plain": [
       "Index(['name', 'address', 'listed_in(type)_x', 'url', 'online_order',\n",
       "       'book_table', 'rate', 'votes', 'phone', 'location', 'rest_type',\n",
       "       'dish_liked', 'cuisines', 'approx_cost(for two people)', 'reviews_list',\n",
       "       'menu_item', 'listed_in(type)_y', 'listed_in(city)', 'rating'],\n",
       "      dtype='object')"
      ]
     },
     "execution_count": 67,
     "metadata": {},
     "output_type": "execute_result"
    }
   ],
   "source": [
    "newdata.columns"
   ]
  },
  {
   "cell_type": "code",
   "execution_count": 68,
   "metadata": {
    "colab": {
     "base_uri": "https://localhost:8080/"
    },
    "id": "vrvt3mn8qhNP",
    "outputId": "462dd276-0311-4b38-ec80-be5dc50cd071"
   },
   "outputs": [
    {
     "data": {
      "text/plain": [
       "name                             object\n",
       "address                          object\n",
       "listed_in(type)_x                object\n",
       "url                              object\n",
       "online_order                     object\n",
       "book_table                       object\n",
       "rate                             object\n",
       "votes                             int64\n",
       "phone                            object\n",
       "location                         object\n",
       "rest_type                        object\n",
       "dish_liked                       object\n",
       "cuisines                         object\n",
       "approx_cost(for two people)      object\n",
       "reviews_list                     object\n",
       "menu_item                        object\n",
       "listed_in(type)_y                object\n",
       "listed_in(city)                  object\n",
       "rating                         category\n",
       "dtype: object"
      ]
     },
     "execution_count": 68,
     "metadata": {},
     "output_type": "execute_result"
    }
   ],
   "source": [
    "newdata.dtypes"
   ]
  },
  {
   "cell_type": "code",
   "execution_count": null,
   "metadata": {
    "id": "6AeYr_PeqhNQ"
   },
   "outputs": [],
   "source": [
    "#### considering \"reviews_list\", \"menu_item\", \"dish_liked\", \"cuisines\", u can think for predicting rating\n",
    "### so we can store  (\"reviews_list\", \"menu_item\", \"dish_liked\", \"cuisines\") in a single feature"
   ]
  },
  {
   "cell_type": "code",
   "execution_count": 69,
   "metadata": {
    "id": "R-vM5LC2qhNQ"
   },
   "outputs": [],
   "source": [
    "# Converting all the text to strings\n",
    "newdata[[\"reviews_list\", \"menu_item\", \"dish_liked\", \"cuisines\"]] = newdata[[\"reviews_list\", \"menu_item\", \"dish_liked\", \"cuisines\"]].astype(\"str\")\n",
    "\n",
    "# Combining all the text data into a single feature called \"text\"\n",
    "newdata[\"text\"] = newdata[\"reviews_list\"] + \" \" + newdata[\"menu_item\"] + \" \" + newdata[\"dish_liked\"] + \" \" + newdata[\"cuisines\"]"
   ]
  },
  {
   "cell_type": "code",
   "execution_count": 70,
   "metadata": {
    "colab": {
     "base_uri": "https://localhost:8080/",
     "height": 808
    },
    "id": "FIdMsxEKqhNR",
    "outputId": "538abed6-e29e-4f55-d0ca-b3fe42cdda97"
   },
   "outputs": [
    {
     "data": {
      "text/html": [
       "\n",
       "  <div id=\"df-43c28dcd-4372-49f7-b199-a2813e760154\">\n",
       "    <div class=\"colab-df-container\">\n",
       "      <div>\n",
       "<style scoped>\n",
       "    .dataframe tbody tr th:only-of-type {\n",
       "        vertical-align: middle;\n",
       "    }\n",
       "\n",
       "    .dataframe tbody tr th {\n",
       "        vertical-align: top;\n",
       "    }\n",
       "\n",
       "    .dataframe thead th {\n",
       "        text-align: right;\n",
       "    }\n",
       "</style>\n",
       "<table border=\"1\" class=\"dataframe\">\n",
       "  <thead>\n",
       "    <tr style=\"text-align: right;\">\n",
       "      <th></th>\n",
       "      <th>name</th>\n",
       "      <th>address</th>\n",
       "      <th>listed_in(type)_x</th>\n",
       "      <th>url</th>\n",
       "      <th>online_order</th>\n",
       "      <th>book_table</th>\n",
       "      <th>rate</th>\n",
       "      <th>votes</th>\n",
       "      <th>phone</th>\n",
       "      <th>location</th>\n",
       "      <th>rest_type</th>\n",
       "      <th>dish_liked</th>\n",
       "      <th>cuisines</th>\n",
       "      <th>approx_cost(for two people)</th>\n",
       "      <th>reviews_list</th>\n",
       "      <th>menu_item</th>\n",
       "      <th>listed_in(type)_y</th>\n",
       "      <th>listed_in(city)</th>\n",
       "      <th>rating</th>\n",
       "      <th>text</th>\n",
       "    </tr>\n",
       "  </thead>\n",
       "  <tbody>\n",
       "    <tr>\n",
       "      <th>0</th>\n",
       "      <td>#FeelTheROLL</td>\n",
       "      <td>Opposite Mantri Commercio, Outer Ring Road, De...</td>\n",
       "      <td>[Delivery, Delivery]</td>\n",
       "      <td>https://www.zomato.com/bangalore/feeltheroll-b...</td>\n",
       "      <td>No</td>\n",
       "      <td>No</td>\n",
       "      <td>3.4/5</td>\n",
       "      <td>7</td>\n",
       "      <td>+91 9108342079\\r\\n+91 9886117901</td>\n",
       "      <td>Bellandur</td>\n",
       "      <td>Quick Bites</td>\n",
       "      <td>nan</td>\n",
       "      <td>Fast Food</td>\n",
       "      <td>200</td>\n",
       "      <td>[('rated 5.0', \"rated\\n  had an egg chicken ro...</td>\n",
       "      <td>[]</td>\n",
       "      <td>Delivery</td>\n",
       "      <td>Bellandur</td>\n",
       "      <td>1</td>\n",
       "      <td>[('rated 5.0', \"rated\\n  had an egg chicken ro...</td>\n",
       "    </tr>\n",
       "    <tr>\n",
       "      <th>1</th>\n",
       "      <td>#L-81 Cafe</td>\n",
       "      <td>Sector 6, HSR Layout, HSR</td>\n",
       "      <td>[Delivery, Dine-out, Delivery, Dine-out, Deliv...</td>\n",
       "      <td>https://www.zomato.com/bangalore/l-81-cafe-hsr...</td>\n",
       "      <td>Yes</td>\n",
       "      <td>No</td>\n",
       "      <td>3.9/5</td>\n",
       "      <td>48</td>\n",
       "      <td>+91 9986210891</td>\n",
       "      <td>HSR</td>\n",
       "      <td>Quick Bites</td>\n",
       "      <td>Burgers</td>\n",
       "      <td>Fast Food, Beverages</td>\n",
       "      <td>400</td>\n",
       "      <td>[('rated 4.0', 'rated\\n  this little cafe is s...</td>\n",
       "      <td>[]</td>\n",
       "      <td>Delivery</td>\n",
       "      <td>BTM</td>\n",
       "      <td>1</td>\n",
       "      <td>[('rated 4.0', 'rated\\n  this little cafe is s...</td>\n",
       "    </tr>\n",
       "    <tr>\n",
       "      <th>2</th>\n",
       "      <td>#L-81 Cafe</td>\n",
       "      <td>Sector 6, HSR Layout, HSR</td>\n",
       "      <td>[Delivery, Dine-out, Delivery, Dine-out, Deliv...</td>\n",
       "      <td>https://www.zomato.com/bangalore/l-81-cafe-hsr...</td>\n",
       "      <td>Yes</td>\n",
       "      <td>No</td>\n",
       "      <td>3.9/5</td>\n",
       "      <td>48</td>\n",
       "      <td>+91 9986210891</td>\n",
       "      <td>HSR</td>\n",
       "      <td>Quick Bites</td>\n",
       "      <td>Burgers</td>\n",
       "      <td>Fast Food, Beverages</td>\n",
       "      <td>400</td>\n",
       "      <td>[('rated 4.0', 'rated\\n  this little cafe is s...</td>\n",
       "      <td>[]</td>\n",
       "      <td>Dine-out</td>\n",
       "      <td>BTM</td>\n",
       "      <td>1</td>\n",
       "      <td>[('rated 4.0', 'rated\\n  this little cafe is s...</td>\n",
       "    </tr>\n",
       "    <tr>\n",
       "      <th>3</th>\n",
       "      <td>#Vibes Restro</td>\n",
       "      <td>Marasur Gate, Chandapura - Anekal Road, Near A...</td>\n",
       "      <td>[Buffet, Delivery, Dine-out]</td>\n",
       "      <td>https://www.zomato.com/bangalore/vibes-restro-...</td>\n",
       "      <td>No</td>\n",
       "      <td>No</td>\n",
       "      <td>NaN</td>\n",
       "      <td>0</td>\n",
       "      <td>+91 9538911285</td>\n",
       "      <td>Electronic City</td>\n",
       "      <td>Casual Dining</td>\n",
       "      <td>nan</td>\n",
       "      <td>Continental, Chinese, Italian</td>\n",
       "      <td>700</td>\n",
       "      <td>[('rated 5.0', \"rated\\n  great service and don...</td>\n",
       "      <td>[]</td>\n",
       "      <td>Buffet</td>\n",
       "      <td>Electronic City</td>\n",
       "      <td>NaN</td>\n",
       "      <td>[('rated 5.0', \"rated\\n  great service and don...</td>\n",
       "    </tr>\n",
       "    <tr>\n",
       "      <th>4</th>\n",
       "      <td>#Vibes Restro</td>\n",
       "      <td>Marasur Gate, Chandapura - Anekal Road, Near A...</td>\n",
       "      <td>[Buffet, Delivery, Dine-out]</td>\n",
       "      <td>https://www.zomato.com/bangalore/vibes-restro-...</td>\n",
       "      <td>No</td>\n",
       "      <td>No</td>\n",
       "      <td>NaN</td>\n",
       "      <td>0</td>\n",
       "      <td>+91 9538911285</td>\n",
       "      <td>Electronic City</td>\n",
       "      <td>Casual Dining</td>\n",
       "      <td>nan</td>\n",
       "      <td>Continental, Chinese, Italian</td>\n",
       "      <td>700</td>\n",
       "      <td>[('rated 5.0', \"rated\\n  great service and don...</td>\n",
       "      <td>[]</td>\n",
       "      <td>Delivery</td>\n",
       "      <td>Electronic City</td>\n",
       "      <td>NaN</td>\n",
       "      <td>[('rated 5.0', \"rated\\n  great service and don...</td>\n",
       "    </tr>\n",
       "  </tbody>\n",
       "</table>\n",
       "</div>\n",
       "      <button class=\"colab-df-convert\" onclick=\"convertToInteractive('df-43c28dcd-4372-49f7-b199-a2813e760154')\"\n",
       "              title=\"Convert this dataframe to an interactive table.\"\n",
       "              style=\"display:none;\">\n",
       "        \n",
       "  <svg xmlns=\"http://www.w3.org/2000/svg\" height=\"24px\"viewBox=\"0 0 24 24\"\n",
       "       width=\"24px\">\n",
       "    <path d=\"M0 0h24v24H0V0z\" fill=\"none\"/>\n",
       "    <path d=\"M18.56 5.44l.94 2.06.94-2.06 2.06-.94-2.06-.94-.94-2.06-.94 2.06-2.06.94zm-11 1L8.5 8.5l.94-2.06 2.06-.94-2.06-.94L8.5 2.5l-.94 2.06-2.06.94zm10 10l.94 2.06.94-2.06 2.06-.94-2.06-.94-.94-2.06-.94 2.06-2.06.94z\"/><path d=\"M17.41 7.96l-1.37-1.37c-.4-.4-.92-.59-1.43-.59-.52 0-1.04.2-1.43.59L10.3 9.45l-7.72 7.72c-.78.78-.78 2.05 0 2.83L4 21.41c.39.39.9.59 1.41.59.51 0 1.02-.2 1.41-.59l7.78-7.78 2.81-2.81c.8-.78.8-2.07 0-2.86zM5.41 20L4 18.59l7.72-7.72 1.47 1.35L5.41 20z\"/>\n",
       "  </svg>\n",
       "      </button>\n",
       "      \n",
       "  <style>\n",
       "    .colab-df-container {\n",
       "      display:flex;\n",
       "      flex-wrap:wrap;\n",
       "      gap: 12px;\n",
       "    }\n",
       "\n",
       "    .colab-df-convert {\n",
       "      background-color: #E8F0FE;\n",
       "      border: none;\n",
       "      border-radius: 50%;\n",
       "      cursor: pointer;\n",
       "      display: none;\n",
       "      fill: #1967D2;\n",
       "      height: 32px;\n",
       "      padding: 0 0 0 0;\n",
       "      width: 32px;\n",
       "    }\n",
       "\n",
       "    .colab-df-convert:hover {\n",
       "      background-color: #E2EBFA;\n",
       "      box-shadow: 0px 1px 2px rgba(60, 64, 67, 0.3), 0px 1px 3px 1px rgba(60, 64, 67, 0.15);\n",
       "      fill: #174EA6;\n",
       "    }\n",
       "\n",
       "    [theme=dark] .colab-df-convert {\n",
       "      background-color: #3B4455;\n",
       "      fill: #D2E3FC;\n",
       "    }\n",
       "\n",
       "    [theme=dark] .colab-df-convert:hover {\n",
       "      background-color: #434B5C;\n",
       "      box-shadow: 0px 1px 3px 1px rgba(0, 0, 0, 0.15);\n",
       "      filter: drop-shadow(0px 1px 2px rgba(0, 0, 0, 0.3));\n",
       "      fill: #FFFFFF;\n",
       "    }\n",
       "  </style>\n",
       "\n",
       "      <script>\n",
       "        const buttonEl =\n",
       "          document.querySelector('#df-43c28dcd-4372-49f7-b199-a2813e760154 button.colab-df-convert');\n",
       "        buttonEl.style.display =\n",
       "          google.colab.kernel.accessAllowed ? 'block' : 'none';\n",
       "\n",
       "        async function convertToInteractive(key) {\n",
       "          const element = document.querySelector('#df-43c28dcd-4372-49f7-b199-a2813e760154');\n",
       "          const dataTable =\n",
       "            await google.colab.kernel.invokeFunction('convertToInteractive',\n",
       "                                                     [key], {});\n",
       "          if (!dataTable) return;\n",
       "\n",
       "          const docLinkHtml = 'Like what you see? Visit the ' +\n",
       "            '<a target=\"_blank\" href=https://colab.research.google.com/notebooks/data_table.ipynb>data table notebook</a>'\n",
       "            + ' to learn more about interactive tables.';\n",
       "          element.innerHTML = '';\n",
       "          dataTable['output_type'] = 'display_data';\n",
       "          await google.colab.output.renderOutput(dataTable, element);\n",
       "          const docLink = document.createElement('div');\n",
       "          docLink.innerHTML = docLinkHtml;\n",
       "          element.appendChild(docLink);\n",
       "        }\n",
       "      </script>\n",
       "    </div>\n",
       "  </div>\n",
       "  "
      ],
      "text/plain": [
       "            name                                            address  \\\n",
       "0   #FeelTheROLL  Opposite Mantri Commercio, Outer Ring Road, De...   \n",
       "1     #L-81 Cafe                          Sector 6, HSR Layout, HSR   \n",
       "2     #L-81 Cafe                          Sector 6, HSR Layout, HSR   \n",
       "3  #Vibes Restro  Marasur Gate, Chandapura - Anekal Road, Near A...   \n",
       "4  #Vibes Restro  Marasur Gate, Chandapura - Anekal Road, Near A...   \n",
       "\n",
       "                                   listed_in(type)_x  \\\n",
       "0                               [Delivery, Delivery]   \n",
       "1  [Delivery, Dine-out, Delivery, Dine-out, Deliv...   \n",
       "2  [Delivery, Dine-out, Delivery, Dine-out, Deliv...   \n",
       "3                       [Buffet, Delivery, Dine-out]   \n",
       "4                       [Buffet, Delivery, Dine-out]   \n",
       "\n",
       "                                                 url online_order book_table  \\\n",
       "0  https://www.zomato.com/bangalore/feeltheroll-b...           No         No   \n",
       "1  https://www.zomato.com/bangalore/l-81-cafe-hsr...          Yes         No   \n",
       "2  https://www.zomato.com/bangalore/l-81-cafe-hsr...          Yes         No   \n",
       "3  https://www.zomato.com/bangalore/vibes-restro-...           No         No   \n",
       "4  https://www.zomato.com/bangalore/vibes-restro-...           No         No   \n",
       "\n",
       "    rate  votes                             phone         location  \\\n",
       "0  3.4/5      7  +91 9108342079\\r\\n+91 9886117901        Bellandur   \n",
       "1  3.9/5     48                    +91 9986210891              HSR   \n",
       "2  3.9/5     48                    +91 9986210891              HSR   \n",
       "3    NaN      0                    +91 9538911285  Electronic City   \n",
       "4    NaN      0                    +91 9538911285  Electronic City   \n",
       "\n",
       "       rest_type dish_liked                       cuisines  \\\n",
       "0    Quick Bites        nan                      Fast Food   \n",
       "1    Quick Bites    Burgers           Fast Food, Beverages   \n",
       "2    Quick Bites    Burgers           Fast Food, Beverages   \n",
       "3  Casual Dining        nan  Continental, Chinese, Italian   \n",
       "4  Casual Dining        nan  Continental, Chinese, Italian   \n",
       "\n",
       "  approx_cost(for two people)  \\\n",
       "0                         200   \n",
       "1                         400   \n",
       "2                         400   \n",
       "3                         700   \n",
       "4                         700   \n",
       "\n",
       "                                        reviews_list menu_item  \\\n",
       "0  [('rated 5.0', \"rated\\n  had an egg chicken ro...        []   \n",
       "1  [('rated 4.0', 'rated\\n  this little cafe is s...        []   \n",
       "2  [('rated 4.0', 'rated\\n  this little cafe is s...        []   \n",
       "3  [('rated 5.0', \"rated\\n  great service and don...        []   \n",
       "4  [('rated 5.0', \"rated\\n  great service and don...        []   \n",
       "\n",
       "  listed_in(type)_y  listed_in(city) rating  \\\n",
       "0          Delivery        Bellandur      1   \n",
       "1          Delivery              BTM      1   \n",
       "2          Dine-out              BTM      1   \n",
       "3            Buffet  Electronic City    NaN   \n",
       "4          Delivery  Electronic City    NaN   \n",
       "\n",
       "                                                text  \n",
       "0  [('rated 5.0', \"rated\\n  had an egg chicken ro...  \n",
       "1  [('rated 4.0', 'rated\\n  this little cafe is s...  \n",
       "2  [('rated 4.0', 'rated\\n  this little cafe is s...  \n",
       "3  [('rated 5.0', \"rated\\n  great service and don...  \n",
       "4  [('rated 5.0', \"rated\\n  great service and don...  "
      ]
     },
     "execution_count": 70,
     "metadata": {},
     "output_type": "execute_result"
    }
   ],
   "source": [
    "newdata.head(5)"
   ]
  },
  {
   "cell_type": "code",
   "execution_count": 71,
   "metadata": {
    "colab": {
     "base_uri": "https://localhost:8080/",
     "height": 206
    },
    "id": "VWHXcX6SqhNS",
    "outputId": "abed78aa-8f41-4ffa-961d-14a8aa3da223"
   },
   "outputs": [
    {
     "data": {
      "text/html": [
       "\n",
       "  <div id=\"df-6973586b-5d7d-4daa-b3c1-3dfc1f6db732\">\n",
       "    <div class=\"colab-df-container\">\n",
       "      <div>\n",
       "<style scoped>\n",
       "    .dataframe tbody tr th:only-of-type {\n",
       "        vertical-align: middle;\n",
       "    }\n",
       "\n",
       "    .dataframe tbody tr th {\n",
       "        vertical-align: top;\n",
       "    }\n",
       "\n",
       "    .dataframe thead th {\n",
       "        text-align: right;\n",
       "    }\n",
       "</style>\n",
       "<table border=\"1\" class=\"dataframe\">\n",
       "  <thead>\n",
       "    <tr style=\"text-align: right;\">\n",
       "      <th></th>\n",
       "      <th>text</th>\n",
       "      <th>rating</th>\n",
       "    </tr>\n",
       "  </thead>\n",
       "  <tbody>\n",
       "    <tr>\n",
       "      <th>0</th>\n",
       "      <td>[('rated 5.0', \"rated\\n  had an egg chicken ro...</td>\n",
       "      <td>1</td>\n",
       "    </tr>\n",
       "    <tr>\n",
       "      <th>1</th>\n",
       "      <td>[('rated 4.0', 'rated\\n  this little cafe is s...</td>\n",
       "      <td>1</td>\n",
       "    </tr>\n",
       "    <tr>\n",
       "      <th>2</th>\n",
       "      <td>[('rated 4.0', 'rated\\n  this little cafe is s...</td>\n",
       "      <td>1</td>\n",
       "    </tr>\n",
       "    <tr>\n",
       "      <th>3</th>\n",
       "      <td>[('rated 5.0', \"rated\\n  great service and don...</td>\n",
       "      <td>NaN</td>\n",
       "    </tr>\n",
       "    <tr>\n",
       "      <th>4</th>\n",
       "      <td>[('rated 5.0', \"rated\\n  great service and don...</td>\n",
       "      <td>NaN</td>\n",
       "    </tr>\n",
       "  </tbody>\n",
       "</table>\n",
       "</div>\n",
       "      <button class=\"colab-df-convert\" onclick=\"convertToInteractive('df-6973586b-5d7d-4daa-b3c1-3dfc1f6db732')\"\n",
       "              title=\"Convert this dataframe to an interactive table.\"\n",
       "              style=\"display:none;\">\n",
       "        \n",
       "  <svg xmlns=\"http://www.w3.org/2000/svg\" height=\"24px\"viewBox=\"0 0 24 24\"\n",
       "       width=\"24px\">\n",
       "    <path d=\"M0 0h24v24H0V0z\" fill=\"none\"/>\n",
       "    <path d=\"M18.56 5.44l.94 2.06.94-2.06 2.06-.94-2.06-.94-.94-2.06-.94 2.06-2.06.94zm-11 1L8.5 8.5l.94-2.06 2.06-.94-2.06-.94L8.5 2.5l-.94 2.06-2.06.94zm10 10l.94 2.06.94-2.06 2.06-.94-2.06-.94-.94-2.06-.94 2.06-2.06.94z\"/><path d=\"M17.41 7.96l-1.37-1.37c-.4-.4-.92-.59-1.43-.59-.52 0-1.04.2-1.43.59L10.3 9.45l-7.72 7.72c-.78.78-.78 2.05 0 2.83L4 21.41c.39.39.9.59 1.41.59.51 0 1.02-.2 1.41-.59l7.78-7.78 2.81-2.81c.8-.78.8-2.07 0-2.86zM5.41 20L4 18.59l7.72-7.72 1.47 1.35L5.41 20z\"/>\n",
       "  </svg>\n",
       "      </button>\n",
       "      \n",
       "  <style>\n",
       "    .colab-df-container {\n",
       "      display:flex;\n",
       "      flex-wrap:wrap;\n",
       "      gap: 12px;\n",
       "    }\n",
       "\n",
       "    .colab-df-convert {\n",
       "      background-color: #E8F0FE;\n",
       "      border: none;\n",
       "      border-radius: 50%;\n",
       "      cursor: pointer;\n",
       "      display: none;\n",
       "      fill: #1967D2;\n",
       "      height: 32px;\n",
       "      padding: 0 0 0 0;\n",
       "      width: 32px;\n",
       "    }\n",
       "\n",
       "    .colab-df-convert:hover {\n",
       "      background-color: #E2EBFA;\n",
       "      box-shadow: 0px 1px 2px rgba(60, 64, 67, 0.3), 0px 1px 3px 1px rgba(60, 64, 67, 0.15);\n",
       "      fill: #174EA6;\n",
       "    }\n",
       "\n",
       "    [theme=dark] .colab-df-convert {\n",
       "      background-color: #3B4455;\n",
       "      fill: #D2E3FC;\n",
       "    }\n",
       "\n",
       "    [theme=dark] .colab-df-convert:hover {\n",
       "      background-color: #434B5C;\n",
       "      box-shadow: 0px 1px 3px 1px rgba(0, 0, 0, 0.15);\n",
       "      filter: drop-shadow(0px 1px 2px rgba(0, 0, 0, 0.3));\n",
       "      fill: #FFFFFF;\n",
       "    }\n",
       "  </style>\n",
       "\n",
       "      <script>\n",
       "        const buttonEl =\n",
       "          document.querySelector('#df-6973586b-5d7d-4daa-b3c1-3dfc1f6db732 button.colab-df-convert');\n",
       "        buttonEl.style.display =\n",
       "          google.colab.kernel.accessAllowed ? 'block' : 'none';\n",
       "\n",
       "        async function convertToInteractive(key) {\n",
       "          const element = document.querySelector('#df-6973586b-5d7d-4daa-b3c1-3dfc1f6db732');\n",
       "          const dataTable =\n",
       "            await google.colab.kernel.invokeFunction('convertToInteractive',\n",
       "                                                     [key], {});\n",
       "          if (!dataTable) return;\n",
       "\n",
       "          const docLinkHtml = 'Like what you see? Visit the ' +\n",
       "            '<a target=\"_blank\" href=https://colab.research.google.com/notebooks/data_table.ipynb>data table notebook</a>'\n",
       "            + ' to learn more about interactive tables.';\n",
       "          element.innerHTML = '';\n",
       "          dataTable['output_type'] = 'display_data';\n",
       "          await google.colab.output.renderOutput(dataTable, element);\n",
       "          const docLink = document.createElement('div');\n",
       "          docLink.innerHTML = docLinkHtml;\n",
       "          element.appendChild(docLink);\n",
       "        }\n",
       "      </script>\n",
       "    </div>\n",
       "  </div>\n",
       "  "
      ],
      "text/plain": [
       "                                                text rating\n",
       "0  [('rated 5.0', \"rated\\n  had an egg chicken ro...      1\n",
       "1  [('rated 4.0', 'rated\\n  this little cafe is s...      1\n",
       "2  [('rated 4.0', 'rated\\n  this little cafe is s...      1\n",
       "3  [('rated 5.0', \"rated\\n  great service and don...    NaN\n",
       "4  [('rated 5.0', \"rated\\n  great service and don...    NaN"
      ]
     },
     "execution_count": 71,
     "metadata": {},
     "output_type": "execute_result"
    }
   ],
   "source": [
    "# Creating a new dataset with text and restaurant ratings\n",
    "text_data = newdata[[\"text\", \"rating\"]]\n",
    "text_data.head()"
   ]
  },
  {
   "cell_type": "code",
   "execution_count": 72,
   "metadata": {
    "colab": {
     "base_uri": "https://localhost:8080/",
     "height": 105
    },
    "id": "lf6rLNzeI_Mc",
    "outputId": "59d52e74-1d86-4e41-b26d-387423114597"
   },
   "outputs": [
    {
     "data": {
      "application/vnd.google.colaboratory.intrinsic+json": {
       "type": "string"
      },
      "text/plain": [
       "'[(\\'rated 5.0\\', \"rated\\\\n  had an egg chicken roll and a paneer roll... really yummy... a must visit place... it would be good if you guys can keep the shop open on sunday\\'s as well.. good luck... :-)\"), (\\'rated 5.0\\', \\'rated\\\\n  not just the roll but the filling tastes great. i would highly recommend to others to try their rolls. owners hospitality is also good and very friendly.\\'), (\\'rated 4.5\\', \\'rated\\\\n  very nice place complete value for money ? highly recommend.must visit for any foodie . i would recommend the egg chicken roll . #feeltheroll\\'), (\\'rated 5.0\\', \\'rated\\\\n  had an amazing mouth-watering ?chicken roll?worth every bite..a must try for every foodie?a variety of rolls and sandwiches are available as well .. a budding rafflesia ?\\')] [] nan Fast Food'"
      ]
     },
     "execution_count": 72,
     "metadata": {},
     "output_type": "execute_result"
    }
   ],
   "source": [
    "text_data['text'][0]"
   ]
  },
  {
   "cell_type": "markdown",
   "metadata": {
    "id": "Zle9jZRpqhNY"
   },
   "source": [
    "   applying\n",
    "\n",
    "    a.lowercase\n",
    "\n",
    "    b.tokenization\n",
    "\n",
    "    c.remove stopwords\n",
    "\n",
    "    d.lemmatization **"
   ]
  },
  {
   "cell_type": "code",
   "execution_count": 73,
   "metadata": {
    "id": "3bWH96JbqhNY"
   },
   "outputs": [],
   "source": [
    "# Converting text to lowercase\n",
    "text_data[\"text\"] = text_data[\"text\"].apply(lambda x: x.lower())"
   ]
  },
  {
   "cell_type": "code",
   "execution_count": 74,
   "metadata": {
    "colab": {
     "base_uri": "https://localhost:8080/"
    },
    "id": "kP_IMys3qhNY",
    "outputId": "b51e15e1-d09f-46ff-a91a-61731964fc91"
   },
   "outputs": [
    {
     "data": {
      "text/plain": [
       "(20915, 2)"
      ]
     },
     "execution_count": 74,
     "metadata": {},
     "output_type": "execute_result"
    }
   ],
   "source": [
    "text_data.shape"
   ]
  },
  {
   "cell_type": "code",
   "execution_count": 75,
   "metadata": {
    "colab": {
     "base_uri": "https://localhost:8080/",
     "height": 206
    },
    "id": "Ws42gwgGqhNY",
    "outputId": "64209cb0-8d6e-4853-9556-42307f967c41"
   },
   "outputs": [
    {
     "data": {
      "text/html": [
       "\n",
       "  <div id=\"df-cd77d5c0-e9a6-4551-92c1-e82b4b83ec8a\">\n",
       "    <div class=\"colab-df-container\">\n",
       "      <div>\n",
       "<style scoped>\n",
       "    .dataframe tbody tr th:only-of-type {\n",
       "        vertical-align: middle;\n",
       "    }\n",
       "\n",
       "    .dataframe tbody tr th {\n",
       "        vertical-align: top;\n",
       "    }\n",
       "\n",
       "    .dataframe thead th {\n",
       "        text-align: right;\n",
       "    }\n",
       "</style>\n",
       "<table border=\"1\" class=\"dataframe\">\n",
       "  <thead>\n",
       "    <tr style=\"text-align: right;\">\n",
       "      <th></th>\n",
       "      <th>text</th>\n",
       "      <th>rating</th>\n",
       "    </tr>\n",
       "  </thead>\n",
       "  <tbody>\n",
       "    <tr>\n",
       "      <th>0</th>\n",
       "      <td>[('rated 3.0', 'rated\\n  ordered hot and sour ...</td>\n",
       "      <td>1</td>\n",
       "    </tr>\n",
       "    <tr>\n",
       "      <th>1</th>\n",
       "      <td>[('rated 2.0', 'rated\\n  avoid it guys not so ...</td>\n",
       "      <td>NaN</td>\n",
       "    </tr>\n",
       "    <tr>\n",
       "      <th>2</th>\n",
       "      <td>[('rated 4.0', 'rated\\n  this review is based ...</td>\n",
       "      <td>1</td>\n",
       "    </tr>\n",
       "    <tr>\n",
       "      <th>3</th>\n",
       "      <td>[] [] nan bakery, desserts</td>\n",
       "      <td>NaN</td>\n",
       "    </tr>\n",
       "    <tr>\n",
       "      <th>4</th>\n",
       "      <td>[] [] nan north indian, chinese, biryani</td>\n",
       "      <td>NaN</td>\n",
       "    </tr>\n",
       "  </tbody>\n",
       "</table>\n",
       "</div>\n",
       "      <button class=\"colab-df-convert\" onclick=\"convertToInteractive('df-cd77d5c0-e9a6-4551-92c1-e82b4b83ec8a')\"\n",
       "              title=\"Convert this dataframe to an interactive table.\"\n",
       "              style=\"display:none;\">\n",
       "        \n",
       "  <svg xmlns=\"http://www.w3.org/2000/svg\" height=\"24px\"viewBox=\"0 0 24 24\"\n",
       "       width=\"24px\">\n",
       "    <path d=\"M0 0h24v24H0V0z\" fill=\"none\"/>\n",
       "    <path d=\"M18.56 5.44l.94 2.06.94-2.06 2.06-.94-2.06-.94-.94-2.06-.94 2.06-2.06.94zm-11 1L8.5 8.5l.94-2.06 2.06-.94-2.06-.94L8.5 2.5l-.94 2.06-2.06.94zm10 10l.94 2.06.94-2.06 2.06-.94-2.06-.94-.94-2.06-.94 2.06-2.06.94z\"/><path d=\"M17.41 7.96l-1.37-1.37c-.4-.4-.92-.59-1.43-.59-.52 0-1.04.2-1.43.59L10.3 9.45l-7.72 7.72c-.78.78-.78 2.05 0 2.83L4 21.41c.39.39.9.59 1.41.59.51 0 1.02-.2 1.41-.59l7.78-7.78 2.81-2.81c.8-.78.8-2.07 0-2.86zM5.41 20L4 18.59l7.72-7.72 1.47 1.35L5.41 20z\"/>\n",
       "  </svg>\n",
       "      </button>\n",
       "      \n",
       "  <style>\n",
       "    .colab-df-container {\n",
       "      display:flex;\n",
       "      flex-wrap:wrap;\n",
       "      gap: 12px;\n",
       "    }\n",
       "\n",
       "    .colab-df-convert {\n",
       "      background-color: #E8F0FE;\n",
       "      border: none;\n",
       "      border-radius: 50%;\n",
       "      cursor: pointer;\n",
       "      display: none;\n",
       "      fill: #1967D2;\n",
       "      height: 32px;\n",
       "      padding: 0 0 0 0;\n",
       "      width: 32px;\n",
       "    }\n",
       "\n",
       "    .colab-df-convert:hover {\n",
       "      background-color: #E2EBFA;\n",
       "      box-shadow: 0px 1px 2px rgba(60, 64, 67, 0.3), 0px 1px 3px 1px rgba(60, 64, 67, 0.15);\n",
       "      fill: #174EA6;\n",
       "    }\n",
       "\n",
       "    [theme=dark] .colab-df-convert {\n",
       "      background-color: #3B4455;\n",
       "      fill: #D2E3FC;\n",
       "    }\n",
       "\n",
       "    [theme=dark] .colab-df-convert:hover {\n",
       "      background-color: #434B5C;\n",
       "      box-shadow: 0px 1px 3px 1px rgba(0, 0, 0, 0.15);\n",
       "      filter: drop-shadow(0px 1px 2px rgba(0, 0, 0, 0.3));\n",
       "      fill: #FFFFFF;\n",
       "    }\n",
       "  </style>\n",
       "\n",
       "      <script>\n",
       "        const buttonEl =\n",
       "          document.querySelector('#df-cd77d5c0-e9a6-4551-92c1-e82b4b83ec8a button.colab-df-convert');\n",
       "        buttonEl.style.display =\n",
       "          google.colab.kernel.accessAllowed ? 'block' : 'none';\n",
       "\n",
       "        async function convertToInteractive(key) {\n",
       "          const element = document.querySelector('#df-cd77d5c0-e9a6-4551-92c1-e82b4b83ec8a');\n",
       "          const dataTable =\n",
       "            await google.colab.kernel.invokeFunction('convertToInteractive',\n",
       "                                                     [key], {});\n",
       "          if (!dataTable) return;\n",
       "\n",
       "          const docLinkHtml = 'Like what you see? Visit the ' +\n",
       "            '<a target=\"_blank\" href=https://colab.research.google.com/notebooks/data_table.ipynb>data table notebook</a>'\n",
       "            + ' to learn more about interactive tables.';\n",
       "          element.innerHTML = '';\n",
       "          dataTable['output_type'] = 'display_data';\n",
       "          await google.colab.output.renderOutput(dataTable, element);\n",
       "          const docLink = document.createElement('div');\n",
       "          docLink.innerHTML = docLinkHtml;\n",
       "          element.appendChild(docLink);\n",
       "        }\n",
       "      </script>\n",
       "    </div>\n",
       "  </div>\n",
       "  "
      ],
      "text/plain": [
       "                                                text rating\n",
       "0  [('rated 3.0', 'rated\\n  ordered hot and sour ...      1\n",
       "1  [('rated 2.0', 'rated\\n  avoid it guys not so ...    NaN\n",
       "2  [('rated 4.0', 'rated\\n  this review is based ...      1\n",
       "3                         [] [] nan bakery, desserts    NaN\n",
       "4           [] [] nan north indian, chinese, biryani    NaN"
      ]
     },
     "execution_count": 75,
     "metadata": {},
     "output_type": "execute_result"
    }
   ],
   "source": [
    "df=text_data.sample(n=2000)\n",
    "df.reset_index(inplace=True)\n",
    "df.drop('index',axis=1,inplace=True)\n",
    "df.head()"
   ]
  },
  {
   "cell_type": "code",
   "execution_count": 76,
   "metadata": {
    "colab": {
     "base_uri": "https://localhost:8080/"
    },
    "id": "9025wmV7qhNZ",
    "outputId": "a65ade00-983d-4bff-daba-e3ebaa95b8b4"
   },
   "outputs": [
    {
     "data": {
      "text/plain": [
       "text        0\n",
       "rating    404\n",
       "dtype: int64"
      ]
     },
     "execution_count": 76,
     "metadata": {},
     "output_type": "execute_result"
    }
   ],
   "source": [
    "df.isnull().sum()"
   ]
  },
  {
   "cell_type": "code",
   "execution_count": 77,
   "metadata": {
    "id": "WNzSt4jlqhNZ"
   },
   "outputs": [],
   "source": [
    "df.dropna(inplace=True)"
   ]
  },
  {
   "cell_type": "code",
   "execution_count": 78,
   "metadata": {
    "colab": {
     "base_uri": "https://localhost:8080/"
    },
    "id": "KO1CeLihqhNa",
    "outputId": "626074f7-d41c-4640-a750-41883fee1fdf"
   },
   "outputs": [
    {
     "data": {
      "text/plain": [
       "(1596, 2)"
      ]
     },
     "execution_count": 78,
     "metadata": {},
     "output_type": "execute_result"
    }
   ],
   "source": [
    "df.shape"
   ]
  },
  {
   "cell_type": "code",
   "execution_count": 79,
   "metadata": {
    "colab": {
     "base_uri": "https://localhost:8080/"
    },
    "id": "Ck6MfwUGqhNa",
    "outputId": "a2f564cf-bb67-4170-90ea-db6ca9fc4349"
   },
   "outputs": [
    {
     "data": {
      "text/plain": [
       "1596"
      ]
     },
     "execution_count": 79,
     "metadata": {},
     "output_type": "execute_result"
    }
   ],
   "source": [
    "# Tokenizing the text as we have to remove stopwords from data\n",
    "tokens = df[\"text\"].apply(tokenizer.tokenize) \n",
    "len(tokens)\n"
   ]
  },
  {
   "cell_type": "code",
   "execution_count": 80,
   "metadata": {
    "id": "DXuvZ4zeqhNb"
   },
   "outputs": [],
   "source": [
    "# Removing stopwords \n",
    "tokens = tokens.apply(lambda x: [token for token in x if token not in stop])"
   ]
  },
  {
   "cell_type": "code",
   "execution_count": 80,
   "metadata": {
    "id": "F82bpm9nNxW3"
   },
   "outputs": [],
   "source": []
  },
  {
   "cell_type": "markdown",
   "metadata": {
    "id": "om8jEvrIOvXE"
   },
   "source": [
    "**using lemitaizations**"
   ]
  },
  {
   "cell_type": "code",
   "execution_count": 81,
   "metadata": {
    "colab": {
     "base_uri": "https://localhost:8080/"
    },
    "id": "iGktOg-NPGX_",
    "outputId": "e38540d1-52c0-4bc2-e9d5-12d573caf607"
   },
   "outputs": [
    {
     "name": "stdout",
     "output_type": "stream",
     "text": [
      "[nltk_data] Downloading package wordnet to /root/nltk_data...\n",
      "[nltk_data]   Unzipping corpora/wordnet.zip.\n"
     ]
    },
    {
     "data": {
      "text/plain": [
       "True"
      ]
     },
     "execution_count": 81,
     "metadata": {},
     "output_type": "execute_result"
    }
   ],
   "source": [
    "import nltk\n",
    "nltk.download('wordnet')"
   ]
  },
  {
   "cell_type": "code",
   "execution_count": 82,
   "metadata": {
    "id": "0PhI3iHCqhNb"
   },
   "outputs": [],
   "source": [
    "from nltk.stem import WordNetLemmatizer\n",
    "\n",
    "wl = WordNetLemmatizer()\n",
    "\n",
    "def lem(text): # Writing a function to lemmatize words\n",
    "  return [wl.lemmatize(word) for word in text]"
   ]
  },
  {
   "cell_type": "code",
   "execution_count": 83,
   "metadata": {
    "id": "Aca1_xLVOoAw"
   },
   "outputs": [],
   "source": [
    "# Applying the function to each row of the text\n",
    "# i.e. reducing each word to its lemma\n",
    "tokens_new = tokens.apply(lem)    "
   ]
  },
  {
   "cell_type": "code",
   "execution_count": 84,
   "metadata": {
    "colab": {
     "base_uri": "https://localhost:8080/"
    },
    "id": "gCk1x830qhNc",
    "outputId": "6d1b00f4-45d8-447e-997d-62058ee1a4a7"
   },
   "outputs": [
    {
     "data": {
      "text/plain": [
       "0    [ordered, hot, sour, chicken, soup, junglee, c...\n",
       "2    [review, based, take, away, nthis, one, place,...\n",
       "6    [wanted, try, cupcake, could, reach, place, ca...\n",
       "7    [love, place, like, dose, got, dilivery, late,...\n",
       "8    [place, couple, time, fan, burrito, grilled, t...\n",
       "Name: text, dtype: object"
      ]
     },
     "execution_count": 84,
     "metadata": {},
     "output_type": "execute_result"
    }
   ],
   "source": [
    "tokens_new.head()"
   ]
  },
  {
   "cell_type": "code",
   "execution_count": 84,
   "metadata": {
    "id": "bQALTyZvqhNc"
   },
   "outputs": [],
   "source": []
  },
  {
   "cell_type": "markdown",
   "metadata": {
    "id": "SYCclNT8TwsU"
   },
   "source": [
    "**Performing Feature Encoding**"
   ]
  },
  {
   "cell_type": "code",
   "execution_count": 85,
   "metadata": {
    "colab": {
     "base_uri": "https://localhost:8080/"
    },
    "id": "2X1EshloqhNc",
    "outputId": "4797f7c6-f9d4-4067-a2c2-c4c034c05a92"
   },
   "outputs": [
    {
     "data": {
      "text/plain": [
       "CategoricalDtype(categories=['0', '1', '2'], ordered=True)"
      ]
     },
     "execution_count": 85,
     "metadata": {},
     "output_type": "execute_result"
    }
   ],
   "source": [
    "df['rating'].dtype"
   ]
  },
  {
   "cell_type": "code",
   "execution_count": 86,
   "metadata": {
    "id": "lwRga0ADqhNd"
   },
   "outputs": [],
   "source": [
    "from sklearn.preprocessing import LabelEncoder"
   ]
  },
  {
   "cell_type": "code",
   "execution_count": 87,
   "metadata": {
    "id": "zv0LaxrJqhNd"
   },
   "outputs": [],
   "source": [
    "le=LabelEncoder()"
   ]
  },
  {
   "cell_type": "code",
   "execution_count": 88,
   "metadata": {
    "id": "FKwXp5-7qhNd"
   },
   "outputs": [],
   "source": [
    "df['rating']=le.fit_transform(df['rating'])"
   ]
  },
  {
   "cell_type": "markdown",
   "metadata": {
    "id": "lHV7EoyRh55W"
   },
   "source": [
    "**Applying TF-IDF**"
   ]
  },
  {
   "cell_type": "code",
   "execution_count": 89,
   "metadata": {
    "colab": {
     "base_uri": "https://localhost:8080/",
     "height": 53
    },
    "id": "s6xVEvFSqhNe",
    "outputId": "bc07a2bc-2bed-4efb-ed42-7720b45b9f2c"
   },
   "outputs": [
    {
     "data": {
      "application/vnd.google.colaboratory.intrinsic+json": {
       "type": "string"
      },
      "text/plain": [
       "'ordered hot sour chicken soup junglee chicken friday evening soup okayish nothing hot sour manchow without noodle hell load black pepper junglee chicken egg curry piece nin taste food average seafood'"
      ]
     },
     "execution_count": 89,
     "metadata": {},
     "output_type": "execute_result"
    }
   ],
   "source": [
    "' '.join(tokens_new[0])"
   ]
  },
  {
   "cell_type": "code",
   "execution_count": 90,
   "metadata": {
    "id": "XIjDn6hOqhNe"
   },
   "outputs": [],
   "source": [
    "## collect entire data into corpus as we have to NLP techniques to this corpus to convert it into some vectors\n",
    "corpus=[]\n",
    "for i in tokens_new.index:\n",
    "    review=' '.join(tokens_new[i])\n",
    "    corpus.append(review)\n",
    "    "
   ]
  },
  {
   "cell_type": "code",
   "execution_count": 91,
   "metadata": {
    "id": "CeTWunppqhNe"
   },
   "outputs": [],
   "source": [
    "# Creating the TF_IDF model\n",
    "from sklearn.feature_extraction.text import TfidfVectorizer\n",
    "cv = TfidfVectorizer()\n",
    "X = cv.fit_transform(corpus).toarray()"
   ]
  },
  {
   "cell_type": "code",
   "execution_count": 92,
   "metadata": {
    "colab": {
     "base_uri": "https://localhost:8080/"
    },
    "id": "vzH06iEKqhNf",
    "outputId": "aaa51b46-8c04-4f99-d101-2d9eecbf8ad7"
   },
   "outputs": [
    {
     "data": {
      "text/plain": [
       "(1596, 23846)"
      ]
     },
     "execution_count": 92,
     "metadata": {},
     "output_type": "execute_result"
    }
   ],
   "source": [
    "X.shape"
   ]
  },
  {
   "cell_type": "markdown",
   "metadata": {
    "id": "nGAkituHjHYc"
   },
   "source": [
    "**Applying Different machine learning algorithm**"
   ]
  },
  {
   "cell_type": "markdown",
   "metadata": {
    "id": "otkwOaI3jRMk"
   },
   "source": [
    "**Logistic Regressions**"
   ]
  },
  {
   "cell_type": "code",
   "execution_count": 93,
   "metadata": {
    "id": "_jRV0GPnqhNf"
   },
   "outputs": [],
   "source": [
    "from sklearn.model_selection import train_test_split"
   ]
  },
  {
   "cell_type": "code",
   "execution_count": 94,
   "metadata": {
    "id": "lwnSjdhOqhNf"
   },
   "outputs": [],
   "source": [
    "# Splitting the data into train and test sets (stratified)\n",
    "X_train, X_test, y_train, y_test = train_test_split(X, df['rating'], test_size = 0.3, random_state = 0,stratify=df['rating'])"
   ]
  },
  {
   "cell_type": "code",
   "execution_count": 95,
   "metadata": {
    "id": "uTRlb5wpqhNf"
   },
   "outputs": [],
   "source": [
    "from sklearn.linear_model import LogisticRegression"
   ]
  },
  {
   "cell_type": "code",
   "execution_count": 96,
   "metadata": {
    "id": "X9VB-7JZqhNg"
   },
   "outputs": [],
   "source": [
    "lr=LogisticRegression(multi_class='multinomial')"
   ]
  },
  {
   "cell_type": "code",
   "execution_count": 97,
   "metadata": {
    "colab": {
     "base_uri": "https://localhost:8080/"
    },
    "id": "FjBWkb9hqhNg",
    "outputId": "bde2abe0-afa1-4619-ac5a-406738d50768"
   },
   "outputs": [
    {
     "data": {
      "text/plain": [
       "LogisticRegression(multi_class='multinomial')"
      ]
     },
     "execution_count": 97,
     "metadata": {},
     "output_type": "execute_result"
    }
   ],
   "source": [
    "lr.fit(X_train,y_train)"
   ]
  },
  {
   "cell_type": "code",
   "execution_count": 98,
   "metadata": {
    "id": "4TxA8L_VqhNg"
   },
   "outputs": [],
   "source": [
    "# Make predictions.\n",
    "predictions =lr.predict(X_test)"
   ]
  },
  {
   "cell_type": "code",
   "execution_count": 99,
   "metadata": {
    "colab": {
     "base_uri": "https://localhost:8080/"
    },
    "id": "pLjWneHvqhNg",
    "outputId": "304b2f74-a702-4a58-ec6c-da5cf354d0d9"
   },
   "outputs": [
    {
     "name": "stdout",
     "output_type": "stream",
     "text": [
      "[[ 11   3   0]\n",
      " [ 80 318  45]\n",
      " [  0   4  18]]\n"
     ]
    }
   ],
   "source": [
    "# Compute the error.\n",
    "from sklearn.metrics import confusion_matrix\n",
    "print(confusion_matrix(predictions, y_test))"
   ]
  },
  {
   "cell_type": "code",
   "execution_count": 100,
   "metadata": {
    "colab": {
     "base_uri": "https://localhost:8080/"
    },
    "id": "BPihrBLFqhNg",
    "outputId": "b9f53052-c5e9-492e-f0b5-354a36f2fe78"
   },
   "outputs": [
    {
     "name": "stdout",
     "output_type": "stream",
     "text": [
      "0.7244258872651357\n",
      "\n",
      "\n"
     ]
    }
   ],
   "source": [
    "from sklearn.metrics import accuracy_score\n",
    "print(accuracy_score(predictions,y_test))\n",
    "print('\\n')"
   ]
  },
  {
   "cell_type": "markdown",
   "metadata": {
    "id": "hJ-ZGby2lt4_"
   },
   "source": [
    "**Applying classification Algorithms**"
   ]
  },
  {
   "cell_type": "code",
   "execution_count": 101,
   "metadata": {
    "id": "TB5d4OaRqhNh"
   },
   "outputs": [],
   "source": [
    "#fit naive bayes\n",
    "from sklearn.naive_bayes import GaussianNB\n",
    "from sklearn.linear_model import LogisticRegression\n",
    "from sklearn.neighbors import KNeighborsClassifier\n",
    "from sklearn.ensemble import RandomForestClassifier\n",
    "from sklearn.tree import DecisionTreeClassifier"
   ]
  },
  {
   "cell_type": "code",
   "execution_count": 102,
   "metadata": {
    "id": "7RA4RUB2qhNh"
   },
   "outputs": [],
   "source": [
    "### classifier models\n",
    "models = []\n",
    "models.append(('LogisticRegression', LogisticRegression()))\n",
    "models.append(('Naive Bayes',GaussianNB()))\n",
    "models.append(('RandomForest', RandomForestClassifier()))\n",
    "models.append(('Decision Tree', DecisionTreeClassifier()))\n",
    "models.append(('KNN', KNeighborsClassifier(n_neighbors = 5)))"
   ]
  },
  {
   "cell_type": "code",
   "execution_count": 103,
   "metadata": {
    "colab": {
     "base_uri": "https://localhost:8080/"
    },
    "id": "GUNKCcdrqhNh",
    "outputId": "ecb8ddc9-ff26-451f-be24-86588574ca2d"
   },
   "outputs": [
    {
     "name": "stdout",
     "output_type": "stream",
     "text": [
      "LogisticRegression\n",
      "[[ 11   3   0]\n",
      " [ 80 318  45]\n",
      " [  0   4  18]]\n",
      "0.7244258872651357\n",
      "\n",
      "\n",
      "Naive Bayes\n",
      "[[ 16  36   1]\n",
      " [ 58 223  30]\n",
      " [ 17  66  32]]\n",
      "0.5657620041753654\n",
      "\n",
      "\n",
      "RandomForest\n",
      "[[  7   0   0]\n",
      " [ 82 320  40]\n",
      " [  2   5  23]]\n",
      "0.7306889352818372\n",
      "\n",
      "\n",
      "Decision Tree\n",
      "[[ 28  54   0]\n",
      " [ 60 246  40]\n",
      " [  3  25  23]]\n",
      "0.6200417536534447\n",
      "\n",
      "\n",
      "KNN\n",
      "[[ 24  35   1]\n",
      " [ 59 257  29]\n",
      " [  8  33  33]]\n",
      "0.6555323590814196\n",
      "\n",
      "\n"
     ]
    }
   ],
   "source": [
    "# Make predictions on validation dataset\n",
    "from sklearn.metrics import confusion_matrix\n",
    "from sklearn.metrics import accuracy_score\n",
    "\n",
    "\n",
    "for name, model in models:\n",
    "    print(name)\n",
    "    model.fit(X_train, y_train)\n",
    "    \n",
    "    # Make predictions.\n",
    "    predictions = model.predict(X_test)\n",
    "\n",
    "    # Compute the error.\n",
    "    print(confusion_matrix(predictions, y_test))\n",
    "    \n",
    "    #accuracy score\n",
    "    print(accuracy_score(predictions,y_test))\n",
    "    print('\\n')"
   ]
  },
  {
   "cell_type": "markdown",
   "metadata": {
    "id": "593JzvEFx1Py"
   },
   "source": [
    "**cross validating my Logistic Regression model**"
   ]
  },
  {
   "cell_type": "code",
   "execution_count": 104,
   "metadata": {
    "id": "W2yRAehpqhNi"
   },
   "outputs": [],
   "source": [
    "from sklearn.model_selection import cross_val_score"
   ]
  },
  {
   "cell_type": "code",
   "execution_count": 105,
   "metadata": {
    "colab": {
     "base_uri": "https://localhost:8080/"
    },
    "id": "vj6RoMycqhNi",
    "outputId": "ae8eaf0e-0029-43b3-e254-0f78077e4cf5"
   },
   "outputs": [
    {
     "name": "stdout",
     "output_type": "stream",
     "text": [
      "0.7374862852664578\n"
     ]
    }
   ],
   "source": [
    "lr = LogisticRegression()\n",
    "print(cross_val_score(lr, X, df['rating'], cv=5, scoring ='accuracy').mean())"
   ]
  }
 ],
 "metadata": {
  "colab": {
   "collapsed_sections": [
    "wg7EJdTnqhM9",
    "X2NsqRZUqhNC",
    "MawW87tcqhNI",
    "ba3orHniqhNP"
   ],
   "name": "Zomato_ratings_predictions.ipynb",
   "provenance": []
  },
  "kernelspec": {
   "display_name": "Python 3 (ipykernel)",
   "language": "python",
   "name": "python3"
  },
  "language_info": {
   "codemirror_mode": {
    "name": "ipython",
    "version": 3
   },
   "file_extension": ".py",
   "mimetype": "text/x-python",
   "name": "python",
   "nbconvert_exporter": "python",
   "pygments_lexer": "ipython3",
   "version": "3.7.13"
  }
 },
 "nbformat": 4,
 "nbformat_minor": 1
}
